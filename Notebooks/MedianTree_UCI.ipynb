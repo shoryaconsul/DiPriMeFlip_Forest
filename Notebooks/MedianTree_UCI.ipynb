{
 "cells": [
  {
   "cell_type": "markdown",
   "metadata": {},
   "source": [
    "# Benchmarking performance of DiPrimeFlip\n",
    "\n",
    "This notebook can be used to replicate the experiments to compare the performance of DiPriMeFlip against various other tree-based methods."
   ]
  },
  {
   "cell_type": "code",
   "execution_count": 1,
   "metadata": {},
   "outputs": [],
   "source": [
    "%reload_ext autoreload\n",
    "%autoreload 2\n",
    "\n",
    "import numpy as np\n",
    "import numpy.random as rn\n",
    "import random\n",
    "import pandas as pd\n",
    "import csv\n",
    "import os\n",
    "from sklearn.model_selection import train_test_split\n",
    "from scipy.stats import t as student_t\n",
    "from tqdm import tqdm\n",
    "\n",
    "from matplotlib import pyplot as plt\n",
    "%matplotlib inline\n",
    "\n",
    "import warnings\n",
    "warnings.filterwarnings(\"ignore\")\n",
    "\n",
    "import sys\n",
    "sys.path.append(\"../Classes\")\n",
    "sys.path.append(\"../Baselines\")"
   ]
  },
  {
   "cell_type": "code",
   "execution_count": 2,
   "metadata": {},
   "outputs": [],
   "source": [
    "# Function to generate dictionary of attribute ranges/values \n",
    "## X: Data (M points x N features) (M,N) numpy\n",
    "## cat_idx: List of categorical feature indices\n",
    "def gen_attdict(X,cat_idx):\n",
    "    A = dict()\n",
    "    for j in range(np.shape(X)[1]):\n",
    "        if j in cat_idx:\n",
    "            A[j] = list(np.unique(X[:,j]))\n",
    "        else:\n",
    "            A[j] = np.array([np.amin(X[:,j]),np.amax(X[:,j])])\n",
    "    return A"
   ]
  },
  {
   "cell_type": "code",
   "execution_count": 3,
   "metadata": {},
   "outputs": [],
   "source": [
    "# Function to compute suitable depth of tree for tree based on number of samples and desired minimum leaf node occupancy.\n",
    "# The computation is done assuming that we learn balanced binary trees.\n",
    "# num_samples: Number of samples\n",
    "# min_occupacny: Desired minimum leaf node occupacny\n",
    "# num_bins: Number of children per node\n",
    "# partition: True if algorithm is trained on disjoint subsets of data\n",
    "# num_trees: Number of trees trained\n",
    "def tree_depth(num_samples, min_occupancy, num_bins=2, partition=False, num_trees=None):\n",
    "    if partition and num_trees is None:\n",
    "        raise ValueError(\"Need to specifiy number of trees if data is partitioned\")\n",
    "    if not partition:  # Each tree is trained on all the samples\n",
    "        d = np.floor(np.log(num_samples/min_occupancy)/np.log(num_bins))\n",
    "    else:  # Each tree is trained on a disjoint subset of the samples\n",
    "        d = np.floor(np.log(num_samples/(min_occupancy*num_trees))/np.log(num_bins))\n",
    "    return int(d)"
   ]
  },
  {
   "cell_type": "code",
   "execution_count": 4,
   "metadata": {},
   "outputs": [],
   "source": [
    "# Function to determine uncertainty in results (error or accuracy) using Student's t-distribution.\n",
    "# error_arr: (N_a, N_r) 2D numpy array of error/accuracy values, N_r is the number of runs for each algorithm\n",
    "# algo_names: List of lenght N_a of algorithm names\n",
    "# conf: % confidence interval\n",
    "# This function prints the result to console and returns None.\n",
    "def find_errors_with_bars(error_arr, algo_names, conf=0.95):\n",
    "    if np.shape(error_arr)[0] != len(algo_names):\n",
    "        raise ValueError('Number of rows of error_arr should match number of algorithms.')\n",
    "    for i in range(np.shape(error_arr)[0]):\n",
    "        error_mean = np.mean(error_arr[i])\n",
    "        error_conf = student_t.interval(0.95, df=num_runs-1, loc=0, scale=np.std(error_arr[i])/np.sqrt(num_runs))[1]\n",
    "        print('Error for ', algo_names[i], ' is ', error_mean, '+/-',error_conf)"
   ]
  },
  {
   "cell_type": "markdown",
   "metadata": {},
   "source": [
    "## Regression:"
   ]
  },
  {
   "cell_type": "code",
   "execution_count": 5,
   "metadata": {},
   "outputs": [],
   "source": [
    "from DiPrime import *\n",
    "from DiPrimeFlip import *\n",
    "from RandForest_DP import *\n",
    "from dprf_Reg import DPRF_Reg\n",
    "from sklearn.ensemble import RandomForestRegressor\n",
    "from sklearn.ensemble import ExtraTreesRegressor\n",
    "\n",
    "num_runs = 5  # Number of runs for each method\n",
    "algo_names = ['Random forest', 'ERT', 'Median trees', 'DP-RF', 'DiPriMe', 'DiPriMeFlip', 'DP Random Trees']"
   ]
  },
  {
   "cell_type": "markdown",
   "metadata": {},
   "source": [
    "### Parkinson's Telemonitoring\n",
    "This dataset has 5875 data points, with 26 attributes. We drop the subject# and motor UPDRS (another possible target). Only the sex attribute is categorical. The total UPDRS is taken as the target variable.\n",
    "\n",
    "Link: https://archive.ics.uci.edu/ml/datasets/Parkinsons+Telemonitoring \n",
    "\n",
    "#### Read data:"
   ]
  },
  {
   "cell_type": "code",
   "execution_count": 40,
   "metadata": {},
   "outputs": [],
   "source": [
    "data_path = \"../Datasets/Parkinsons_Telemonitoring/parkinsons_updrs.data\"\n",
    "df_raw = pd.read_csv(data_path).drop(columns=['subject#','motor_UPDRS'])\n",
    "attribute_names = df_raw.columns[:-1]\n",
    "df_y = df_raw.pop('total_UPDRS')\n",
    "df_raw['total_UPDRS'] = df_y\n",
    "\n",
    "df = pd.DataFrame()\n",
    "for col in df_raw.columns:\n",
    "    if col not in ['sex','total_UPDRS']:\n",
    "        df[col] = pd.cut(df_raw[col],bins=5,labels=False)\n",
    "    elif col != 'total_UPDRS':\n",
    "        df[col] = df_raw[col]\n",
    "df['total_UPDRS'] = df_raw['total_UPDRS']/df_raw['total_UPDRS'].max()\n",
    "\n",
    "Xycat = df.to_numpy()\n",
    "Xcat = Xycat[:,:-1]\n",
    "y = Xycat[:,-1]\n",
    "Xy = df_raw.to_numpy()"
   ]
  },
  {
   "cell_type": "code",
   "execution_count": 44,
   "metadata": {},
   "outputs": [
    {
     "name": "stderr",
     "output_type": "stream",
     "text": [
      "100%|██████████| 5/5 [00:10<00:00,  2.16s/it]\n"
     ]
    }
   ],
   "source": [
    "err_arr = np.zeros((7, num_runs))\n",
    "min_occ = 25  # Min leaf node occupancy\n",
    "\n",
    "cat_idx = [1]\n",
    "A = gen_attdict(Xy[:,:-1],cat_idx) \n",
    "bnds_y = np.array([0,1]) # Bound on target value\n",
    "Acat = gen_attdict(Xcat,list(range(Xcat.shape[1])))\n",
    "C = np.copy(bnds_y)\n",
    "\n",
    "for r in tqdm(range(num_runs)):\n",
    "    ## Train test split\n",
    "    train_size = int(np.floor(0.9*Xycat.shape[0]))\n",
    "    test_size = Xycat.shape[0]-train_size\n",
    "    shuffle_idx = rn.permutation(Xycat.shape[0])\n",
    "    \n",
    "    d_full = tree_depth(train_size, min_occ)\n",
    "    d_mult = tree_depth(train_size, min_occ, num_bins=5)\n",
    "    d_part = tree_depth(train_size, min_occ, partition=True, num_trees=10)\n",
    "\n",
    "    train_idx = shuffle_idx[:train_size]\n",
    "    test_idx = shuffle_idx[train_size:]\n",
    "\n",
    "    X_tr = Xy[train_idx,:-1]\n",
    "    X_tst = Xy[test_idx,:-1]\n",
    "    y_tr = Xy[train_idx,-1]\n",
    "    y_tst = Xy[test_idx,-1]\n",
    "\n",
    "    M,N = np.shape(X_tr)\n",
    "\n",
    "    X_tr_cat = Xcat[train_idx,:]\n",
    "    X_tst_cat = Xcat[test_idx,:]\n",
    "    y_tr = y[train_idx]\n",
    "    y_tst = y[test_idx]\n",
    "\n",
    "    rf = RandomForestRegressor(n_estimators=10,max_depth=d_full,min_samples_leaf=5,max_features=5)\n",
    "    rf.fit(X_tr,y_tr)\n",
    "    y_rf = rf.predict(X_tst)\n",
    "    err_rf = np.sum((y_tst-y_rf)**2/len(y_tst))\n",
    "    err_arr[0, r] = err_rf\n",
    "\n",
    "    rf_base = ExtraTreesRegressor(n_estimators=10,max_depth=d_full,min_samples_leaf=5,max_features=5)\n",
    "    rf_base.fit(X_tr,y_tr)\n",
    "    y_base = rf_base.predict(X_tst)\n",
    "    err_base = np.sum((y_tst-y_base)**2/len(y_tst))\n",
    "    err_arr[1, r] = err_base\n",
    "\n",
    "    mf = DiPrimeForest(n_trees=10,max_depth=d_full,max_features=5,partition=False)\n",
    "    mf.fit(X_tr,y_tr,A,cat_idx,bnds_y)\n",
    "    y_mf = mf.predict(X_tst,cat_idx)\n",
    "    err_mf = np.sum((y_tst-y_mf)**2/len(y_tst))\n",
    "    err_arr[2, r] = err_mf\n",
    "\n",
    "    dprf = DPRF_Reg(n_trees=10,max_depth=d_mult)\n",
    "    dprf.fit(X_tr_cat,y_tr,Acat,C,eps=10)\n",
    "    y_dprf = dprf.predict(X_tst_cat)\n",
    "    err_dprf = np.sum((y_tst-y_dprf)**2/len(y_tst))\n",
    "    err_arr[3, r] = err_dprf\n",
    "\n",
    "    dpmf = DiPrimeForest(n_trees=10,max_depth=d_part,max_features=5)\n",
    "    dpmf.fit(X_tr,y_tr,A,cat_idx,bnds_y,eps=10,b_med=0.5)\n",
    "    y_dpmf = dpmf.predict(X_tst,cat_idx)\n",
    "    err_dpmf = np.sum((y_tst-y_dpmf)**2/len(y_tst))\n",
    "    err_arr[4, r] = err_dpmf\n",
    "\n",
    "    dpdmf = DiPrimeFlipForest(n_trees=10,max_depth=d_part,max_features=5)\n",
    "    dpdmf.fit(X_tr,y_tr,A,cat_idx,bnds_y,eps=10,b_med=0.5)\n",
    "    y_dpdmf = dpdmf.predict(X_tst,cat_idx)\n",
    "    err_dpdmf = np.sum((y_tst-y_dpdmf)**2/len(y_tst))\n",
    "    err_arr[5, r] = err_dpdmf\n",
    "\n",
    "    dprf = DPRandForest(n_trees=10,max_depth=d_full,max_features=1)\n",
    "    dprf.fit(X_tr,y_tr,A,cat_idx,bnds_y,eps=20)\n",
    "    y_dprf = dprf.predict(X_tst,cat_idx)\n",
    "    err_dprf = np.sum((y_tst-y_dprf)**2/len(y_tst))\n",
    "    err_arr[6, r] = err_dprf"
   ]
  },
  {
   "cell_type": "code",
   "execution_count": 45,
   "metadata": {},
   "outputs": [
    {
     "name": "stdout",
     "output_type": "stream",
     "text": [
      "Error for  Random forest  is  0.015875300984921993 +/- 0.0011025902919289136\n",
      "Error for  ERT  is  0.027177478346181318 +/- 0.0015613735694329292\n",
      "Error for  Median trees  is  0.020298750863891362 +/- 0.0015047028269893562\n",
      "Error for  DP-RF  is  0.05214211747752181 +/- 0.024775406785690846\n",
      "Error for  DiPriMe  is  0.034538659023242144 +/- 0.0011838019614840158\n",
      "Error for  DiPriMeFlip  is  0.034127071256853665 +/- 0.0008969051023975686\n",
      "Error for  DP Random Trees  is  0.03592943343275815 +/- 0.002242755652471132\n"
     ]
    }
   ],
   "source": [
    "find_errors_with_bars(err_arr, algo_names, 0.95)"
   ]
  },
  {
   "cell_type": "markdown",
   "metadata": {},
   "source": [
    "### Appliances Energy Prediction\n",
    "The appliances energy prediction dataset has 19,375 data instances  with 29 attributes. rv1 and rv2 are dropped, while the month and day are extracted from the date. The appliances (energy) value is taken as the target variable.\n",
    "\n",
    "Link: https://archive.ics.uci.edu/ml/datasets/Appliances+energy+prediction\n",
    "\n",
    "#### Read data:"
   ]
  },
  {
   "cell_type": "code",
   "execution_count": 46,
   "metadata": {},
   "outputs": [
    {
     "name": "stdout",
     "output_type": "stream",
     "text": [
      "Index(['Appliances', 'lights', 'T1', 'RH_1', 'T2', 'RH_2', 'T3', 'RH_3', 'T4',\n",
      "       'RH_4', 'T5', 'RH_5', 'T6', 'RH_6', 'T7', 'RH_7', 'T8', 'RH_8', 'T9',\n",
      "       'RH_9', 'T_out', 'Press_mm_hg', 'RH_out', 'Windspeed', 'Visibility',\n",
      "       'Tdewpoint', 'Month', 'Day'],\n",
      "      dtype='object')\n"
     ]
    }
   ],
   "source": [
    "from datetime import date, datetime\n",
    "\n",
    "data_path = \"../Datasets/Appliances_Energy_Prediction/energydata_complete.csv\"\n",
    "df_raw = pd.read_csv(data_path)\n",
    "Mp,Np = df_raw.shape\n",
    "\n",
    "df_raw['Month'] = pd.Series([(datetime.strptime(df_raw.at[i,'date'],\"%Y-%m-%d %H:%M:%S\")\n",
    "                                                         ).month for i in range(Mp)])\n",
    "df_raw['Day'] = pd.Series([(datetime.strptime(df_raw.at[i,'date'],\"%Y-%m-%d %H:%M:%S\")\n",
    "                                                         ).day for i in range(Mp)])\n",
    "del df_raw['date'], df_raw['rv1'], df_raw['rv2']\n",
    "print(df_raw.columns)\n",
    "\n",
    "df_y = df_raw.pop('Appliances')\n",
    "df_raw['Appliances'] = df_y\n",
    "\n",
    "df = pd.DataFrame()\n",
    "for col in df_raw.columns:\n",
    "    if col not in ['Month','Appliances']:\n",
    "        df[col] = pd.cut(df_raw[col],bins=5,labels=False)\n",
    "    elif col != 'Appliances':\n",
    "        df[col] = df_raw[col]\n",
    "        \n",
    "y_min, y_max = df_raw['Appliances'].min(),df_raw['Appliances'].max()\n",
    "df['Appliances'] = (df_raw['Appliances']-y_min)/(y_max-y_min)\n",
    "\n",
    "Xycat = df.to_numpy()\n",
    "Xcat = Xycat[:,:-1]\n",
    "y = Xycat[:,-1]\n",
    "Xy = df_raw.to_numpy()"
   ]
  },
  {
   "cell_type": "code",
   "execution_count": 49,
   "metadata": {},
   "outputs": [
    {
     "name": "stderr",
     "output_type": "stream",
     "text": [
      "100%|██████████| 5/5 [00:52<00:00, 10.51s/it]\n"
     ]
    }
   ],
   "source": [
    "err_arr = np.zeros((7, num_runs))\n",
    "min_occ = 25  # Min leaf node occupancy\n",
    "\n",
    "cat_idx = [25]\n",
    "A = gen_attdict(Xy[:,:-1],cat_idx) \n",
    "bnds_y = np.array([0,1]) # Bound on target value\n",
    "Acat = gen_attdict(Xcat,list(range(Xcat.shape[1])))\n",
    "C = np.copy(bnds_y)\n",
    "\n",
    "for r in tqdm(range(num_runs)):\n",
    "    ## Train test split\n",
    "    train_size = int(np.floor(0.9*Xycat.shape[0]))\n",
    "    test_size = Xycat.shape[0]-train_size\n",
    "    shuffle_idx = rn.permutation(Xycat.shape[0])\n",
    "    \n",
    "    d_full = tree_depth(train_size, min_occ)\n",
    "    d_mult = tree_depth(train_size, min_occ, num_bins=5)\n",
    "    d_part = tree_depth(train_size, min_occ, partition=True, num_trees=10)\n",
    "\n",
    "    train_idx = shuffle_idx[:train_size]\n",
    "    test_idx = shuffle_idx[train_size:]\n",
    "\n",
    "    X_tr = Xy[train_idx,:-1]\n",
    "    X_tst = Xy[test_idx,:-1]\n",
    "    y_tr = Xy[train_idx,-1]\n",
    "    y_tst = Xy[test_idx,-1]\n",
    "\n",
    "    M,N = np.shape(X_tr)\n",
    "\n",
    "    X_tr_cat = Xcat[train_idx,:]\n",
    "    X_tst_cat = Xcat[test_idx,:]\n",
    "    y_tr = y[train_idx]\n",
    "    y_tst = y[test_idx]\n",
    "\n",
    "    rf = RandomForestRegressor(n_estimators=10,max_depth=d_full,min_samples_leaf=5,max_features=5)\n",
    "    rf.fit(X_tr,y_tr)\n",
    "    y_rf = rf.predict(X_tst)\n",
    "    err_rf = np.sum((y_tst-y_rf)**2/len(y_tst))\n",
    "    err_arr[0, r] = err_rf\n",
    "\n",
    "    from sklearn.ensemble import ExtraTreesRegressor\n",
    "    rf_base = ExtraTreesRegressor(n_estimators=10,max_depth=d_full,min_samples_leaf=5,max_features=5)\n",
    "    rf_base.fit(X_tr,y_tr)\n",
    "    y_base = rf_base.predict(X_tst)\n",
    "    err_base = np.sum((y_tst-y_base)**2/len(y_tst))\n",
    "    err_arr[1, r] = err_base\n",
    "\n",
    "    mf = DiPrimeForest(n_trees=10,max_depth=d_full,max_features=5,partition=False)\n",
    "    mf.fit(X_tr,y_tr,A,cat_idx,bnds_y)\n",
    "    y_mf = mf.predict(X_tst,cat_idx)\n",
    "    err_mf = np.sum((y_tst-y_mf)**2/len(y_tst))\n",
    "    err_arr[2, r] = err_mf\n",
    "\n",
    "    dprf = DPRF_Reg(n_trees=10,max_depth=d_mult)\n",
    "    dprf.fit(X_tr_cat,y_tr,Acat,C,eps=10)\n",
    "    y_dprf = dprf.predict(X_tst_cat)\n",
    "    err_dprf = np.sum((y_tst-y_dprf)**2/len(y_tst))\n",
    "    err_arr[3, r] = err_dprf\n",
    "\n",
    "    dpmf = DiPrimeForest(n_trees=10,max_depth=d_part,max_features=5)\n",
    "    dpmf.fit(X_tr,y_tr,A,cat_idx,bnds_y,eps=10,b_med=0.5)\n",
    "    y_dpmf = dpmf.predict(X_tst,cat_idx)\n",
    "    err_dpmf = np.sum((y_tst-y_dpmf)**2/len(y_tst))\n",
    "    err_arr[4, r] = err_dpmf\n",
    "\n",
    "    dpdmf = DiPrimeFlipForest(n_trees=10,max_depth=d_part,max_features=5)\n",
    "    dpdmf.fit(X_tr,y_tr,A,cat_idx,bnds_y,eps=10,b_med=0.5)\n",
    "    y_dpdmf = dpdmf.predict(X_tst,cat_idx)\n",
    "    err_dpdmf = np.sum((y_tst-y_dpdmf)**2/len(y_tst))\n",
    "    err_arr[5, r] = err_dpdmf\n",
    "\n",
    "    dprf = DPRandForest(n_trees=10,max_depth=d_full,max_features=1)\n",
    "    dprf.fit(X_tr,y_tr,A,cat_idx,bnds_y,eps=20)\n",
    "    y_dprf = dprf.predict(X_tst,cat_idx)\n",
    "    err_dprf = np.sum((y_tst-y_dprf)**2/len(y_tst))\n",
    "    err_arr[6, r] = err_dprf"
   ]
  },
  {
   "cell_type": "code",
   "execution_count": 50,
   "metadata": {},
   "outputs": [
    {
     "name": "stdout",
     "output_type": "stream",
     "text": [
      "Error for  Random forest  is  0.006234960280094335 +/- 0.0005703338015824468\n",
      "Error for  ERT  is  0.0071218044837535275 +/- 0.0006173100259438422\n",
      "Error for  Median trees  is  0.006147401815016837 +/- 0.00046798815763325207\n",
      "Error for  DP-RF  is  0.03643505267927325 +/- 0.011352528516494133\n",
      "Error for  DiPriMe  is  0.008672864702730335 +/- 0.0005700856819984647\n",
      "Error for  DiPriMeFlip  is  0.008687256298032266 +/- 0.000592155752070818\n",
      "Error for  DP Random Trees  is  0.008790259110224108 +/- 0.0005676927467271811\n"
     ]
    }
   ],
   "source": [
    "find_errors_with_bars(err_arr, algo_names, 0.95)"
   ]
  },
  {
   "cell_type": "markdown",
   "metadata": {},
   "source": [
    "### Metro Interstate Traffic Volume\n",
    "\n",
    "This is a UCI dataset logging the Hourly Interstate 94 Westbound traffic volume for MN DoT ATR station 301. The features include weather-related features, date and holiday information. The traffic volume is the target variable with approximately 48,000 instances in the data.\n",
    "\n",
    "Link: https://archive.ics.uci.edu/ml/datasets/Metro+Interstate+Traffic+Volume"
   ]
  },
  {
   "cell_type": "code",
   "execution_count": 6,
   "metadata": {},
   "outputs": [
    {
     "name": "stdout",
     "output_type": "stream",
     "text": [
      "Index(['holiday', 'temp', 'rain_1h', 'snow_1h', 'clouds_all', 'weather_main',\n",
      "       'weekday', 'hour', 'traffic_volume'],\n",
      "      dtype='object')\n"
     ]
    }
   ],
   "source": [
    "from datetime import date, datetime\n",
    "\n",
    "data_path = \"../Datasets/Metro_Interstate_Traffic_Volume/Metro_Interstate_Traffic_Volume.csv\"\n",
    "df_raw = pd.read_csv(data_path)\n",
    "Mp,Np = df_raw.shape\n",
    "\n",
    "df_raw['weekday'] = pd.Series([(datetime.strptime(df_raw.at[i,'date_time'],\"%Y-%m-%d %H:%M:%S\")\n",
    "                               ).weekday() for i in range(Mp)])\n",
    "df_raw['hour'] = pd.Series([(datetime.strptime(df_raw.at[i,'date_time'],\"%Y-%m-%d %H:%M:%S\")\n",
    "                            ).hour for i in range(Mp)])\n",
    "del df_raw['date_time'], df_raw['weather_description']\n",
    "\n",
    "df_raw['holiday'] = pd.Categorical(df_raw.holiday)\n",
    "df_raw['holiday'] = df_raw['holiday'].cat.codes\n",
    "df_raw['weather_main'] = pd.Categorical(df_raw.weather_main)\n",
    "df_raw['weather_main'] = df_raw['weather_main'].cat.codes\n",
    "\n",
    "df_y = df_raw.pop('traffic_volume')\n",
    "df_raw['traffic_volume'] = df_y\n",
    "\n",
    "df = pd.DataFrame()\n",
    "for col in df_raw.columns:\n",
    "    if col not in ['holiday', 'weather_main', 'weekday']:\n",
    "        df[col] = pd.cut(df_raw[col],bins=5,labels=False)\n",
    "    elif col != 'traffic_volume':\n",
    "        df[col] = df_raw[col]\n",
    "df['traffic_volume'] = (df_raw['traffic_volume'] - df_raw['traffic_volume'].min()\n",
    "                       )/(df_raw['traffic_volume'].max() - df_raw['traffic_volume'].min())\n",
    "print(df.columns)\n",
    "\n",
    "Xycat = df.to_numpy()\n",
    "Xcat = Xycat[:,:-1]\n",
    "y = Xycat[:,-1]\n",
    "Xy = df_raw.to_numpy()"
   ]
  },
  {
   "cell_type": "code",
   "execution_count": 7,
   "metadata": {},
   "outputs": [
    {
     "name": "stderr",
     "output_type": "stream",
     "text": [
      "100%|██████████| 5/5 [21:52<00:00, 262.56s/it]\n"
     ]
    }
   ],
   "source": [
    "err_arr = np.zeros((7, num_runs))\n",
    "min_occ = 25  # Min leaf node occupancy\n",
    "\n",
    "cat_idx = [0, 5, 6]\n",
    "A = gen_attdict(Xy[:,:-1],cat_idx) \n",
    "bnds_y = np.array([0,1]) # Bound on target value\n",
    "Acat = gen_attdict(Xcat,list(range(Xcat.shape[1])))\n",
    "C = np.copy(bnds_y)\n",
    "\n",
    "## Train test split\n",
    "train_size = int(np.floor(0.9*Xycat.shape[0]))\n",
    "test_size = Xycat.shape[0]-train_size\n",
    "shuffle_idx = rn.permutation(Xycat.shape[0])\n",
    "train_idx = shuffle_idx[:train_size]\n",
    "test_idx = shuffle_idx[train_size:]\n",
    "\n",
    "X_tr = Xy[train_idx,:-1]\n",
    "X_tst = Xy[test_idx,:-1]\n",
    "y_tr = Xy[train_idx,-1]\n",
    "y_tst = Xy[test_idx,-1]\n",
    "\n",
    "M,N = np.shape(X_tr)\n",
    "\n",
    "\n",
    "X_tr_cat = Xcat[train_idx,:]\n",
    "X_tst_cat = Xcat[test_idx,:]\n",
    "y_tr = y[train_idx]\n",
    "y_tst = y[test_idx]\n",
    "\n",
    "for r in tqdm(range(num_runs)):\n",
    "    ## Train test split\n",
    "    train_size = int(np.floor(0.9*Xycat.shape[0]))\n",
    "    test_size = Xycat.shape[0]-train_size\n",
    "    shuffle_idx = rn.permutation(Xycat.shape[0])\n",
    "    \n",
    "    d_full = tree_depth(train_size, min_occ)\n",
    "    d_mult = tree_depth(train_size, min_occ, num_bins=5)\n",
    "    d_part = tree_depth(train_size, min_occ, partition=True, num_trees=10)\n",
    "\n",
    "    train_idx = shuffle_idx[:train_size]\n",
    "    test_idx = shuffle_idx[train_size:]\n",
    "\n",
    "    X_tr = Xy[train_idx,:-1]\n",
    "    X_tst = Xy[test_idx,:-1]\n",
    "    y_tr = Xy[train_idx,-1]\n",
    "    y_tst = Xy[test_idx,-1]\n",
    "\n",
    "    M,N = np.shape(X_tr)\n",
    "\n",
    "    X_tr_cat = Xcat[train_idx,:]\n",
    "    X_tst_cat = Xcat[test_idx,:]\n",
    "    y_tr = y[train_idx]\n",
    "    y_tst = y[test_idx]\n",
    "\n",
    "    rf = RandomForestRegressor(n_estimators=10,max_depth=d_full,min_samples_leaf=5,max_features=5)\n",
    "    rf.fit(X_tr,y_tr)\n",
    "    y_rf = rf.predict(X_tst)\n",
    "    err_rf = np.sum((y_tst-y_rf)**2/len(y_tst))\n",
    "    err_arr[0, r] = err_rf\n",
    "\n",
    "    from sklearn.ensemble import ExtraTreesRegressor\n",
    "    rf_base = ExtraTreesRegressor(n_estimators=10,max_depth=d_full,min_samples_leaf=5,max_features=5)\n",
    "    rf_base.fit(X_tr,y_tr)\n",
    "    y_base = rf_base.predict(X_tst)\n",
    "    err_base = np.sum((y_tst-y_base)**2/len(y_tst))\n",
    "    err_arr[1, r] = err_base\n",
    "\n",
    "    mf = DiPrimeForest(n_trees=10,max_depth=d_full,max_features=5,partition=False)\n",
    "    mf.fit(X_tr,y_tr,A,cat_idx,bnds_y)\n",
    "    y_mf = mf.predict(X_tst,cat_idx)\n",
    "    err_mf = np.sum((y_tst-y_mf)**2/len(y_tst))\n",
    "    err_arr[2, r] = err_mf\n",
    "\n",
    "    dprf = DPRF_Reg(n_trees=10,max_depth=d_mult)\n",
    "    dprf.fit(X_tr_cat,y_tr,Acat,C,eps=10)\n",
    "    y_dprf = dprf.predict(X_tst_cat)\n",
    "    err_dprf = np.sum((y_tst-y_dprf)**2/len(y_tst))\n",
    "    err_arr[3, r] = err_dprf\n",
    "\n",
    "    dpmf = DiPrimeForest(n_trees=10,max_depth=d_part,max_features=5)\n",
    "    dpmf.fit(X_tr,y_tr,A,cat_idx,bnds_y,eps=10,b_med=0.5)\n",
    "    y_dpmf = dpmf.predict(X_tst,cat_idx)\n",
    "    err_dpmf = np.sum((y_tst-y_dpmf)**2/len(y_tst))\n",
    "    err_arr[4, r] = err_dpmf\n",
    "\n",
    "    dpdmf = DiPrimeFlipForest(n_trees=10,max_depth=d_part,max_features=5)\n",
    "    dpdmf.fit(X_tr,y_tr,A,cat_idx,bnds_y,eps=10,b_med=0.5)\n",
    "    y_dpdmf = dpdmf.predict(X_tst,cat_idx)\n",
    "    err_dpdmf = np.sum((y_tst-y_dpdmf)**2/len(y_tst))\n",
    "    err_arr[5, r] = err_dpdmf\n",
    "\n",
    "    dprf = DPRandForest(n_trees=10,max_depth=d_full,max_features=1)\n",
    "    dprf.fit(X_tr,y_tr,A,cat_idx,bnds_y,eps=20)\n",
    "    y_dprf = dprf.predict(X_tst,cat_idx)\n",
    "    err_dprf = np.sum((y_tst-y_dprf)**2/len(y_tst))\n",
    "    err_arr[6, r] = err_dprf"
   ]
  },
  {
   "cell_type": "code",
   "execution_count": 8,
   "metadata": {},
   "outputs": [
    {
     "name": "stdout",
     "output_type": "stream",
     "text": [
      "Error for  Random forest  is  0.004885601513325716 +/- 0.0003573031560039744\n",
      "Error for  ERT  is  0.006238034062108875 +/- 0.0009081280114097161\n",
      "Error for  Median trees  is  0.006898454418191533 +/- 0.0004906278018769833\n",
      "Error for  DP-RF  is  0.0331327277485579 +/- 0.005579835934440322\n",
      "Error for  DiPriMe  is  0.029900449836239275 +/- 0.00454962839579382\n",
      "Error for  DiPriMeFlip  is  0.027179872725845017 +/- 0.008046707804695933\n",
      "Error for  DP Random Trees  is  0.04953420372355448 +/- 0.0031928560914107314\n"
     ]
    }
   ],
   "source": [
    "find_errors_with_bars(err_arr, algo_names, 0.95)"
   ]
  },
  {
   "cell_type": "markdown",
   "metadata": {},
   "source": [
    "### Gas Turbine Emission\n",
    "This UCI dataset contains 36733 instances of 11 sensor measures aggregated over one hour, from a gas turbine located in Turkey for the purpose of studying flue CO and NOx emissions.\n",
    "\n",
    "Link: https://archive.ics.uci.edu/ml/datasets/Gas+Turbine+CO+and+NOx+Emission+Data+Set"
   ]
  },
  {
   "cell_type": "code",
   "execution_count": 9,
   "metadata": {},
   "outputs": [],
   "source": [
    "data_path = \"../Datasets/Gas_Turbine_Emission\"\n",
    "df_raw = pd.DataFrame()\n",
    "for fname in os.listdir(data_path):\n",
    "    df_raw = df_raw.append(pd.read_csv(data_path + '/'+ fname))\n",
    "\n",
    "df_y = df_raw.pop('TEY')\n",
    "df_raw['TEY'] = df_y\n",
    "\n",
    "df = pd.DataFrame()\n",
    "for col in df_raw.columns:\n",
    "    if col != 'TEY':\n",
    "        df[col] = pd.cut(df_raw[col],bins=5,labels=False)\n",
    "df['TEY'] = (df_raw['TEY'] - df_raw['TEY'].min()\n",
    "                       )/(df_raw['TEY'].max() - df_raw['TEY'].min())\n",
    "\n",
    "Xycat = df.to_numpy()\n",
    "Xcat = Xycat[:,:-1]\n",
    "y = Xycat[:,-1]\n",
    "Xy = df_raw.to_numpy()"
   ]
  },
  {
   "cell_type": "markdown",
   "metadata": {},
   "source": [
    "#### Fitting models:"
   ]
  },
  {
   "cell_type": "code",
   "execution_count": 10,
   "metadata": {},
   "outputs": [
    {
     "name": "stderr",
     "output_type": "stream",
     "text": [
      "100%|██████████| 5/5 [01:08<00:00, 13.67s/it]\n"
     ]
    }
   ],
   "source": [
    "err_arr = np.zeros((7, num_runs))\n",
    "min_occ = 25  # Min leaf node occupancy\n",
    "\n",
    "cat_idx = []\n",
    "A = gen_attdict(Xy[:,:-1],cat_idx) \n",
    "bnds_y = np.array([0,1]) # Bound on target value\n",
    "Acat = gen_attdict(Xcat,list(range(Xcat.shape[1])))\n",
    "C = np.copy(bnds_y)\n",
    "\n",
    "for r in tqdm(range(num_runs)):\n",
    "    ## Train test split\n",
    "    train_size = int(np.floor(0.9*Xycat.shape[0]))\n",
    "    test_size = Xycat.shape[0]-train_size\n",
    "    shuffle_idx = rn.permutation(Xycat.shape[0])\n",
    "    \n",
    "    d_full = tree_depth(train_size, min_occ)\n",
    "    d_mult = tree_depth(train_size, min_occ, num_bins=5)\n",
    "    d_part = tree_depth(train_size, min_occ, partition=True, num_trees=10)\n",
    "\n",
    "    train_idx = shuffle_idx[:train_size]\n",
    "    test_idx = shuffle_idx[train_size:]\n",
    "\n",
    "    X_tr = Xy[train_idx,:-1]\n",
    "    X_tst = Xy[test_idx,:-1]\n",
    "    y_tr = Xy[train_idx,-1]\n",
    "    y_tst = Xy[test_idx,-1]\n",
    "\n",
    "    M,N = np.shape(X_tr)\n",
    "\n",
    "    X_tr_cat = Xcat[train_idx,:]\n",
    "    X_tst_cat = Xcat[test_idx,:]\n",
    "    y_tr = y[train_idx]\n",
    "    y_tst = y[test_idx]\n",
    "\n",
    "    rf = RandomForestRegressor(n_estimators=10,max_depth=d_full,min_samples_leaf=5,max_features=5)\n",
    "    rf.fit(X_tr,y_tr)\n",
    "    y_rf = rf.predict(X_tst)\n",
    "    err_rf = np.sum((y_tst-y_rf)**2/len(y_tst))\n",
    "    err_arr[0, r] = err_rf\n",
    "\n",
    "    rf_base = ExtraTreesRegressor(n_estimators=10,max_depth=d_full,min_samples_leaf=5,max_features=5)\n",
    "    rf_base.fit(X_tr,y_tr)\n",
    "    y_base = rf_base.predict(X_tst)\n",
    "    err_base = np.sum((y_tst-y_base)**2/len(y_tst))\n",
    "    err_arr[1, r] = err_base\n",
    "\n",
    "    mf = DiPrimeForest(n_trees=10,max_depth=d_full,max_features=5,partition=False)\n",
    "    mf.fit(X_tr,y_tr,A,cat_idx,bnds_y)\n",
    "    y_mf = mf.predict(X_tst,cat_idx)\n",
    "    err_mf = np.sum((y_tst-y_mf)**2/len(y_tst))\n",
    "    err_arr[2, r] = err_mf\n",
    "\n",
    "    dprf = DPRF_Reg(n_trees=10,max_depth=d_mult)\n",
    "    dprf.fit(X_tr_cat,y_tr,Acat,C,eps=10)\n",
    "    y_dprf = dprf.predict(X_tst_cat)\n",
    "    err_dprf = np.sum((y_tst-y_dprf)**2/len(y_tst))\n",
    "    err_arr[3, r] = err_dprf\n",
    "\n",
    "    dpmf = DiPrimeForest(n_trees=10,max_depth=d_part,max_features=5)\n",
    "    dpmf.fit(X_tr,y_tr,A,cat_idx,bnds_y,eps=10,b_med=0.5)\n",
    "    y_dpmf = dpmf.predict(X_tst,cat_idx)\n",
    "    err_dpmf = np.sum((y_tst-y_dpmf)**2/len(y_tst))\n",
    "    err_arr[4, r] = err_dpmf\n",
    "\n",
    "    dpdmf = DiPrimeFlipForest(n_trees=10,max_depth=d_part,max_features=5)\n",
    "    dpdmf.fit(X_tr,y_tr,A,cat_idx,bnds_y,eps=10,b_med=0.5)\n",
    "    y_dpdmf = dpdmf.predict(X_tst,cat_idx)\n",
    "    err_dpdmf = np.sum((y_tst-y_dpdmf)**2/len(y_tst))\n",
    "    err_arr[5, r] = err_dpdmf\n",
    "\n",
    "    dprf = DPRandForest(n_trees=10,max_depth=d_full,max_features=1)\n",
    "    dprf.fit(X_tr,y_tr,A,cat_idx,bnds_y,eps=20)\n",
    "    y_dprf = dprf.predict(X_tst,cat_idx)\n",
    "    err_dprf = np.sum((y_tst-y_dprf)**2/len(y_tst))\n",
    "    err_arr[6, r] = err_dprf"
   ]
  },
  {
   "cell_type": "code",
   "execution_count": 11,
   "metadata": {},
   "outputs": [
    {
     "name": "stdout",
     "output_type": "stream",
     "text": [
      "Error for  Random forest  is  0.00012283725653363195 +/- 6.813088192893463e-06\n",
      "Error for  ERT  is  0.00023695652240271638 +/- 2.1674463293371267e-05\n",
      "Error for  Median trees  is  0.00011372027599618993 +/- 8.304658718803452e-06\n",
      "Error for  DP-RF  is  0.01852635478535352 +/- 0.009675508379023368\n",
      "Error for  DiPriMe  is  0.0008703275040556815 +/- 0.00014018304004110465\n",
      "Error for  DiPriMeFlip  is  0.0008708293336148077 +/- 8.196995329748872e-05\n",
      "Error for  DP Random Trees  is  0.0036171175671756914 +/- 0.0015483785276119498\n"
     ]
    }
   ],
   "source": [
    "find_errors_with_bars(err_arr, algo_names, 0.95)"
   ]
  },
  {
   "cell_type": "markdown",
   "metadata": {},
   "source": [
    "### Flight Delay\n",
    "\n",
    "This is flight data taken from Jan to Apr 2008 with the month, day, weekday, departure time, arrival time, delay, air time and distance as features. The delay is the target variable. 80,000 instances are randomly sampled from this data.\n",
    "\n",
    "Link: https://www.transtats.bts.gov/tables.asp?Table_ID=236&SYS_Table_Name=T_ONTIME_REPORTING"
   ]
  },
  {
   "cell_type": "code",
   "execution_count": 12,
   "metadata": {},
   "outputs": [],
   "source": [
    "data_path = \"../Datasets/Flight_Delay/\"\n",
    "fname = ['Jan2008.csv','Feb2008.csv','Mar2008.csv','Apr2008.csv']\n",
    "\n",
    "col_names = ['Month','Day','Weekday','Dep Time','Arr Time',\n",
    "                                                  'Delay','Air Time','Distance']\n",
    "df_raw = pd.DataFrame()\n",
    "for f in fname:\n",
    "    df = pd.read_csv(data_path+f,names=col_names,header=0,usecols=[0,1,2,3,4,5,6,7])\n",
    "    df_raw = df_raw.append(df)\n",
    "df_raw = df_raw.dropna()\n",
    "Md,Nd = df_raw.shape\n",
    "\n",
    "df_raw = df_raw.iloc[random.sample(range(Md),800000)]\n",
    "#print(df_raw.shape)\n",
    "\n",
    "X = df_raw.drop(columns='Delay').to_numpy()\n",
    "y = df_raw['Delay'].to_numpy()\n",
    "y = (y - np.amin(y))/(np.amax(y)-np.amin(y))\n",
    "\n",
    "df_y = df_raw.pop('Delay')\n",
    "df_raw['Delay'] = df_y\n",
    "\n",
    "df = pd.DataFrame()\n",
    "for col in df_raw.columns:\n",
    "    if col not in ['Month','Weekday','Delay']:\n",
    "        df[col] = pd.cut(df_raw[col],bins=5,labels=False)\n",
    "    elif col != 'Delay':\n",
    "        df[col] = df_raw[col]\n",
    "\n",
    "y_min, y_max = df_raw['Delay'].min(),df_raw['Delay'].max()\n",
    "df['Delay'] = (df_raw['Delay']-y_min)/(y_max-y_min)\n",
    "\n",
    "Xycat = df.to_numpy()\n",
    "Xcat = Xycat[:,:-1]\n",
    "y = Xycat[:,-1]\n",
    "Xy = df_raw.to_numpy()"
   ]
  },
  {
   "cell_type": "markdown",
   "metadata": {},
   "source": [
    "#### Fitting models:"
   ]
  },
  {
   "cell_type": "code",
   "execution_count": 14,
   "metadata": {
    "scrolled": true
   },
   "outputs": [
    {
     "name": "stderr",
     "output_type": "stream",
     "text": [
      "100%|██████████| 5/5 [24:11<00:00, 290.38s/it]\n"
     ]
    }
   ],
   "source": [
    "err_arr = np.zeros((7, num_runs))\n",
    "min_occ = 25  # Min leaf node occupancy\n",
    "\n",
    "cat_idx = [0,2]\n",
    "A = gen_attdict(X_tr,cat_idx) \n",
    "bnds_y = np.array([0,1]) # Bound on target value\n",
    "Acat = gen_attdict(X_tr_cat,list(range(X_tr_cat.shape[1])))\n",
    "C = np.copy(bnds_y)\n",
    "\n",
    "for r in tqdm(range(num_runs)):\n",
    "    ## Train test split\n",
    "    train_size = int(np.floor(0.9*Xycat.shape[0]))\n",
    "    test_size = Xycat.shape[0]-train_size\n",
    "    shuffle_idx = rn.permutation(Xycat.shape[0])\n",
    "    \n",
    "    d_full = tree_depth(train_size, min_occ)\n",
    "    d_mult = tree_depth(train_size, min_occ, num_bins=5)\n",
    "    d_part = tree_depth(train_size, min_occ, partition=True, num_trees=10)\n",
    "\n",
    "    train_idx = shuffle_idx[:train_size]\n",
    "    test_idx = shuffle_idx[train_size:]\n",
    "\n",
    "    X_tr = Xy[train_idx,:-1]\n",
    "    X_tst = Xy[test_idx,:-1]\n",
    "    y_tr = Xy[train_idx,-1]\n",
    "    y_tst = Xy[test_idx,-1]\n",
    "\n",
    "    M,N = np.shape(X_tr)\n",
    "\n",
    "    X_tr_cat = Xcat[train_idx,:]\n",
    "    X_tst_cat = Xcat[test_idx,:]\n",
    "    y_tr = y[train_idx]\n",
    "    y_tst = y[test_idx]\n",
    "\n",
    "    rf = RandomForestRegressor(n_estimators=10,max_depth=d_full,min_samples_leaf=5,max_features=5)\n",
    "    rf.fit(X_tr,y_tr)\n",
    "    y_rf = rf.predict(X_tst)\n",
    "    err_rf = np.sum((y_tst-y_rf)**2/len(y_tst))\n",
    "    err_arr[0, r] = err_rf\n",
    "\n",
    "    from sklearn.ensemble import ExtraTreesRegressor\n",
    "    rf_base = ExtraTreesRegressor(n_estimators=10,max_depth=d_full,min_samples_leaf=5,max_features=5)\n",
    "    rf_base.fit(X_tr,y_tr)\n",
    "    y_base = rf_base.predict(X_tst)\n",
    "    err_base = np.sum((y_tst-y_base)**2/len(y_tst))\n",
    "    err_arr[1, r] = err_base\n",
    "\n",
    "    mf = DiPrimeForest(n_trees=10,max_depth=d_full,max_features=5,partition=False)\n",
    "    mf.fit(X_tr,y_tr,A,cat_idx,bnds_y)\n",
    "    y_mf = mf.predict(X_tst,cat_idx)\n",
    "    err_mf = np.sum((y_tst-y_mf)**2/len(y_tst))\n",
    "    err_arr[2, r] = err_mf\n",
    "\n",
    "    dprf = DPRF_Reg(n_trees=10,max_depth=d_mult)\n",
    "    dprf.fit(X_tr_cat,y_tr,Acat,C,eps=10)\n",
    "    y_dprf = dprf.predict(X_tst_cat)\n",
    "    err_dprf = np.sum((y_tst-y_dprf)**2/len(y_tst))\n",
    "    err_arr[3, r] = err_dprf\n",
    "\n",
    "    dpmf = DiPrimeForest(n_trees=10,max_depth=d_part,max_features=5)\n",
    "    dpmf.fit(X_tr,y_tr,A,cat_idx,bnds_y,eps=10,b_med=0.5)\n",
    "    y_dpmf = dpmf.predict(X_tst,cat_idx)\n",
    "    err_dpmf = np.sum((y_tst-y_dpmf)**2/len(y_tst))\n",
    "    err_arr[4, r] = err_dpmf\n",
    "\n",
    "    dpdmf = DiPrimeFlipForest(n_trees=10,max_depth=d_part,max_features=5)\n",
    "    dpdmf.fit(X_tr,y_tr,A,cat_idx,bnds_y,eps=10,b_med=0.5)\n",
    "    y_dpdmf = dpdmf.predict(X_tst,cat_idx)\n",
    "    err_dpdmf = np.sum((y_tst-y_dpdmf)**2/len(y_tst))\n",
    "    err_arr[5, r] = err_dpdmf\n",
    "\n",
    "    dprf = DPRandForest(n_trees=10,max_depth=d_full,max_features=1)\n",
    "    dprf.fit(X_tr,y_tr,A,cat_idx,bnds_y,eps=20)\n",
    "    y_dprf = dprf.predict(X_tst,cat_idx)\n",
    "    err_dprf = np.sum((y_tst-y_dprf)**2/len(y_tst))\n",
    "    err_arr[6, r] = err_dprf"
   ]
  },
  {
   "cell_type": "code",
   "execution_count": 15,
   "metadata": {},
   "outputs": [
    {
     "name": "stdout",
     "output_type": "stream",
     "text": [
      "Error for  Random forest  is  0.000489645675588011 +/- 1.2422082749878189e-05\n",
      "Error for  ERT  is  0.0005057589716656512 +/- 1.1892791842028225e-05\n",
      "Error for  Median trees  is  0.0005174712274387211 +/- 9.466412343053723e-06\n",
      "Error for  DP-RF  is  0.03850411534993049 +/- 0.0041857962012694355\n",
      "Error for  DiPriMe  is  0.0005687288594693099 +/- 1.0409890846649552e-05\n",
      "Error for  DiPriMeFlip  is  0.0005658002244298842 +/- 1.180909077400652e-05\n",
      "Error for  DP Random Trees  is  0.000583934645563215 +/- 1.2306622785694772e-05\n"
     ]
    }
   ],
   "source": [
    "find_errors_with_bars(err_arr, algo_names, 0.95)"
   ]
  },
  {
   "cell_type": "markdown",
   "metadata": {},
   "source": [
    "## Classification:"
   ]
  },
  {
   "cell_type": "code",
   "execution_count": 5,
   "metadata": {},
   "outputs": [],
   "source": [
    "from DP_DF.DP_SysFor import DP_SysFor\n",
    "from sklearn.ensemble import RandomForestClassifier, ExtraTreesClassifier\n",
    "from DiPrime_Class import *\n",
    "from DiPrimeFlip_Class import *\n",
    "from RandForest_DP_Class import *\n",
    "from dprf import DPRF\n",
    "\n",
    "num_runs = 5  # Number of runs for each method\n",
    "algo_names = ['DP-DF', 'DP-RF', 'Random forest', 'ERT', 'Median trees', 'DiPriMe', 'DiPriMeFlip', 'DP Random Trees']"
   ]
  },
  {
   "cell_type": "markdown",
   "metadata": {},
   "source": [
    "### Banknote Authentication\n",
    "This is a small dataset (1372 data points, 5 attributes) where all the attributes are real-valued with a binary target variable. \n",
    "\n",
    "Link: https://archive.ics.uci.edu/ml/datasets/banknote+authentication\n",
    "\n",
    "#### Read data:"
   ]
  },
  {
   "cell_type": "code",
   "execution_count": 6,
   "metadata": {},
   "outputs": [],
   "source": [
    "data_path = \"../Datasets/Banknote_Authentication/data_banknote_authentication.txt\"\n",
    "df_raw = pd.read_csv(data_path,index_col=False,\n",
    "                     names=['variance','skewness','curtosis','entropy','class'])\n",
    "attribute_names = df_raw.columns[:-1]\n",
    "\n",
    "df = pd.DataFrame()\n",
    "for col in df_raw.columns:\n",
    "    if col != 'class':\n",
    "        df[col] = pd.cut(df_raw[col],bins=5,labels=False)\n",
    "df['class'] = df_raw['class']\n",
    "\n",
    "Xycat = df.to_numpy()\n",
    "Xcat = Xycat[:,:-1]\n",
    "y = Xycat[:,-1]\n",
    "Xy = df_raw.to_numpy()"
   ]
  },
  {
   "cell_type": "markdown",
   "metadata": {},
   "source": [
    "#### Fitting models:"
   ]
  },
  {
   "cell_type": "code",
   "execution_count": 7,
   "metadata": {},
   "outputs": [
    {
     "name": "stderr",
     "output_type": "stream",
     "text": [
      "100%|████████████████████████████████████████████████████████████████████████████████████| 5/5 [00:06<00:00,  1.26s/it]\n"
     ]
    }
   ],
   "source": [
    "err_arr = np.zeros((8, num_runs))\n",
    "min_occ = 10  # Min leaf node occupancy\n",
    "\n",
    "cat_idx = []\n",
    "A = gen_attdict(Xy[:,:-1],cat_idx) \n",
    "bnds_y = np.array([0,1]) # Bound on target value\n",
    "Acat = gen_attdict(Xcat,list(range(Xcat.shape[1])))\n",
    "C = [0,1]\n",
    "\n",
    "for r in tqdm(range(num_runs)):\n",
    "    ## Train test split\n",
    "    train_size = int(np.floor(0.9*Xycat.shape[0]))\n",
    "    test_size = Xycat.shape[0]-train_size\n",
    "    shuffle_idx = rn.permutation(Xycat.shape[0])\n",
    "    train_idx = shuffle_idx[:train_size]\n",
    "    test_idx = shuffle_idx[train_size:]\n",
    "    \n",
    "    d_full = tree_depth(train_size, min_occ)\n",
    "    d_mult = tree_depth(train_size, min_occ, num_bins=5)\n",
    "    d_part = tree_depth(train_size, min_occ, partition=True, num_trees=10)\n",
    "\n",
    "    Xycat_tr = [list(a) for a in list(Xycat[train_idx,:])]\n",
    "    Xcat_tst = [list(a) for a in list(Xycat[test_idx,:-1])]\n",
    "    y_tst = list(y[test_idx])\n",
    "\n",
    "    dpdf = DP_SysFor(records=Xycat_tr, max_height = d_mult, target_attribute_index=4, num_trees=10, \n",
    "                     epsilon_budget=1.0,attribute_names=attribute_names)\n",
    "    y_pred = dpdf.classify_list(Xcat_tst)\n",
    "    y_diff = [y_pred[i] != y_tst[i] for i in range(len(y_tst))]\n",
    "    err_dpdf = sum(y_diff)/len(y_tst)\n",
    "    err_arr[0, r] = err_dpdf\n",
    "    \n",
    "    X_tr = Xy[train_idx,:-1]\n",
    "    X_tst = Xy[test_idx,:-1]\n",
    "    y_tr = Xy[train_idx,-1]\n",
    "    y_tst = Xy[test_idx,-1]\n",
    "\n",
    "    M,N = np.shape(X_tr)\n",
    "\n",
    "    X_tr_cat = Xcat[train_idx,:]\n",
    "    X_tst_cat = Xcat[test_idx,:]\n",
    "    y_tr = y[train_idx]\n",
    "    y_tst = y[test_idx]\n",
    "\n",
    "    dprf = DPRF(n_trees=10,max_depth=d_mult)\n",
    "    dprf.fit(X_tr_cat,y_tr,Acat,C,eps=2)\n",
    "    y_dprf = dprf.predict(X_tst_cat,C)\n",
    "    err_dprf = np.sum(np.abs(y_tst-y_dprf))/len(y_tst)\n",
    "    err_arr[1, r] = err_dprf\n",
    "\n",
    "    rf = RandomForestClassifier(n_estimators=10,max_depth=d_full,min_samples_leaf=5,max_features=4)\n",
    "    rf.fit(X_tr,y_tr)\n",
    "    y_rf = rf.predict(X_tst)\n",
    "    err_rf = np.sum(np.abs(y_rf-y_tst))/len(y_tst)\n",
    "    err_arr[2, r] = err_rf\n",
    "\n",
    "    rf_base = ExtraTreesClassifier(n_estimators=10,max_depth=d_full,min_samples_leaf=5,max_features=4)\n",
    "    rf_base.fit(X_tr,y_tr)\n",
    "    y_base = rf_base.predict(X_tst)\n",
    "    err_base = np.sum(np.abs(y_tst-y_base))/len(y_tst)\n",
    "    err_arr[3, r] = err_base\n",
    "\n",
    "    mf = DiPrimeCForest(n_trees=10,max_depth=d_full,max_features=4,partition=False)\n",
    "    mf.fit(X_tr,y_tr,A,cat_idx,bnds_y)\n",
    "    y_mf = (mf.predict(X_tst,cat_idx) >= 0.5).astype(np.float)\n",
    "    err_mf = np.sum(np.abs(y_tst-y_mf))/len(y_tst)\n",
    "    err_arr[4, r] = err_mf\n",
    "\n",
    "    dpmf = DiPrimeCForest(n_trees=10,max_depth=d_part,max_features=4)\n",
    "    dpmf.fit(X_tr,y_tr,A,cat_idx,bnds_y,eps=2,b_med=0.5)\n",
    "    y_dpmf = (dpmf.predict(X_tst,cat_idx) >= 0.5).astype(np.float)\n",
    "    err_dpmf = np.sum(np.abs(y_tst-y_dpmf))/len(y_tst)\n",
    "    err_arr[5, r] = err_dpmf\n",
    "\n",
    "    dpdmf = DiPrimeFlipCForest(n_trees=10,max_depth=d_part,max_features=4)\n",
    "    dpdmf.fit(X_tr,y_tr,A,cat_idx,bnds_y,eps=2,b_med=0.5)\n",
    "    y_dpdmf = (dpdmf.predict(X_tst,cat_idx) >= 0.5).astype(np.float)\n",
    "    err_dpdmf = np.sum(np.abs(y_tst-y_dpdmf))/len(y_tst)\n",
    "    err_arr[6, r] = err_dpdmf\n",
    "\n",
    "    dperf = DPRandCForest(n_trees=10,max_depth=d_full,max_features=1)\n",
    "    dperf.fit(X_tr,y_tr,A,cat_idx,bnds_y,eps=4)\n",
    "    y_dperf = dperf.predict(X_tst,cat_idx)\n",
    "    err_dperf = np.sum(np.abs(y_tst-y_dperf))/len(y_tst)\n",
    "    err_arr[7, r] = err_dperf"
   ]
  },
  {
   "cell_type": "code",
   "execution_count": 8,
   "metadata": {},
   "outputs": [
    {
     "name": "stdout",
     "output_type": "stream",
     "text": [
      "Error for  DP-DF  is  0.45942028985507244 +/- 0.05534782594039439\n",
      "Error for  DP-RF  is  0.16666666666666666 +/- 0.07484762941338322\n",
      "Error for  Random forest  is  0.02318840579710145 +/- 0.01049287397548905\n",
      "Error for  ERT  is  0.01884057971014493 +/- 0.015687790985515614\n",
      "Error for  Median trees  is  0.013043478260869565 +/- 0.01547999649989193\n",
      "Error for  DiPriMe  is  0.11594202898550725 +/- 0.031683696550853645\n",
      "Error for  DiPriMeFlip  is  0.10724637681159421 +/- 0.03137558197103123\n",
      "Error for  DP Random Trees  is  0.3269685963133631 +/- 0.014424723650974969\n"
     ]
    }
   ],
   "source": [
    "find_errors_with_bars(err_arr, algo_names, 0.95)"
   ]
  },
  {
   "cell_type": "markdown",
   "metadata": {},
   "source": [
    "### Credit Card Default\n",
    "\n",
    "This dataset has 30,000 instances with 24 attributes. The target variable is the attribute corresponding to the client defaulting on the payment.\n",
    "\n",
    "Link: https://archive.ics.uci.edu/ml/datasets/default+of+credit+card+clients\n",
    "\n",
    "#### Read data:"
   ]
  },
  {
   "cell_type": "code",
   "execution_count": 21,
   "metadata": {},
   "outputs": [],
   "source": [
    "data_path = \"../Datasets/Credit_Card_Default/default_credit_card_clients.xls\"\n",
    "df_raw = pd.read_excel(data_path,index_col=0,skiprows=1)\n",
    "\n",
    "attribute_names = df_raw.columns[:-1]\n",
    "\n",
    "df = pd.DataFrame()\n",
    "for col in df_raw.columns:\n",
    "    if col in ['LIMIT_BAL','AGE','BILL_AMT1', 'BILL_AMT2',\n",
    "       'BILL_AMT3', 'BILL_AMT4', 'BILL_AMT5', 'BILL_AMT6', 'PAY_AMT1',\n",
    "       'PAY_AMT2', 'PAY_AMT3', 'PAY_AMT4', 'PAY_AMT5', 'PAY_AMT6']:\n",
    "            df[col] = pd.cut(df_raw[col],bins=5,labels=False)\n",
    "    elif col != 'default payment next month':\n",
    "        df[col] = df_raw[col]\n",
    "\n",
    "df['target'] = df_raw['default payment next month']\n",
    "\n",
    "Xycat = df.to_numpy(np.float)\n",
    "Xcat = Xycat[:,:-1]\n",
    "y = Xycat[:,-1]\n",
    "Xy = df_raw.to_numpy()"
   ]
  },
  {
   "cell_type": "markdown",
   "metadata": {},
   "source": [
    "#### Fitting models:"
   ]
  },
  {
   "cell_type": "code",
   "execution_count": 23,
   "metadata": {},
   "outputs": [
    {
     "name": "stderr",
     "output_type": "stream",
     "text": [
      "100%|██████████| 5/5 [08:20<00:00, 100.11s/it]\n"
     ]
    }
   ],
   "source": [
    "err_arr = np.zeros((8, num_runs))\n",
    "min_occ = 25  # Min leaf node occupancy\n",
    "\n",
    "cat_idx = [1,2,3]\n",
    "A = gen_attdict(Xy[:,:-1],cat_idx) \n",
    "bnds_y = np.array([0,1]) # Bound on target value\n",
    "Acat = gen_attdict(Xcat,list(range(Xcat.shape[1])))\n",
    "C = [0,1]\n",
    "\n",
    "for r in tqdm(range(num_runs)):\n",
    "    ## Train test split\n",
    "    train_size = int(np.floor(0.9*Xycat.shape[0]))\n",
    "    test_size = Xycat.shape[0]-train_size\n",
    "    shuffle_idx = rn.permutation(Xycat.shape[0])\n",
    "    train_idx = shuffle_idx[:train_size]\n",
    "    test_idx = shuffle_idx[train_size:]\n",
    "    \n",
    "    d_full = tree_depth(train_size, min_occ)\n",
    "    d_mult = tree_depth(train_size, min_occ, num_bins=5)\n",
    "    d_part = tree_depth(train_size, min_occ, partition=True, num_trees=10)    \n",
    "\n",
    "    Xycat_tr = [list(a) for a in list(Xycat[train_idx,:])]\n",
    "    Xcat_tst = [list(a) for a in list(Xycat[test_idx,:-1])]\n",
    "    y_tst = list(y[test_idx])\n",
    "\n",
    "    dpdf = DP_SysFor(records=Xycat_tr, max_height = d_mult, target_attribute_index=23, num_trees=10, \n",
    "                     epsilon_budget=1.0,attribute_names=attribute_names, pruning=True)\n",
    "    y_pred = dpdf.classify_list(Xcat_tst)\n",
    "    y_diff = [y_pred[i] != y_tst[i] for i in range(len(y_tst))]\n",
    "    err_dpdf = sum(y_diff)/len(y_tst)\n",
    "\n",
    "    X_tr = Xy[train_idx,:-1]\n",
    "    X_tst = Xy[test_idx,:-1]\n",
    "    y_tr = Xy[train_idx,-1]\n",
    "    y_tst = Xy[test_idx,-1]\n",
    "\n",
    "    M,N = np.shape(X_tr)\n",
    "\n",
    "    X_tr_cat = Xcat[train_idx,:]\n",
    "    X_tst_cat = Xcat[test_idx,:]\n",
    "    y_tr = y[train_idx]\n",
    "    y_tst = y[test_idx]\n",
    "\n",
    "    err_arr[0, r] = err_dpdf\n",
    "\n",
    "    dprf = DPRF(n_trees=10,max_depth=d_mult)\n",
    "    dprf.fit(X_tr_cat,y_tr,Acat,C,eps=2)\n",
    "    y_dprf = dprf.predict(X_tst_cat,C)\n",
    "    err_dprf = np.sum(np.abs(y_tst-y_dprf))/len(y_tst)\n",
    "    err_arr[1, r] = err_dprf\n",
    "\n",
    "    rf = RandomForestClassifier(n_estimators=10,max_depth=d_full,min_samples_leaf=5,max_features=5)\n",
    "    rf.fit(X_tr,y_tr)\n",
    "    y_rf = rf.predict(X_tst)\n",
    "    err_rf = np.sum(np.abs(y_rf-y_tst))/len(y_tst)\n",
    "    err_arr[2, r] = err_rf\n",
    "\n",
    "    rf_base = ExtraTreesClassifier(n_estimators=10,max_depth=d_full,min_samples_leaf=5,max_features=5)\n",
    "    rf_base.fit(X_tr,y_tr)\n",
    "    y_base = rf_base.predict(X_tst)\n",
    "    err_base = np.sum(np.abs(y_tst-y_base))/len(y_tst)\n",
    "    err_arr[3, r] = err_base\n",
    "\n",
    "    mf = DiPrimeCForest(n_trees=10,max_depth=d_full,max_features=5,partition=False)\n",
    "    mf.fit(X_tr,y_tr,A,cat_idx,bnds_y)\n",
    "    y_mf = (mf.predict(X_tst,cat_idx) >= 0.5).astype(np.float)\n",
    "    err_mf = np.sum(np.abs(y_tst-y_mf))/len(y_tst)\n",
    "    err_arr[4, r] = err_mf\n",
    "\n",
    "    dpmf = DiPrimeCForest(n_trees=10,max_depth=d_part,max_features=5)\n",
    "    dpmf.fit(X_tr,y_tr,A,cat_idx,bnds_y,eps=2,b_med=0.5)\n",
    "    y_dpmf = (dpmf.predict(X_tst,cat_idx) >= 0.5).astype(np.float)\n",
    "    err_dpmf = np.sum(np.abs(y_tst-y_dpmf))/len(y_tst)\n",
    "    err_arr[5, r] = err_dpmf\n",
    "\n",
    "    dpdmf = DiPrimeFlipCForest(n_trees=10,max_depth=d_part,max_features=5)\n",
    "    dpdmf.fit(X_tr,y_tr,A,cat_idx,bnds_y,eps=2,b_med=0.5)\n",
    "    y_dpdmf = (dpdmf.predict(X_tst,cat_idx) >= 0.5).astype(np.float)\n",
    "    err_dpdmf = np.sum(np.abs(y_tst-y_dpdmf))/len(y_tst)\n",
    "    err_arr[6, r] = err_dpdmf\n",
    "\n",
    "    dperf = DPRandCForest(n_trees=10,max_depth=d_full,max_features=1)\n",
    "    dperf.fit(X_tr,y_tr,A,cat_idx,bnds_y,eps=4)\n",
    "    y_dperf = dperf.predict(X_tst,cat_idx)\n",
    "    err_dperf = np.sum(np.abs(y_tst-y_dperf))/len(y_tst)\n",
    "    err_arr[7, r] = err_dperf"
   ]
  },
  {
   "cell_type": "code",
   "execution_count": 24,
   "metadata": {},
   "outputs": [
    {
     "name": "stdout",
     "output_type": "stream",
     "text": [
      "Error for  DP-DF  is  0.22080000000000002 +/- 0.008358488386279457\n",
      "Error for  DP-RF  is  0.20740000000000003 +/- 0.013936168851323672\n",
      "Error for  Random forest  is  0.17446666666666666 +/- 0.009813946908631493\n",
      "Error for  ERT  is  0.18513333333333332 +/- 0.01182184692555716\n",
      "Error for  Median trees  is  0.21253333333333332 +/- 0.00858096732173202\n",
      "Error for  DiPriMe  is  0.22080000000000002 +/- 0.008358488386279457\n",
      "Error for  DiPriMeFlip  is  0.22080000000000002 +/- 0.008358488386279457\n",
      "Error for  DP Random Trees  is  0.3262755258773102 +/- 0.006525245066458834\n"
     ]
    }
   ],
   "source": [
    "find_errors_with_bars(err_arr, algo_names, 0.95)"
   ]
  },
  {
   "cell_type": "markdown",
   "metadata": {},
   "source": [
    "### Wall-Following Robot Navigation\n",
    "\n",
    "This dataset has 5456 data instances with 24 attributes. The target variable is the last attribute binarized such that \"move-forward\" corresponds to 0 and all other values correspond to 1.\n",
    "\n",
    "Link: https://archive.ics.uci.edu/ml/datasets/Wall-Following+Robot+Navigation+Data\n",
    "\n",
    "#### Read data:"
   ]
  },
  {
   "cell_type": "code",
   "execution_count": 25,
   "metadata": {},
   "outputs": [],
   "source": [
    "data_path = \"../Datasets/Wall-Following_Robot_Nav/sensor_readings_24.data\"\n",
    "df_raw = pd.read_csv(data_path,index_col=False,header=None)\n",
    "df = df_raw.copy()\n",
    "df.loc[df_raw[24]=='Move-Forward',[24]] = 0 # Binarizing class\n",
    "df.loc[df_raw[24]!='Move-Forward',[24]] = 1 # Binarizing class\n",
    "df_raw = df.copy()\n",
    "\n",
    "attribute_names = df_raw.columns[:-1]\n",
    "\n",
    "df = pd.DataFrame()\n",
    "for col in df_raw.columns:\n",
    "    if col != 24:\n",
    "        df[col] = pd.cut(df_raw[col],bins=5,labels=False)\n",
    "df[24] = df_raw[24]\n",
    "\n",
    "Xycat = df.to_numpy(np.float)\n",
    "Xcat = Xycat[:,:-1]\n",
    "y = Xycat[:,-1]"
   ]
  },
  {
   "cell_type": "code",
   "execution_count": 30,
   "metadata": {},
   "outputs": [
    {
     "name": "stderr",
     "output_type": "stream",
     "text": [
      "100%|██████████| 5/5 [01:02<00:00, 12.60s/it]\n"
     ]
    }
   ],
   "source": [
    "err_arr = np.zeros((8, num_runs))\n",
    "min_occ = 25  # Min leaf node occupancy\n",
    "\n",
    "cat_idx = []\n",
    "A = gen_attdict(Xy[:,:-1],cat_idx) \n",
    "bnds_y = np.array([0,1]) # Bound on target value\n",
    "Acat = gen_attdict(Xcat,list(range(Xcat.shape[1])))\n",
    "C = [0,1]\n",
    "\n",
    "for r in tqdm(range(num_runs)):\n",
    "    ## Train test split\n",
    "    train_size = int(np.floor(0.9*Xycat.shape[0]))\n",
    "    test_size = Xycat.shape[0]-train_size\n",
    "    shuffle_idx = rn.permutation(Xycat.shape[0])\n",
    "    train_idx = shuffle_idx[:train_size]\n",
    "    test_idx = shuffle_idx[train_size:]\n",
    "\n",
    "    d_full = tree_depth(train_size, min_occ)\n",
    "    d_mult = tree_depth(train_size, min_occ, num_bins=5)\n",
    "    d_part = tree_depth(train_size, min_occ, partition=True, num_trees=10)    \n",
    "\n",
    "    Xycat_tr = [list(a) for a in list(Xycat[train_idx,:])]\n",
    "    Xcat_tst = [list(a) for a in list(Xycat[test_idx,:-1])]\n",
    "    y_tst = list(y[test_idx])\n",
    "\n",
    "    dpdf = DP_SysFor(records=Xycat_tr, max_height=d_mult, target_attribute_index=24, num_trees=10,\n",
    "                     attribute_names=attribute_names,pruning=True)\n",
    "    y_pred = dpdf.classify_list(Xcat_tst)\n",
    "    y_diff = [y_pred[i] != y_tst[i] for i in range(len(y_tst))]\n",
    "    err_dpdf = sum(y_diff)/len(y_tst)\n",
    "\n",
    "    Xy = df_raw.to_numpy(dtype=np.float)\n",
    "    X_tr = Xy[train_idx,:-1]\n",
    "    X_tst = Xy[test_idx,:-1]\n",
    "    y_tr = Xy[train_idx,-1]\n",
    "    y_tst = Xy[test_idx,-1]\n",
    "\n",
    "    M,N = np.shape(X_tr)\n",
    "\n",
    "    X_tr_cat = Xcat[train_idx,:]\n",
    "    X_tst_cat = Xcat[test_idx,:]\n",
    "    y_tr = y[train_idx]\n",
    "    y_tst = y[test_idx]\n",
    "\n",
    "    err_arr[0, r] = err_dpdf\n",
    "\n",
    "    dprf = DPRF(n_trees=10,max_depth=d_mult)\n",
    "    dprf.fit(X_tr_cat,y_tr,Acat,C,eps=2)\n",
    "    y_dprf = dprf.predict(X_tst_cat,C)\n",
    "    err_dprf = np.sum(np.abs(y_tst-y_dprf))/len(y_tst)\n",
    "    err_arr[1, r] = err_dprf\n",
    "\n",
    "    rf = RandomForestClassifier(n_estimators=10,max_depth=d_full,min_samples_leaf=5,max_features=5)\n",
    "    rf.fit(X_tr,y_tr)\n",
    "    y_rf = rf.predict(X_tst)\n",
    "    err_rf = np.sum(np.abs(y_rf-y_tst))/len(y_tst)\n",
    "    err_arr[2, r] = err_rf\n",
    "\n",
    "    rf_base = ExtraTreesClassifier(n_estimators=10,max_depth=d_full,min_samples_leaf=5,max_features=5)\n",
    "    rf_base.fit(X_tr,y_tr)\n",
    "    y_base = rf_base.predict(X_tst)\n",
    "    err_base = np.sum(np.abs(y_tst-y_base))/len(y_tst)\n",
    "    err_arr[3, r] = err_base\n",
    "\n",
    "    mf = DiPrimeCForest(n_trees=10,max_depth=d_full,max_features=5, partition=False)\n",
    "    mf.fit(X_tr,y_tr,A,cat_idx,bnds_y)\n",
    "    y_mf = (mf.predict(X_tst,cat_idx) >= 0.5).astype(np.float)\n",
    "    err_mf = np.sum(np.abs(y_tst-y_mf))/len(y_tst)\n",
    "    err_arr[4, r] = err_mf\n",
    "\n",
    "    dpmf = DiPrimeCForest(n_trees=10,max_depth=d_part,max_features=5)\n",
    "    dpmf.fit(X_tr,y_tr,A,cat_idx,bnds_y,eps=2,b_med=0.5)\n",
    "    y_dpmf = (dpmf.predict(X_tst,cat_idx) >= 0.5).astype(np.float)\n",
    "    err_dpmf = np.sum(np.abs(y_tst-y_dpmf))/len(y_tst)\n",
    "    err_arr[5, r] = err_dpmf\n",
    "\n",
    "    dpdmf = DiPrimeFlipCForest(n_trees=10,max_depth=d_part,max_features=5)\n",
    "    dpdmf.fit(X_tr,y_tr,A,cat_idx,bnds_y,eps=2,b_med=0.5)\n",
    "    y_dpdmf = (dpdmf.predict(X_tst,cat_idx) >= 0.5).astype(np.float)\n",
    "    err_dpdmf = np.sum(np.abs(y_tst-y_dpdmf))/len(y_tst)\n",
    "    err_arr[6, r] = err_dpdmf\n",
    "\n",
    "    dperf = DPRandCForest(n_trees=10,max_depth=d_full,max_features=1)\n",
    "    dperf.fit(X_tr,y_tr,A,cat_idx,bnds_y,eps=4)\n",
    "    y_dperf = dperf.predict(X_tst,cat_idx)\n",
    "    err_dperf = np.sum(np.abs(y_tst-y_dperf))/len(y_tst)\n",
    "    err_arr[7,r] = err_dperf"
   ]
  },
  {
   "cell_type": "code",
   "execution_count": 31,
   "metadata": {},
   "outputs": [
    {
     "name": "stdout",
     "output_type": "stream",
     "text": [
      "Error for  DP-DF  is  0.40402930402930404 +/- 0.01611893194517562\n",
      "Error for  DP-RF  is  0.26117216117216113 +/- 0.011379642237979853\n",
      "Error for  Random forest  is  0.014285714285714287 +/- 0.006807152045084819\n",
      "Error for  ERT  is  0.1413919413919414 +/- 0.03246167402321303\n",
      "Error for  Median trees  is  0.05750915750915751 +/- 0.013989010951967812\n",
      "Error for  DiPriMe  is  0.23663003663003662 +/- 0.024255276960475754\n",
      "Error for  DiPriMeFlip  is  0.22380952380952382 +/- 0.024928227883351764\n",
      "Error for  DP Random Trees  is  0.4122220572368766 +/- 0.006548432011306235\n"
     ]
    }
   ],
   "source": [
    "find_errors_with_bars(err_arr, algo_names, 0.95)"
   ]
  },
  {
   "cell_type": "markdown",
   "metadata": {},
   "source": [
    "### HIGGS\n",
    "There are 28 features, of which 7 are hand-crafted features. This dataset has 11 million samples, of which we sample 100,000 samples.\n",
    "\n",
    "Link: https://archive.ics.uci.edu/ml/datasets/HIGGS#"
   ]
  },
  {
   "cell_type": "code",
   "execution_count": 32,
   "metadata": {},
   "outputs": [],
   "source": [
    "data_path = \"../Datasets/HIGGS/HIGGS_sampled.csv\"\n",
    "df_raw = pd.read_csv(data_path,index_col=False, header=None)\n",
    "df_y = df_raw.pop(0)\n",
    "df_raw[29] = df_y\n",
    "attribute_names = df_raw.columns[:-1]\n",
    "\n",
    "df = pd.DataFrame()\n",
    "for col in df_raw.columns:\n",
    "    if col != 29:\n",
    "        df[col] = pd.cut(df_raw[col],bins=5,labels=False)\n",
    "df[29] = df_raw[29]\n",
    "\n",
    "Xycat = df.to_numpy(np.float)\n",
    "Xcat = Xycat[:,:-1]\n",
    "y = Xycat[:,-1]\n",
    "Xy = df_raw.to_numpy(dtype=np.float)"
   ]
  },
  {
   "cell_type": "code",
   "execution_count": 34,
   "metadata": {},
   "outputs": [
    {
     "name": "stderr",
     "output_type": "stream",
     "text": [
      "100%|██████████| 5/5 [38:20<00:00, 460.03s/it]\n"
     ]
    }
   ],
   "source": [
    "err_arr = np.zeros((8, num_runs))\n",
    "min_occ = 25  # Min leaf node occupancy\n",
    "\n",
    "cat_idx = []\n",
    "A = gen_attdict(Xy[:,:-1],cat_idx) \n",
    "bnds_y = np.array([0,1]) # Bound on target value\n",
    "Acat = gen_attdict(Xcat,list(range(Xcat.shape[1])))\n",
    "C = [0,1]\n",
    "\n",
    "for r in tqdm(range(num_runs)):\n",
    "    ## Train test split\n",
    "    train_size = int(np.floor(0.9*Xycat.shape[0]))\n",
    "    test_size = Xycat.shape[0]-train_size\n",
    "    shuffle_idx = rn.permutation(Xycat.shape[0])\n",
    "    train_idx = shuffle_idx[:train_size]\n",
    "    test_idx = shuffle_idx[train_size:]\n",
    "\n",
    "    d_full = tree_depth(train_size, min_occ)\n",
    "    d_mult = tree_depth(train_size, min_occ, num_bins=5)\n",
    "    d_part = tree_depth(train_size, min_occ, partition=True, num_trees=10)    \n",
    "\n",
    "    Xycat_tr = [list(a) for a in list(Xycat[train_idx,:])]\n",
    "    Xcat_tst = [list(a) for a in list(Xycat[test_idx,:-1])]\n",
    "    y_tst = list(y[test_idx])\n",
    "\n",
    "    dpdf = DP_SysFor(records=Xycat_tr, max_height=d_mult, target_attribute_index=28, num_trees=10,\n",
    "                     attribute_names=attribute_names, pruning=True)\n",
    "    y_pred = dpdf.classify_list(Xcat_tst)\n",
    "    y_diff = [y_pred[i] != y_tst[i] for i in range(len(y_tst))]\n",
    "    err_dpdf = sum(y_diff)/len(y_tst)\n",
    "\n",
    "    X_tr = Xy[train_idx,:-1]\n",
    "    X_tst = Xy[test_idx,:-1]\n",
    "    y_tr = Xy[train_idx,-1]\n",
    "    y_tst = Xy[test_idx,-1]\n",
    "\n",
    "    M,N = np.shape(X_tr)\n",
    "\n",
    "    X_tr_cat = Xcat[train_idx,:]\n",
    "    X_tst_cat = Xcat[test_idx,:]\n",
    "    y_tr = y[train_idx]\n",
    "    y_tst = y[test_idx]\n",
    "\n",
    "    err_arr[0, r] = err_dpdf\n",
    "\n",
    "    dprf = DPRF(n_trees=10,max_depth=d_mult)\n",
    "    dprf.fit(X_tr_cat,y_tr,Acat,C,eps=2)\n",
    "    y_dprf = dprf.predict(X_tst_cat,C)\n",
    "    err_dprf = np.sum(np.abs(y_tst-y_dprf))/len(y_tst)\n",
    "    err_arr[1, r] = err_dprf\n",
    "\n",
    "    rf = RandomForestClassifier(n_estimators=10,max_depth=d_full,min_samples_leaf=5,max_features=5)\n",
    "    rf.fit(X_tr,y_tr)\n",
    "    y_rf = rf.predict(X_tst)\n",
    "    err_rf = np.sum(np.abs(y_rf-y_tst))/len(y_tst)\n",
    "    err_arr[2, r] = err_rf\n",
    "\n",
    "    rf_base = ExtraTreesClassifier(n_estimators=10,max_depth=d_full,min_samples_leaf=5,max_features=5)\n",
    "    rf_base.fit(X_tr,y_tr)\n",
    "    y_base = rf_base.predict(X_tst)\n",
    "    err_base = np.sum(np.abs(y_tst-y_base))/len(y_tst)\n",
    "    err_arr[3, r] = err_base\n",
    "\n",
    "    mf = DiPrimeCForest(n_trees=10,max_depth=d_full,max_features=5,partition=False)\n",
    "    mf.fit(X_tr,y_tr,A,cat_idx,bnds_y)\n",
    "    y_mf = (mf.predict(X_tst,cat_idx) >= 0.5).astype(np.float)\n",
    "    err_mf = np.sum(np.abs(y_tst-y_mf))/len(y_tst)\n",
    "    err_arr[4, r] = err_mf\n",
    "\n",
    "    dpmf = DiPrimeCForest(n_trees=10,max_depth=d_part,max_features=5)\n",
    "    dpmf.fit(X_tr,y_tr,A,cat_idx,bnds_y,eps=2,b_med=0.5)\n",
    "    y_dpmf = (dpmf.predict(X_tst,cat_idx) >= 0.5).astype(np.float)\n",
    "    err_dpmf = np.sum(np.abs(y_tst-y_dpmf))/len(y_tst)\n",
    "    err_arr[5, r] = err_dpmf\n",
    "\n",
    "    dpdmf = DiPrimeFlipCForest(n_trees=10,max_depth=d_part,max_features=5)\n",
    "    dpdmf.fit(X_tr,y_tr,A,cat_idx,bnds_y,eps=2,b_med=0.5)\n",
    "    y_dpdmf = (dpdmf.predict(X_tst,cat_idx) >= 0.5).astype(np.float)\n",
    "    err_dpdmf = np.sum(np.abs(y_tst-y_dpdmf))/len(y_tst)\n",
    "    err_arr[6, r] = err_dpdmf\n",
    "\n",
    "    dperf = DPRandCForest(n_trees=10,max_depth=d_full,max_features=1)\n",
    "    dperf.fit(X_tr,y_tr,A,cat_idx,bnds_y,eps=4)\n",
    "    y_dperf = dperf.predict(X_tst,cat_idx)\n",
    "    err_dperf = np.sum(np.abs(y_tst-y_dperf))/len(y_tst)\n",
    "    err_arr[7, r] = err_dperf"
   ]
  },
  {
   "cell_type": "code",
   "execution_count": 35,
   "metadata": {},
   "outputs": [
    {
     "name": "stdout",
     "output_type": "stream",
     "text": [
      "Error for  DP-DF  is  0.47056000000000003 +/- 0.0049045570756138905\n",
      "Error for  DP-RF  is  0.46068 +/- 0.0047654022510108295\n",
      "Error for  Random forest  is  0.30148 +/- 0.005340252364007852\n",
      "Error for  ERT  is  0.35860000000000003 +/- 0.007048015606431878\n",
      "Error for  Median trees  is  0.30732 +/- 0.004259034212362315\n",
      "Error for  DiPriMe  is  0.39658000000000004 +/- 0.006869174325116135\n",
      "Error for  DiPriMeFlip  is  0.39016 +/- 0.005066597734934428\n",
      "Error for  DP Random Trees  is  0.4944157487301487 +/- 0.0011422681134706531\n"
     ]
    }
   ],
   "source": [
    "find_errors_with_bars(err_arr, algo_names, 0.95)"
   ]
  },
  {
   "cell_type": "markdown",
   "metadata": {},
   "source": [
    "### PUC-Rio (Classification of body postures and movements)\n",
    "There are 18 features and over 165,000 samples. The target is body posture with only samples corresponding to sitting or standing postures used.\n",
    "Link: http://groupware.les.inf.puc-rio.br/har#ixzz2PyRdbAfA"
   ]
  },
  {
   "cell_type": "code",
   "execution_count": 36,
   "metadata": {},
   "outputs": [],
   "source": [
    "data_path = \"../Datasets/PUC-Rio/dataset-har-PUC-Rio-ugulino.csv\"\n",
    "df_raw = pd.read_csv(data_path, sep=';', index_col=False)\n",
    "df_raw = df_raw.drop(columns=['user','body_mass_index'])\n",
    "df_raw[df_raw['class'].str.contains('sitting')]['class'] = 'sitting'\n",
    "df_raw[df_raw['class'].str.contains('standing')]['class'] = 'standing'\n",
    "df_raw = df_raw.loc[(df_raw['class'] == 'sitting') | (df_raw['class'] == 'standing')]\n",
    "df_raw['class'] = pd.Categorical(df_raw['class'])\n",
    "df_raw['class'] = df_raw['class'].cat.codes  # Binarizing classes\n",
    "\n",
    "df_raw['z4'] = df_raw['z4'].astype(np.int)\n",
    "for col in df_raw.columns:\n",
    "    if col in ['gender','age','how_tall_in_meters','weight']:\n",
    "        df_raw[col] = pd.Categorical(df_raw[col])\n",
    "        df_raw[col] = df_raw[col].cat.codes\n",
    "\n",
    "attribute_names = df_raw.columns[:-1]\n",
    "\n",
    "df = pd.DataFrame()\n",
    "for col in df_raw.columns:\n",
    "    if col not in ['gender','age','how_tall_in_meters','weight','class']:\n",
    "        df[col] = pd.cut(df_raw[col],bins=5,labels=False)\n",
    "    elif col != 'class':\n",
    "        df[col] = df_raw[col]\n",
    "df['class'] = df_raw['class']\n",
    "\n",
    "Xycat = df.to_numpy(np.float)\n",
    "Xcat = Xycat[:,:-1]\n",
    "y = Xycat[:,-1]\n",
    "Xy = df_raw.to_numpy(dtype=np.float)"
   ]
  },
  {
   "cell_type": "code",
   "execution_count": 38,
   "metadata": {},
   "outputs": [
    {
     "name": "stderr",
     "output_type": "stream",
     "text": [
      "100%|██████████| 5/5 [08:48<00:00, 105.63s/it]\n"
     ]
    }
   ],
   "source": [
    "err_arr = np.zeros((8, num_runs))\n",
    "min_occ = 25  # Min leaf node occupancy\n",
    "\n",
    "cat_idx = [0, 1, 2, 3]\n",
    "A = gen_attdict(Xy[:,:-1],cat_idx) \n",
    "bnds_y = np.array([0,1]) # Bound on target value\n",
    "Acat = gen_attdict(Xcat,list(range(Xcat.shape[1])))\n",
    "C = [0,1]\n",
    "\n",
    "for r in tqdm(range(num_runs)):\n",
    "    ## Train test split\n",
    "    train_size = int(np.floor(0.9*Xycat.shape[0]))\n",
    "    test_size = Xycat.shape[0]-train_size\n",
    "    shuffle_idx = rn.permutation(Xycat.shape[0])\n",
    "    train_idx = shuffle_idx[:train_size]\n",
    "    test_idx = shuffle_idx[train_size:]\n",
    "\n",
    "    d_full = tree_depth(train_size, min_occ)\n",
    "    d_mult = tree_depth(train_size, min_occ, num_bins=5)\n",
    "    d_part = tree_depth(train_size, min_occ, partition=True, num_trees=10)      \n",
    "    \n",
    "    Xycat_tr = [list(a) for a in list(Xycat[train_idx,:])]\n",
    "    Xcat_tst = [list(a) for a in list(Xycat[test_idx,:-1])]\n",
    "    y_tst = list(y[test_idx])\n",
    "\n",
    "    dpdf = DP_SysFor(records=Xycat_tr, max_height=d_mult, target_attribute_index=16, num_trees=10,\n",
    "                     attribute_names=attribute_names, pruning=True)\n",
    "    y_pred = dpdf.classify_list(Xcat_tst)\n",
    "    y_diff = [y_pred[i] != y_tst[i] for i in range(len(y_tst))]\n",
    "    err_dpdf = sum(y_diff)/len(y_tst)\n",
    "\n",
    "    X_tr = Xy[train_idx,:-1]\n",
    "    X_tst = Xy[test_idx,:-1]\n",
    "    y_tr = Xy[train_idx,-1]\n",
    "    y_tst = Xy[test_idx,-1]\n",
    "\n",
    "    M,N = np.shape(X_tr)\n",
    "\n",
    "    X_tr_cat = Xcat[train_idx,:]\n",
    "    X_tst_cat = Xcat[test_idx,:]\n",
    "    y_tr = y[train_idx]\n",
    "    y_tst = y[test_idx]\n",
    "\n",
    "    err_arr[0, r] = err_dpdf\n",
    "\n",
    "    dprf = DPRF(n_trees=10,max_depth=d_mult)\n",
    "    dprf.fit(X_tr_cat,y_tr,Acat,C,eps=2)\n",
    "    y_dprf = dprf.predict(X_tst_cat,C)\n",
    "    err_dprf = np.sum(np.abs(y_tst-y_dprf))/len(y_tst)\n",
    "    err_arr[1, r] = err_dprf\n",
    "\n",
    "    rf = RandomForestClassifier(n_estimators=10,max_depth=d_full,min_samples_leaf=5,max_features=5)\n",
    "    rf.fit(X_tr,y_tr)\n",
    "    y_rf = rf.predict(X_tst)\n",
    "    err_rf = np.sum(np.abs(y_rf-y_tst))/len(y_tst)\n",
    "    err_arr[2, r] = err_rf\n",
    "\n",
    "    rf_base = ExtraTreesClassifier(n_estimators=10,max_depth=d_full,min_samples_leaf=5,max_features=5)\n",
    "    rf_base.fit(X_tr,y_tr)\n",
    "    y_base = rf_base.predict(X_tst)\n",
    "    err_base = np.sum(np.abs(y_tst-y_base))/len(y_tst)\n",
    "    err_arr[3, r] = err_base\n",
    "\n",
    "    mf = DiPrimeCForest(n_trees=10,max_depth=d_full,max_features=5,partition=False)\n",
    "    mf.fit(X_tr,y_tr,A,cat_idx,bnds_y)\n",
    "    y_mf = (mf.predict(X_tst,cat_idx) >= 0.5).astype(np.float)\n",
    "    err_mf = np.sum(np.abs(y_tst-y_mf))/len(y_tst)\n",
    "    err_arr[4, r] = err_mf\n",
    "\n",
    "    dpmf = DiPrimeCForest(n_trees=10,max_depth=d_part,max_features=5)\n",
    "    dpmf.fit(X_tr,y_tr,A,cat_idx,bnds_y,eps=2,b_med=0.5)\n",
    "    y_dpmf = (dpmf.predict(X_tst,cat_idx) >= 0.5).astype(np.float)\n",
    "    err_dpmf = np.sum(np.abs(y_tst-y_dpmf))/len(y_tst)\n",
    "    err_arr[5, r] = err_dpmf\n",
    "\n",
    "    dpdmf = DiPrimeFlipCForest(n_trees=10,max_depth=d_part,max_features=5)\n",
    "    dpdmf.fit(X_tr,y_tr,A,cat_idx,bnds_y,eps=2,b_med=0.5)\n",
    "    y_dpdmf = (dpdmf.predict(X_tst,cat_idx) >= 0.5).astype(np.float)\n",
    "    err_dpdmf = np.sum(np.abs(y_tst-y_dpdmf))/len(y_tst)\n",
    "    err_arr[6, r] = err_dpdmf\n",
    "\n",
    "    dperf = DPRandCForest(n_trees=10,max_depth=d_full,max_features=1)\n",
    "    dperf.fit(X_tr,y_tr,A,cat_idx,bnds_y,eps=4)\n",
    "    y_dperf = dperf.predict(X_tst,cat_idx)\n",
    "    err_dperf = np.sum(np.abs(y_tst-y_dperf))/len(y_tst)\n",
    "    err_arr[7, r] = err_dperf"
   ]
  },
  {
   "cell_type": "code",
   "execution_count": 39,
   "metadata": {},
   "outputs": [
    {
     "name": "stdout",
     "output_type": "stream",
     "text": [
      "Error for  DP-DF  is  0.4836853382307928 +/- 0.010512343633611379\n",
      "Error for  DP-RF  is  0.012937455361697787 +/- 0.008284780081251926\n",
      "Error for  Random forest  is  6.121824303642486e-05 +/- 6.206393689589382e-05\n",
      "Error for  ERT  is  2.0406081012141617e-05 +/- 5.067499227441144e-05\n",
      "Error for  Median trees  is  0.0 +/- nan\n",
      "Error for  DiPriMe  is  0.0002448729721456994 +/- 0.00015202497682323434\n",
      "Error for  DiPriMeFlip  is  0.00044893378226711555 +/- 0.0003061541306816317\n",
      "Error for  DP Random Trees  is  0.2204418102298002 +/- 0.01723848193199512\n"
     ]
    }
   ],
   "source": [
    "find_errors_with_bars(err_arr, algo_names, 0.95)"
   ]
  },
  {
   "cell_type": "markdown",
   "metadata": {},
   "source": [
    "### Examination of balancedness and node counts"
   ]
  },
  {
   "cell_type": "markdown",
   "metadata": {},
   "source": [
    "We examine the balancedness of the splits with trees learned on the Wall-following Robot Navigation data."
   ]
  },
  {
   "cell_type": "code",
   "execution_count": 25,
   "metadata": {},
   "outputs": [],
   "source": [
    "data_path = \"../Datasets/Wall-Following_Robot_Nav/sensor_readings_24.data\"\n",
    "df_raw = pd.read_csv(data_path,index_col=False,header=None)\n",
    "df = df_raw.copy()\n",
    "df.loc[df_raw[24]=='Move-Forward',[24]] = 0 # Binarizing class\n",
    "df.loc[df_raw[24]!='Move-Forward',[24]] = 1 # Binarizing class\n",
    "df_raw = df.copy()\n",
    "\n",
    "attribute_names = df_raw.columns[:-1]\n",
    "\n",
    "df = pd.DataFrame()\n",
    "for col in df_raw.columns:\n",
    "    if col != 24:\n",
    "        df[col] = pd.cut(df_raw[col],bins=5,labels=False)\n",
    "df[24] = df_raw[24]\n",
    "\n",
    "Xycat = df.to_numpy(np.float)\n",
    "Xcat = Xycat[:,:-1]\n",
    "y = Xycat[:,-1]"
   ]
  },
  {
   "cell_type": "code",
   "execution_count": 30,
   "metadata": {},
   "outputs": [
    {
     "name": "stderr",
     "output_type": "stream",
     "text": [
      "100%|██████████| 5/5 [01:02<00:00, 12.60s/it]\n"
     ]
    }
   ],
   "source": [
    "min_occ = 25  # Min leaf node occupancy\n",
    "\n",
    "cat_idx = []\n",
    "A = gen_attdict(Xy[:,:-1],cat_idx) \n",
    "bnds_y = np.array([0,1]) # Bound on target value\n",
    "Acat = gen_attdict(Xcat,list(range(Xcat.shape[1])))\n",
    "C = [0,1]\n",
    "\n",
    "## Train test split\n",
    "train_size = int(np.floor(0.9*Xycat.shape[0]))\n",
    "test_size = Xycat.shape[0]-train_size\n",
    "shuffle_idx = rn.permutation(Xycat.shape[0])\n",
    "train_idx = shuffle_idx[:train_size]\n",
    "test_idx = shuffle_idx[train_size:]\n",
    "\n",
    "d_full = 5    \n",
    "\n",
    "Xycat_tr = [list(a) for a in list(Xycat[train_idx,:])]\n",
    "Xcat_tst = [list(a) for a in list(Xycat[test_idx,:-1])]\n",
    "y_tst = list(y[test_idx])\n",
    "\n",
    "dpdf = DP_SysFor(records=Xycat_tr, max_height=d_full, target_attribute_index=24, num_trees=10,\n",
    "                attribute_names=attribute_names,pruning=True)\n",
    "y_pred = dpdf.classify_list(Xcat_tst)\n",
    "y_diff = [y_pred[i] != y_tst[i] for i in range(len(y_tst))]\n",
    "err_dpdf = sum(y_diff)/len(y_tst)\n",
    "\n",
    "Xy = df_raw.to_numpy(dtype=np.float)\n",
    "X_tr = Xy[train_idx,:-1]\n",
    "X_tst = Xy[test_idx,:-1]\n",
    "y_tr = Xy[train_idx,-1]\n",
    "y_tst = Xy[test_idx,-1]\n",
    "\n",
    "M,N = np.shape(X_tr)\n",
    "\n",
    "X_tr_cat = Xcat[train_idx,:]\n",
    "X_tst_cat = Xcat[test_idx,:]\n",
    "y_tr = y[train_idx]\n",
    "y_tst = y[test_idx]\n",
    "\n",
    "dprf = DPRF(n_trees=10,max_depth=d_full)\n",
    "dprf.fit(X_tr_cat,y_tr,Acat,C,eps=2)\n",
    "y_dprf = dprf.predict(X_tst_cat,C)\n",
    "err_dprf = np.sum(np.abs(y_tst-y_dprf))/len(y_tst)\n",
    "\n",
    "rf = RandomForestClassifier(n_estimators=10,max_depth=d_full,min_samples_leaf=5,max_features=5)\n",
    "rf.fit(X_tr,y_tr)\n",
    "y_rf = rf.predict(X_tst)\n",
    "err_rf = np.sum(np.abs(y_rf-y_tst))/len(y_tst)\n",
    "\n",
    "rf_base = ExtraTreesClassifier(n_estimators=10,max_depth=d_full,min_samples_leaf=5,max_features=5)\n",
    "rf_base.fit(X_tr,y_tr)\n",
    "y_base = rf_base.predict(X_tst)\n",
    "err_base = np.sum(np.abs(y_tst-y_base))/len(y_tst)\n",
    "\n",
    "mf = DiPrimeCForest(n_trees=10,max_depth=d_full,max_features=5, partition=False)\n",
    "mf.fit(X_tr,y_tr,A,cat_idx,bnds_y)\n",
    "y_mf = (mf.predict(X_tst,cat_idx) >= 0.5).astype(np.float)\n",
    "err_mf = np.sum(np.abs(y_tst-y_mf))/len(y_tst)\n",
    "\n",
    "dpmf = DiPrimeCForest(n_trees=10,max_depth=d_full,max_features=5)\n",
    "dpmf.fit(X_tr,y_tr,A,cat_idx,bnds_y,eps=2,b_med=0.5)\n",
    "y_dpmf = (dpmf.predict(X_tst,cat_idx) >= 0.5).astype(np.float)\n",
    "err_dpmf = np.sum(np.abs(y_tst-y_dpmf))/len(y_tst)\n",
    "\n",
    "dpdmf = DiPrimeFlipCForest(n_trees=10,max_depth=d_full,max_features=5)\n",
    "dpdmf.fit(X_tr,y_tr,A,cat_idx,bnds_y,eps=2,b_med=0.5)\n",
    "y_dpdmf = (dpdmf.predict(X_tst,cat_idx) >= 0.5).astype(np.float)\n",
    "err_dpdmf = np.sum(np.abs(y_tst-y_dpdmf))/len(y_tst)\n",
    "\n",
    "dperf = DPRandCForest(n_trees=10,max_depth=d_full,max_features=1)\n",
    "dperf.fit(X_tr,y_tr,A,cat_idx,bnds_y,eps=4)\n",
    "y_dperf = dperf.predict(X_tst,cat_idx)\n",
    "err_dperf = np.sum(np.abs(y_tst-y_dperf))/len(y_tst)"
   ]
  },
  {
   "cell_type": "code",
   "execution_count": 172,
   "metadata": {},
   "outputs": [
    {
     "name": "stdout",
     "output_type": "stream",
     "text": [
      "Average node count for DPDF:  267.0\n"
     ]
    }
   ],
   "source": [
    "node_count_avg = 0\n",
    "for tree in dpdf._forest:\n",
    "    node_list = [tree._root_node]\n",
    "    node_count = 0\n",
    "    while node_list:\n",
    "        node_count += 1\n",
    "        curr_node = node_list.pop(0)\n",
    "        if curr_node._children is not None:\n",
    "            node_list.extend(curr_node._children)\n",
    "    node_count_avg += node_count\n",
    "print('Average node count for DPDF: ',node_count_avg/len(dpdf._forest))"
   ]
  },
  {
   "cell_type": "code",
   "execution_count": 173,
   "metadata": {},
   "outputs": [
    {
     "name": "stdout",
     "output_type": "stream",
     "text": [
      "Average node count for DPRF:  1959.0\n"
     ]
    }
   ],
   "source": [
    "node_count_avg = 0\n",
    "for tree in dprf.trees:\n",
    "    node_list = [tree]\n",
    "    node_count = 0\n",
    "    while node_list:\n",
    "        node_count += 1\n",
    "        curr_node = node_list.pop(0)\n",
    "        if curr_node.children:\n",
    "            node_list.extend(curr_node.children)\n",
    "    node_count_avg += node_count\n",
    "print('Average node count for DPRF: ',node_count_avg/len(dprf.trees))"
   ]
  },
  {
   "cell_type": "markdown",
   "metadata": {},
   "source": [
    "##### Checking balancedness of trees"
   ]
  },
  {
   "cell_type": "code",
   "execution_count": 174,
   "metadata": {},
   "outputs": [
    {
     "name": "stdout",
     "output_type": "stream",
     "text": [
      "SD of leaf counts for DP-DF:  5.584486966508668\n"
     ]
    }
   ],
   "source": [
    "leaf_counts = []\n",
    "for tree in dpdf._forest:\n",
    "    node_list = [tree._root_node]\n",
    "    while node_list:\n",
    "        curr_node = node_list.pop(0)\n",
    "        if curr_node._children is not None:\n",
    "            node_list.extend(curr_node._children)\n",
    "        else:\n",
    "            #print(curr_node._attribute_name)\n",
    "            leaf_counts.append(curr_node._count)\n",
    "#print(leaf_counts)\n",
    "leaf_counts = np.array(leaf_counts)\n",
    "print('SD of leaf counts for DP-DF: ', np.std(leaf_counts)/np.mean(leaf_counts))\n",
    "low_occ_dpdf = np.copy(leaf_counts)"
   ]
  },
  {
   "cell_type": "code",
   "execution_count": 175,
   "metadata": {},
   "outputs": [
    {
     "name": "stdout",
     "output_type": "stream",
     "text": [
      "SD of leaf counts for DP-RF:  8.434519885840492\n"
     ]
    }
   ],
   "source": [
    "leaf_counts = []\n",
    "for tree in dprf.trees:\n",
    "    node_list = [tree]\n",
    "    while node_list:\n",
    "        curr_node = node_list.pop(0)\n",
    "        if curr_node.children:\n",
    "            node_list.extend(curr_node.children)\n",
    "        else:\n",
    "            leaf_counts.append(curr_node.count)\n",
    "#print(leaf_counts)\n",
    "leaf_counts = np.array(leaf_counts)\n",
    "print('SD of leaf counts for DP-RF: ', np.std(leaf_counts)/np.mean(leaf_counts))\n",
    "low_occ_dprf = np.copy(leaf_counts)"
   ]
  },
  {
   "cell_type": "code",
   "execution_count": 176,
   "metadata": {},
   "outputs": [
    {
     "name": "stdout",
     "output_type": "stream",
     "text": [
      "SD of leaf counts for DP random tree:  6.8568174671315445\n"
     ]
    }
   ],
   "source": [
    "leaf_counts = []\n",
    "for tree in dperf.trees:\n",
    "    node_list = [tree]\n",
    "    while node_list:\n",
    "        curr_node = node_list.pop(0)\n",
    "        if curr_node.left is not None and curr_node.right is not None:\n",
    "            node_list.extend([curr_node.left, curr_node.right])\n",
    "        else:\n",
    "            leaf_counts.append(curr_node.count)\n",
    "#print(leaf_counts)\n",
    "leaf_counts = np.array(leaf_counts)\n",
    "print('SD of leaf counts for DP random tree: ', np.std(leaf_counts)/np.mean(leaf_counts))\n",
    "low_occ_dperf = np.copy(leaf_counts)"
   ]
  },
  {
   "cell_type": "code",
   "execution_count": 177,
   "metadata": {},
   "outputs": [
    {
     "name": "stdout",
     "output_type": "stream",
     "text": [
      "SD of leaf counts for DP median tree:  0.620304920890169\n"
     ]
    }
   ],
   "source": [
    "leaf_counts = []\n",
    "for tree in dpmf.trees:\n",
    "    node_list = [tree]\n",
    "    while node_list:\n",
    "        curr_node = node_list.pop(0)\n",
    "        if curr_node.left is not None and curr_node.right is not None:\n",
    "            node_list.extend([curr_node.left, curr_node.right])\n",
    "        else:\n",
    "            leaf_counts.append(curr_node.count)\n",
    "#print(leaf_counts)\n",
    "leaf_counts = np.array(leaf_counts)\n",
    "print('SD of leaf counts for DiPriMe tree: ', np.std(leaf_counts)/np.mean(leaf_counts))\n",
    "low_occ_dpmf = np.copy(leaf_counts)"
   ]
  },
  {
   "cell_type": "code",
   "execution_count": 188,
   "metadata": {
    "scrolled": true
   },
   "outputs": [
    {
     "data": {
      "image/png": "[encoded data removed]",
      "text/plain": [
       "<Figure size 2160x1080 with 4 Axes>"
      ]
     },
     "metadata": {
      "needs_background": "light"
     },
     "output_type": "display_data"
    }
   ],
   "source": [
    "bins = np.linspace(0,len(y_tr)/4,24)\n",
    "figx, figy = (2, 2)  # Configure subplot layout\n",
    "label_angle = -45  # Angle of xlabels\n",
    "plt.figure(figsize=(30,15))\n",
    "plt.subplot(figx,figy,1)\n",
    "counts,bins,_ = plt.hist(low_occ_dpmf,bins,density=False,color='tab:red',alpha=0.8,label='DiPriMe')\n",
    "\n",
    "plt.legend(prop={'size':40,'family':'Microsoft Sans Serif'})\n",
    "xticks = np.linspace(0,len(y_tr)/4,12)\n",
    "xtick_labels = [\"{:4.2f}\".format(x) for x in xticks/len(y_tr)]\n",
    "plt.xticks(xticks,labels=xtick_labels,rotation=label_angle)\n",
    "plt.xticks(fontsize=40,fontname='Microsoft Sans Serif')\n",
    "plt.yticks(fontsize=40,fontname='Microsoft Sans Serif')\n",
    "plt.xlabel(\"Fraction of data instances\",fontsize=40,fontname='Microsoft Sans Serif')\n",
    "plt.ylabel(\"Number of leaves\",fontsize=40,fontname='Microsoft Sans Serif')\n",
    "\n",
    "plt.subplot(figx,figy,2)\n",
    "counts,bins,_ = plt.hist(low_occ_dpdf,bins,density=False,color='tab:orange',alpha=0.8,label='DP-DF')\n",
    "\n",
    "plt.legend(prop={'size':40,'family':'Microsoft Sans Serif'})\n",
    "xticks = np.linspace(0,len(y_tr)/4,12)\n",
    "xtick_labels = [\"{:4.2f}\".format(x) for x in xticks/len(y_tr)]\n",
    "plt.xticks(xticks,labels=xtick_labels,rotation=label_angle)\n",
    "plt.xticks(fontsize=40,fontname='Microsoft Sans Serif')\n",
    "plt.yticks(fontsize=40,fontname='Microsoft Sans Serif')\n",
    "plt.xlabel(\"Fraction of data instances\",fontsize=40,fontname='Microsoft Sans Serif')\n",
    "plt.ylabel(\"Number of leaves\",fontsize=40,fontname='Microsoft Sans Serif')\n",
    "\n",
    "plt.subplot(figx,figy,3)\n",
    "counts,bins,_ = plt.hist(low_occ_dprf,bins,density=False,color='tab:blue',alpha=0.8,label='DP-RF')\n",
    "\n",
    "plt.legend(prop={'size':40,'family':'Microsoft Sans Serif'})\n",
    "xticks = np.linspace(0,len(y_tr)/4,12)\n",
    "xtick_labels = [\"{:4.2f}\".format(x) for x in xticks/len(y_tr)]\n",
    "plt.xticks(xticks,labels=xtick_labels,rotation=label_angle)\n",
    "plt.xticks(fontsize=40,fontname='Microsoft Sans Serif')\n",
    "plt.yticks(fontsize=40,fontname='Microsoft Sans Serif')\n",
    "plt.xlabel(\"Fraction of data instances\",fontsize=40,fontname='Microsoft Sans Serif')\n",
    "plt.ylabel(\"Number of leaves\",fontsize=40,fontname='Microsoft Sans Serif')\n",
    "\n",
    "plt.subplot(figx,figy,4)\n",
    "counts,bins,_ = plt.hist(low_occ_dperf,bins,density=False,color='tab:green',alpha=0.8,label='DP-ERT')\n",
    "\n",
    "plt.legend(prop={'size':40,'family':'Microsoft Sans Serif'})\n",
    "xticks = np.linspace(0,len(y_tr)/4,12)\n",
    "xtick_labels = [\"{:4.2f}\".format(x) for x in xticks/len(y_tr)]\n",
    "plt.xticks(xticks,labels=xtick_labels,rotation=label_angle)\n",
    "plt.xticks(fontsize=40,fontname='Microsoft Sans Serif')\n",
    "plt.yticks(fontsize=40,fontname='Microsoft Sans Serif')\n",
    "plt.xlabel(\"Fraction of data instances\",fontsize=40,fontname='Microsoft Sans Serif')\n",
    "plt.ylabel(\"Number of leaves\",fontsize=40,fontname='Microsoft Sans Serif')\n",
    "\n",
    "fig = plt.gcf()\n",
    "fig.align_ylabels()\n",
    "fig.tight_layout()\n",
    "plt.savefig('DiPriMe_Results/node_occ.png',bbox_inches='tight')"
   ]
  }
 ],
 "metadata": {
  "kernelspec": {
   "display_name": "Python 3",
   "language": "python",
   "name": "python3"
  },
  "language_info": {
   "codemirror_mode": {
    "name": "ipython",
    "version": 3
   },
   "file_extension": ".py",
   "mimetype": "text/x-python",
   "name": "python",
   "nbconvert_exporter": "python",
   "pygments_lexer": "ipython3",
   "version": "3.6.10"
  }
 },
 "nbformat": 4,
 "nbformat_minor": 4
}
