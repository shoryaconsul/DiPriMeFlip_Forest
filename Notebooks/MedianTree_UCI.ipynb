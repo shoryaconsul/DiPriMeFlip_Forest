{
 "cells": [
  {
   "cell_type": "markdown",
   "metadata": {},
   "source": [
    "# Benchmarking performance of DiPriMe, DiPriMeExp, DiPriMeFlip\n",
    "\n",
    "This notebook can be used to replicate the experiments to compare the performance of DiPriMe, DiPriMeExp, DiPriMeFlip against various other tree-based methods."
   ]
  },
  {
   "cell_type": "code",
   "execution_count": 1,
   "metadata": {},
   "outputs": [],
   "source": [
    "%reload_ext autoreload\n",
    "%autoreload 2\n",
    "\n",
    "import numpy as np\n",
    "import numpy.random as rn\n",
    "import random\n",
    "import pandas as pd\n",
    "import csv\n",
    "import os\n",
    "from sklearn.model_selection import train_test_split\n",
    "from scipy.stats import t as student_t\n",
    "from tqdm import tqdm\n",
    "\n",
    "from matplotlib import pyplot as plt\n",
    "%matplotlib inline\n",
    "\n",
    "import warnings\n",
    "warnings.filterwarnings(\"ignore\")\n",
    "\n",
    "import sys\n",
    "sys.path.append(\"../Classes\")\n",
    "sys.path.append(\"../Baselines\")\n",
    "\n",
    "np.random.seed(10)"
   ]
  },
  {
   "cell_type": "code",
   "execution_count": 2,
   "metadata": {},
   "outputs": [],
   "source": [
    "# Function to generate dictionary of attribute ranges/values \n",
    "## X: Data (M points x N features) (M,N) numpy\n",
    "## cat_idx: List of categorical feature indices\n",
    "def gen_attdict(X,cat_idx):\n",
    "    A = dict()\n",
    "    for j in range(np.shape(X)[1]):\n",
    "        if j in cat_idx:\n",
    "            A[j] = list(np.unique(X[:,j]))\n",
    "        else:\n",
    "            A[j] = np.array([np.amin(X[:,j]),np.amax(X[:,j])])\n",
    "    return A"
   ]
  },
  {
   "cell_type": "code",
   "execution_count": 3,
   "metadata": {},
   "outputs": [],
   "source": [
    "# Function to compute suitable depth of tree for tree based on number of samples and desired minimum leaf node occupancy.\n",
    "# The computation is done assuming that we learn balanced binary trees.\n",
    "# num_samples: Number of samples\n",
    "# min_occupacny: Desired minimum leaf node occupacny\n",
    "# num_bins: Number of children per node\n",
    "# partition: True if algorithm is trained on disjoint subsets of data\n",
    "# num_trees: Number of trees trained\n",
    "def tree_depth(num_samples, min_occupancy, num_bins=2, partition=False, num_trees=None):\n",
    "    if partition and num_trees is None:\n",
    "        raise ValueError(\"Need to specifiy number of trees if data is partitioned\")\n",
    "    if not partition:  # Each tree is trained on all the samples\n",
    "        d = np.floor(np.log(num_samples/min_occupancy)/np.log(num_bins))\n",
    "    else:  # Each tree is trained on a disjoint subset of the samples\n",
    "        d = np.floor(np.log(num_samples/(min_occupancy*num_trees))/np.log(num_bins))\n",
    "    return int(d)"
   ]
  },
  {
   "cell_type": "code",
   "execution_count": 4,
   "metadata": {},
   "outputs": [],
   "source": [
    "# Function to determine uncertainty in results (error or accuracy) using Student's t-distribution.\n",
    "# error_arr: (N_a, N_r) 2D numpy array of error/accuracy values, N_r is the number of runs for each algorithm\n",
    "# algo_names: List of lenght N_a of algorithm names\n",
    "# conf: % confidence interval\n",
    "# This function prints the result to console and returns None.\n",
    "def find_errors_with_bars(error_arr, algo_names, conf=0.95):\n",
    "    if np.shape(error_arr)[0] != len(algo_names):\n",
    "        raise ValueError('Number of rows of error_arr should match number of algorithms.')\n",
    "    for i in range(np.shape(error_arr)[0]):\n",
    "        error_mean = np.mean(error_arr[i])\n",
    "        error_conf = student_t.interval(0.95, df=num_runs-1, loc=0, scale=np.std(error_arr[i])/np.sqrt(num_runs))[1]\n",
    "        print('Error for ', algo_names[i], ' is ', error_mean, '+/-',error_conf)"
   ]
  },
  {
   "cell_type": "markdown",
   "metadata": {},
   "source": [
    "## Regression:"
   ]
  },
  {
   "cell_type": "code",
   "execution_count": 5,
   "metadata": {},
   "outputs": [],
   "source": [
    "from DiPrime import *\n",
    "from DiPrimeFlip import *\n",
    "from RandForest_DP import *\n",
    "from dprf_Reg import DPRF_Reg\n",
    "from sklearn.ensemble import RandomForestRegressor\n",
    "from sklearn.ensemble import ExtraTreesRegressor\n",
    "\n",
    "num_runs = 10  # Number of runs for each method\n",
    "algo_names = ['Random forest', 'ERT', 'Median trees', 'DP-RF', 'DiPriMe', 'DiPriMeExp', 'DiPriMeFlip', 'DP-ERT']"
   ]
  },
  {
   "cell_type": "markdown",
   "metadata": {},
   "source": [
    "### Parkinson's Telemonitoring\n",
    "This dataset has 5875 data points, with 26 attributes. We drop the subject# and motor UPDRS (another possible target). Only the sex attribute is categorical. The total UPDRS is taken as the target variable.\n",
    "\n",
    "Link: https://archive.ics.uci.edu/ml/datasets/Parkinsons+Telemonitoring \n",
    "\n",
    "#### Read data:"
   ]
  },
  {
   "cell_type": "code",
   "execution_count": 6,
   "metadata": {},
   "outputs": [],
   "source": [
    "data_path = \"../Datasets/Parkinsons_Telemonitoring/parkinsons_updrs.data\"\n",
    "df_raw = pd.read_csv(data_path).drop(columns=['subject#','motor_UPDRS'])\n",
    "attribute_names = df_raw.columns[:-1]\n",
    "df_y = df_raw.pop('total_UPDRS')\n",
    "df_raw['total_UPDRS'] = df_y\n",
    "\n",
    "df = pd.DataFrame()\n",
    "for col in df_raw.columns:\n",
    "    if col not in ['sex','total_UPDRS']:\n",
    "        df[col] = pd.cut(df_raw[col],bins=5,labels=False)\n",
    "    elif col != 'total_UPDRS':\n",
    "        df[col] = df_raw[col]\n",
    "df['total_UPDRS'] = df_raw['total_UPDRS']/df_raw['total_UPDRS'].max()\n",
    "\n",
    "Xycat = df.to_numpy()\n",
    "Xcat = Xycat[:,:-1]\n",
    "y = Xycat[:,-1]\n",
    "Xy = df_raw.to_numpy()"
   ]
  },
  {
   "cell_type": "code",
   "execution_count": 7,
   "metadata": {},
   "outputs": [
    {
     "name": "stderr",
     "output_type": "stream",
     "text": [
      "100%|██████████| 10/10 [00:23<00:00,  2.39s/it]\n"
     ]
    }
   ],
   "source": [
    "err_arr = np.zeros((8, num_runs))\n",
    "min_occ = 25  # Min leaf node occupancy\n",
    "\n",
    "cat_idx = [1]\n",
    "A = gen_attdict(Xy[:,:-1],cat_idx) \n",
    "bnds_y = np.array([0,1]) # Bound on target value\n",
    "Acat = gen_attdict(Xcat,list(range(Xcat.shape[1])))\n",
    "C = np.copy(bnds_y)\n",
    "\n",
    "for r in tqdm(range(num_runs)):\n",
    "    ## Train test split\n",
    "    train_size = int(np.floor(0.9*Xycat.shape[0]))\n",
    "    test_size = Xycat.shape[0]-train_size\n",
    "    shuffle_idx = rn.permutation(Xycat.shape[0])\n",
    "    \n",
    "    d_full = tree_depth(train_size, min_occ)\n",
    "    d_mult = tree_depth(train_size, min_occ, num_bins=5)\n",
    "    d_part = tree_depth(train_size, min_occ, partition=True, num_trees=10)\n",
    "\n",
    "    train_idx = shuffle_idx[:train_size]\n",
    "    test_idx = shuffle_idx[train_size:]\n",
    "\n",
    "    X_tr = Xy[train_idx,:-1]\n",
    "    X_tst = Xy[test_idx,:-1]\n",
    "    y_tr = Xy[train_idx,-1]\n",
    "    y_tst = Xy[test_idx,-1]\n",
    "\n",
    "    M,N = np.shape(X_tr)\n",
    "\n",
    "    X_tr_cat = Xcat[train_idx,:]\n",
    "    X_tst_cat = Xcat[test_idx,:]\n",
    "    y_tr = y[train_idx]\n",
    "    y_tst = y[test_idx]\n",
    "\n",
    "    rf = RandomForestRegressor(n_estimators=10,max_depth=d_full,min_samples_leaf=5,max_features=5)\n",
    "    rf.fit(X_tr,y_tr)\n",
    "    y_rf = rf.predict(X_tst)\n",
    "    err_rf = np.sum((y_tst-y_rf)**2/len(y_tst))\n",
    "    err_arr[0, r] = err_rf\n",
    "\n",
    "    rf_base = ExtraTreesRegressor(n_estimators=10,max_depth=d_full,min_samples_leaf=5,max_features=5)\n",
    "    rf_base.fit(X_tr,y_tr)\n",
    "    y_base = rf_base.predict(X_tst)\n",
    "    err_base = np.sum((y_tst-y_base)**2/len(y_tst))\n",
    "    err_arr[1, r] = err_base\n",
    "\n",
    "    mf = DiPrimeForest(n_trees=10,max_depth=d_full,max_features=5,partition=False)\n",
    "    mf.fit(X_tr,y_tr,A,cat_idx,bnds_y)\n",
    "    y_mf = mf.predict(X_tst,cat_idx)\n",
    "    err_mf = np.sum((y_tst-y_mf)**2/len(y_tst))\n",
    "    err_arr[2, r] = err_mf\n",
    "\n",
    "    dprf = DPRF_Reg(n_trees=10,max_depth=d_mult)\n",
    "    dprf.fit(X_tr_cat,y_tr,Acat,C,eps=10)\n",
    "    y_dprf = dprf.predict(X_tst_cat)\n",
    "    err_dprf = np.sum((y_tst-y_dprf)**2/len(y_tst))\n",
    "    err_arr[3, r] = err_dprf\n",
    "\n",
    "    dpmf = DiPrimeForest(n_trees=10,max_depth=d_part,max_features=1)\n",
    "    dpmf.fit(X_tr,y_tr,A,cat_idx,bnds_y,eps=10,b_med=0.5)\n",
    "    y_dpmf = dpmf.predict(X_tst,cat_idx)\n",
    "    err_dpmf = np.sum((y_tst-y_dpmf)**2/len(y_tst))\n",
    "    err_arr[4, r] = err_dpmf\n",
    "\n",
    "    dpmf = DiPrimeForest(n_trees=10,max_depth=d_part,max_features=5)\n",
    "    dpmf.fit(X_tr,y_tr,A,cat_idx,bnds_y,eps=10,b_med=0.5)\n",
    "    y_dpmf = dpmf.predict(X_tst,cat_idx)\n",
    "    err_dpmf = np.sum((y_tst-y_dpmf)**2/len(y_tst))\n",
    "    err_arr[5, r] = err_dpmf\n",
    "\n",
    "    dpdmf = DiPrimeFlipForest(n_trees=10,max_depth=d_part,max_features=5)\n",
    "    dpdmf.fit(X_tr,y_tr,A,cat_idx,bnds_y,eps=10,b_med=0.5)\n",
    "    y_dpdmf = dpdmf.predict(X_tst,cat_idx)\n",
    "    err_dpdmf = np.sum((y_tst-y_dpdmf)**2/len(y_tst))\n",
    "    err_arr[6, r] = err_dpdmf\n",
    "\n",
    "    dprf = DPRandForest(n_trees=10,max_depth=d_full,max_features=1)\n",
    "    dprf.fit(X_tr,y_tr,A,cat_idx,bnds_y,eps=20)\n",
    "    y_dprf = dprf.predict(X_tst,cat_idx)\n",
    "    err_dprf = np.sum((y_tst-y_dprf)**2/len(y_tst))\n",
    "    err_arr[7, r] = err_dprf"
   ]
  },
  {
   "cell_type": "code",
   "execution_count": 8,
   "metadata": {},
   "outputs": [
    {
     "name": "stdout",
     "output_type": "stream",
     "text": [
      "Error for  Random forest  is  0.015875247657362597 +/- 0.0007107648096304533\n",
      "Error for  ERT  is  0.025578526001715462 +/- 0.0015793207032983657\n",
      "Error for  Median trees  is  0.018796465186259922 +/- 0.0008960338701284486\n",
      "Error for  DP-RF  is  0.05609474250077921 +/- 0.012559710529381403\n",
      "Error for  DiPriMe  is  0.03355885508301122 +/- 0.0012582709519685087\n",
      "Error for  DiPriMeExp  is  0.033167143569734214 +/- 0.0010097099818677994\n",
      "Error for  DiPriMeFlip  is  0.03295629256976179 +/- 0.0011626169451941224\n",
      "Error for  DP-ERT  is  0.03461573641557667 +/- 0.0014151729112672645\n"
     ]
    }
   ],
   "source": [
    "find_errors_with_bars(err_arr, algo_names, 0.95)"
   ]
  },
  {
   "cell_type": "markdown",
   "metadata": {},
   "source": [
    "### Appliances Energy Prediction\n",
    "The appliances energy prediction dataset has 19,375 data instances  with 29 attributes. rv1 and rv2 are dropped, while the month and day are extracted from the date. The appliances (energy) value is taken as the target variable.\n",
    "\n",
    "Link: https://archive.ics.uci.edu/ml/datasets/Appliances+energy+prediction\n",
    "\n",
    "#### Read data:"
   ]
  },
  {
   "cell_type": "code",
   "execution_count": 9,
   "metadata": {},
   "outputs": [
    {
     "name": "stdout",
     "output_type": "stream",
     "text": [
      "Index(['Appliances', 'lights', 'T1', 'RH_1', 'T2', 'RH_2', 'T3', 'RH_3', 'T4',\n",
      "       'RH_4', 'T5', 'RH_5', 'T6', 'RH_6', 'T7', 'RH_7', 'T8', 'RH_8', 'T9',\n",
      "       'RH_9', 'T_out', 'Press_mm_hg', 'RH_out', 'Windspeed', 'Visibility',\n",
      "       'Tdewpoint', 'Month', 'Day'],\n",
      "      dtype='object')\n"
     ]
    }
   ],
   "source": [
    "from datetime import date, datetime\n",
    "\n",
    "data_path = \"../Datasets/Appliances_Energy_Prediction/energydata_complete.csv\"\n",
    "df_raw = pd.read_csv(data_path)\n",
    "Mp,Np = df_raw.shape\n",
    "\n",
    "df_raw['Month'] = pd.Series([(datetime.strptime(df_raw.at[i,'date'],\"%Y-%m-%d %H:%M:%S\")\n",
    "                                                         ).month for i in range(Mp)])\n",
    "df_raw['Day'] = pd.Series([(datetime.strptime(df_raw.at[i,'date'],\"%Y-%m-%d %H:%M:%S\")\n",
    "                                                         ).day for i in range(Mp)])\n",
    "del df_raw['date'], df_raw['rv1'], df_raw['rv2']\n",
    "print(df_raw.columns)\n",
    "\n",
    "df_y = df_raw.pop('Appliances')\n",
    "df_raw['Appliances'] = df_y\n",
    "\n",
    "df = pd.DataFrame()\n",
    "for col in df_raw.columns:\n",
    "    if col not in ['Month','Appliances']:\n",
    "        df[col] = pd.cut(df_raw[col],bins=5,labels=False)\n",
    "    elif col != 'Appliances':\n",
    "        df[col] = df_raw[col]\n",
    "        \n",
    "y_min, y_max = df_raw['Appliances'].min(),df_raw['Appliances'].max()\n",
    "df['Appliances'] = (df_raw['Appliances']-y_min)/(y_max-y_min)\n",
    "\n",
    "Xycat = df.to_numpy()\n",
    "Xcat = Xycat[:,:-1]\n",
    "y = Xycat[:,-1]\n",
    "Xy = df_raw.to_numpy()"
   ]
  },
  {
   "cell_type": "code",
   "execution_count": 10,
   "metadata": {},
   "outputs": [
    {
     "name": "stderr",
     "output_type": "stream",
     "text": [
      "100%|██████████| 10/10 [01:55<00:00, 11.56s/it]\n"
     ]
    }
   ],
   "source": [
    "err_arr = np.zeros((8, num_runs))\n",
    "min_occ = 25  # Min leaf node occupancy\n",
    "\n",
    "cat_idx = [25]\n",
    "A = gen_attdict(Xy[:,:-1],cat_idx) \n",
    "bnds_y = np.array([0,1]) # Bound on target value\n",
    "Acat = gen_attdict(Xcat,list(range(Xcat.shape[1])))\n",
    "C = np.copy(bnds_y)\n",
    "\n",
    "for r in tqdm(range(num_runs)):\n",
    "    ## Train test split\n",
    "    train_size = int(np.floor(0.9*Xycat.shape[0]))\n",
    "    test_size = Xycat.shape[0]-train_size\n",
    "    shuffle_idx = rn.permutation(Xycat.shape[0])\n",
    "    \n",
    "    d_full = tree_depth(train_size, min_occ)\n",
    "    d_mult = tree_depth(train_size, min_occ, num_bins=5)\n",
    "    d_part = tree_depth(train_size, min_occ, partition=True, num_trees=10)\n",
    "\n",
    "    train_idx = shuffle_idx[:train_size]\n",
    "    test_idx = shuffle_idx[train_size:]\n",
    "\n",
    "    X_tr = Xy[train_idx,:-1]\n",
    "    X_tst = Xy[test_idx,:-1]\n",
    "    y_tr = Xy[train_idx,-1]\n",
    "    y_tst = Xy[test_idx,-1]\n",
    "\n",
    "    M,N = np.shape(X_tr)\n",
    "\n",
    "    X_tr_cat = Xcat[train_idx,:]\n",
    "    X_tst_cat = Xcat[test_idx,:]\n",
    "    y_tr = y[train_idx]\n",
    "    y_tst = y[test_idx]\n",
    "\n",
    "    rf = RandomForestRegressor(n_estimators=10,max_depth=d_full,min_samples_leaf=5,max_features=5)\n",
    "    rf.fit(X_tr,y_tr)\n",
    "    y_rf = rf.predict(X_tst)\n",
    "    err_rf = np.sum((y_tst-y_rf)**2/len(y_tst))\n",
    "    err_arr[0, r] = err_rf\n",
    "\n",
    "    rf_base = ExtraTreesRegressor(n_estimators=10,max_depth=d_full,min_samples_leaf=5,max_features=5)\n",
    "    rf_base.fit(X_tr,y_tr)\n",
    "    y_base = rf_base.predict(X_tst)\n",
    "    err_base = np.sum((y_tst-y_base)**2/len(y_tst))\n",
    "    err_arr[1, r] = err_base\n",
    "\n",
    "    mf = DiPrimeForest(n_trees=10,max_depth=d_full,max_features=5,partition=False)\n",
    "    mf.fit(X_tr,y_tr,A,cat_idx,bnds_y)\n",
    "    y_mf = mf.predict(X_tst,cat_idx)\n",
    "    err_mf = np.sum((y_tst-y_mf)**2/len(y_tst))\n",
    "    err_arr[2, r] = err_mf\n",
    "\n",
    "    dprf = DPRF_Reg(n_trees=10,max_depth=d_mult)\n",
    "    dprf.fit(X_tr_cat,y_tr,Acat,C,eps=10)\n",
    "    y_dprf = dprf.predict(X_tst_cat)\n",
    "    err_dprf = np.sum((y_tst-y_dprf)**2/len(y_tst))\n",
    "    err_arr[3, r] = err_dprf\n",
    "\n",
    "    dpmf = DiPrimeForest(n_trees=10,max_depth=d_part,max_features=1)\n",
    "    dpmf.fit(X_tr,y_tr,A,cat_idx,bnds_y,eps=10,b_med=0.5)\n",
    "    y_dpmf = dpmf.predict(X_tst,cat_idx)\n",
    "    err_dpmf = np.sum((y_tst-y_dpmf)**2/len(y_tst))\n",
    "    err_arr[4, r] = err_dpmf\n",
    "    \n",
    "    dpmf = DiPrimeForest(n_trees=10,max_depth=d_part,max_features=5)\n",
    "    dpmf.fit(X_tr,y_tr,A,cat_idx,bnds_y,eps=10,b_med=0.5)\n",
    "    y_dpmf = dpmf.predict(X_tst,cat_idx)\n",
    "    err_dpmf = np.sum((y_tst-y_dpmf)**2/len(y_tst))\n",
    "    err_arr[5, r] = err_dpmf\n",
    "\n",
    "    dpdmf = DiPrimeFlipForest(n_trees=10,max_depth=d_part,max_features=5)\n",
    "    dpdmf.fit(X_tr,y_tr,A,cat_idx,bnds_y,eps=10,b_med=0.5)\n",
    "    y_dpdmf = dpdmf.predict(X_tst,cat_idx)\n",
    "    err_dpdmf = np.sum((y_tst-y_dpdmf)**2/len(y_tst))\n",
    "    err_arr[6, r] = err_dpdmf\n",
    "\n",
    "    dprf = DPRandForest(n_trees=10,max_depth=d_full,max_features=1)\n",
    "    dprf.fit(X_tr,y_tr,A,cat_idx,bnds_y,eps=20)\n",
    "    y_dprf = dprf.predict(X_tst,cat_idx)\n",
    "    err_dprf = np.sum((y_tst-y_dprf)**2/len(y_tst))\n",
    "    err_arr[7, r] = err_dprf"
   ]
  },
  {
   "cell_type": "code",
   "execution_count": 11,
   "metadata": {},
   "outputs": [
    {
     "name": "stdout",
     "output_type": "stream",
     "text": [
      "Error for  Random forest  is  0.006270518392370268 +/- 0.00047526484589735296\n",
      "Error for  ERT  is  0.007170041064840439 +/- 0.0005005879270420989\n",
      "Error for  Median trees  is  0.006168673240291163 +/- 0.00043325934838075693\n",
      "Error for  DP-RF  is  0.04067597646352354 +/- 0.006207834259160557\n",
      "Error for  DiPriMe  is  0.008581902195522977 +/- 0.0006259468083381224\n",
      "Error for  DiPriMeExp  is  0.008534935609266173 +/- 0.0005963892003532073\n",
      "Error for  DiPriMeFlip  is  0.008456205408278182 +/- 0.0005967591982002563\n",
      "Error for  DP-ERT  is  0.008722917114521143 +/- 0.0006172777491737542\n"
     ]
    }
   ],
   "source": [
    "find_errors_with_bars(err_arr, algo_names, 0.95)"
   ]
  },
  {
   "cell_type": "markdown",
   "metadata": {},
   "source": [
    "### Metro Interstate Traffic Volume\n",
    "\n",
    "This is a UCI dataset logging the Hourly Interstate 94 Westbound traffic volume for MN DoT ATR station 301. The features include weather-related features, date and holiday information. The traffic volume is the target variable with approximately 48,000 instances in the data.\n",
    "\n",
    "Link: https://archive.ics.uci.edu/ml/datasets/Metro+Interstate+Traffic+Volume"
   ]
  },
  {
   "cell_type": "code",
   "execution_count": 12,
   "metadata": {},
   "outputs": [
    {
     "name": "stdout",
     "output_type": "stream",
     "text": [
      "Index(['holiday', 'temp', 'rain_1h', 'snow_1h', 'clouds_all', 'weather_main',\n",
      "       'weekday', 'hour', 'traffic_volume'],\n",
      "      dtype='object')\n"
     ]
    }
   ],
   "source": [
    "from datetime import date, datetime\n",
    "\n",
    "data_path = \"../Datasets/Metro_Interstate_Traffic_Volume/Metro_Interstate_Traffic_Volume.csv\"\n",
    "df_raw = pd.read_csv(data_path)\n",
    "Mp,Np = df_raw.shape\n",
    "\n",
    "df_raw['weekday'] = pd.Series([(datetime.strptime(df_raw.at[i,'date_time'],\"%Y-%m-%d %H:%M:%S\")\n",
    "                               ).weekday() for i in range(Mp)])\n",
    "df_raw['hour'] = pd.Series([(datetime.strptime(df_raw.at[i,'date_time'],\"%Y-%m-%d %H:%M:%S\")\n",
    "                            ).hour for i in range(Mp)])\n",
    "del df_raw['date_time'], df_raw['weather_description']\n",
    "\n",
    "df_raw['holiday'] = pd.Categorical(df_raw.holiday)\n",
    "df_raw['holiday'] = df_raw['holiday'].cat.codes\n",
    "df_raw['weather_main'] = pd.Categorical(df_raw.weather_main)\n",
    "df_raw['weather_main'] = df_raw['weather_main'].cat.codes\n",
    "\n",
    "df_y = df_raw.pop('traffic_volume')\n",
    "df_raw['traffic_volume'] = df_y\n",
    "\n",
    "df = pd.DataFrame()\n",
    "for col in df_raw.columns:\n",
    "    if col not in ['holiday', 'weather_main', 'weekday']:\n",
    "        df[col] = pd.cut(df_raw[col],bins=5,labels=False)\n",
    "    elif col != 'traffic_volume':\n",
    "        df[col] = df_raw[col]\n",
    "df['traffic_volume'] = (df_raw['traffic_volume'] - df_raw['traffic_volume'].min()\n",
    "                       )/(df_raw['traffic_volume'].max() - df_raw['traffic_volume'].min())\n",
    "print(df.columns)\n",
    "\n",
    "Xycat = df.to_numpy()\n",
    "Xcat = Xycat[:,:-1]\n",
    "y = Xycat[:,-1]\n",
    "Xy = df_raw.to_numpy()"
   ]
  },
  {
   "cell_type": "code",
   "execution_count": 13,
   "metadata": {},
   "outputs": [
    {
     "name": "stderr",
     "output_type": "stream",
     "text": [
      "100%|██████████| 10/10 [44:52<00:00, 269.26s/it]\n"
     ]
    }
   ],
   "source": [
    "err_arr = np.zeros((8, num_runs))\n",
    "min_occ = 25  # Min leaf node occupancy\n",
    "\n",
    "cat_idx = [0, 5, 6]\n",
    "A = gen_attdict(Xy[:,:-1],cat_idx) \n",
    "bnds_y = np.array([0,1]) # Bound on target value\n",
    "Acat = gen_attdict(Xcat,list(range(Xcat.shape[1])))\n",
    "C = np.copy(bnds_y)\n",
    "\n",
    "## Train test split\n",
    "train_size = int(np.floor(0.9*Xycat.shape[0]))\n",
    "test_size = Xycat.shape[0]-train_size\n",
    "shuffle_idx = rn.permutation(Xycat.shape[0])\n",
    "train_idx = shuffle_idx[:train_size]\n",
    "test_idx = shuffle_idx[train_size:]\n",
    "\n",
    "X_tr = Xy[train_idx,:-1]\n",
    "X_tst = Xy[test_idx,:-1]\n",
    "y_tr = Xy[train_idx,-1]\n",
    "y_tst = Xy[test_idx,-1]\n",
    "\n",
    "M,N = np.shape(X_tr)\n",
    "\n",
    "\n",
    "X_tr_cat = Xcat[train_idx,:]\n",
    "X_tst_cat = Xcat[test_idx,:]\n",
    "y_tr = y[train_idx]\n",
    "y_tst = y[test_idx]\n",
    "\n",
    "for r in tqdm(range(num_runs)):\n",
    "    ## Train test split\n",
    "    train_size = int(np.floor(0.9*Xycat.shape[0]))\n",
    "    test_size = Xycat.shape[0]-train_size\n",
    "    shuffle_idx = rn.permutation(Xycat.shape[0])\n",
    "    \n",
    "    d_full = tree_depth(train_size, min_occ)\n",
    "    d_mult = tree_depth(train_size, min_occ, num_bins=5)\n",
    "    d_part = tree_depth(train_size, min_occ, partition=True, num_trees=10)\n",
    "\n",
    "    train_idx = shuffle_idx[:train_size]\n",
    "    test_idx = shuffle_idx[train_size:]\n",
    "\n",
    "    X_tr = Xy[train_idx,:-1]\n",
    "    X_tst = Xy[test_idx,:-1]\n",
    "    y_tr = Xy[train_idx,-1]\n",
    "    y_tst = Xy[test_idx,-1]\n",
    "\n",
    "    M,N = np.shape(X_tr)\n",
    "\n",
    "    X_tr_cat = Xcat[train_idx,:]\n",
    "    X_tst_cat = Xcat[test_idx,:]\n",
    "    y_tr = y[train_idx]\n",
    "    y_tst = y[test_idx]\n",
    "\n",
    "    rf = RandomForestRegressor(n_estimators=10,max_depth=d_full,min_samples_leaf=5,max_features=5)\n",
    "    rf.fit(X_tr,y_tr)\n",
    "    y_rf = rf.predict(X_tst)\n",
    "    err_rf = np.sum((y_tst-y_rf)**2/len(y_tst))\n",
    "    err_arr[0, r] = err_rf\n",
    "\n",
    "    rf_base = ExtraTreesRegressor(n_estimators=10,max_depth=d_full,min_samples_leaf=5,max_features=5)\n",
    "    rf_base.fit(X_tr,y_tr)\n",
    "    y_base = rf_base.predict(X_tst)\n",
    "    err_base = np.sum((y_tst-y_base)**2/len(y_tst))\n",
    "    err_arr[1, r] = err_base\n",
    "\n",
    "    mf = DiPrimeForest(n_trees=10,max_depth=d_full,max_features=5,partition=False)\n",
    "    mf.fit(X_tr,y_tr,A,cat_idx,bnds_y)\n",
    "    y_mf = mf.predict(X_tst,cat_idx)\n",
    "    err_mf = np.sum((y_tst-y_mf)**2/len(y_tst))\n",
    "    err_arr[2, r] = err_mf\n",
    "\n",
    "    dprf = DPRF_Reg(n_trees=10,max_depth=d_mult)\n",
    "    dprf.fit(X_tr_cat,y_tr,Acat,C,eps=10)\n",
    "    y_dprf = dprf.predict(X_tst_cat)\n",
    "    err_dprf = np.sum((y_tst-y_dprf)**2/len(y_tst))\n",
    "    err_arr[3, r] = err_dprf\n",
    "\n",
    "    dpmf = DiPrimeForest(n_trees=10,max_depth=d_part,max_features=1)\n",
    "    dpmf.fit(X_tr,y_tr,A,cat_idx,bnds_y,eps=10,b_med=0.5)\n",
    "    y_dpmf = dpmf.predict(X_tst,cat_idx)\n",
    "    err_dpmf = np.sum((y_tst-y_dpmf)**2/len(y_tst))\n",
    "    err_arr[4, r] = err_dpmf\n",
    "\n",
    "    dpmf = DiPrimeForest(n_trees=10,max_depth=d_part,max_features=5)\n",
    "    dpmf.fit(X_tr,y_tr,A,cat_idx,bnds_y,eps=10,b_med=0.5)\n",
    "    y_dpmf = dpmf.predict(X_tst,cat_idx)\n",
    "    err_dpmf = np.sum((y_tst-y_dpmf)**2/len(y_tst))\n",
    "    err_arr[5, r] = err_dpmf\n",
    "\n",
    "    dpdmf = DiPrimeFlipForest(n_trees=10,max_depth=d_part,max_features=5)\n",
    "    dpdmf.fit(X_tr,y_tr,A,cat_idx,bnds_y,eps=10,b_med=0.5)\n",
    "    y_dpdmf = dpdmf.predict(X_tst,cat_idx)\n",
    "    err_dpdmf = np.sum((y_tst-y_dpdmf)**2/len(y_tst))\n",
    "    err_arr[6, r] = err_dpdmf\n",
    "\n",
    "    dprf = DPRandForest(n_trees=10,max_depth=d_full,max_features=1)\n",
    "    dprf.fit(X_tr,y_tr,A,cat_idx,bnds_y,eps=20)\n",
    "    y_dprf = dprf.predict(X_tst,cat_idx)\n",
    "    err_dprf = np.sum((y_tst-y_dprf)**2/len(y_tst))\n",
    "    err_arr[7, r] = err_dprf"
   ]
  },
  {
   "cell_type": "code",
   "execution_count": 14,
   "metadata": {},
   "outputs": [
    {
     "name": "stdout",
     "output_type": "stream",
     "text": [
      "Error for  Random forest  is  0.004639931613143928 +/- 0.00019838987357032934\n",
      "Error for  ERT  is  0.00631151424325444 +/- 0.0003516526889772699\n",
      "Error for  Median trees  is  0.00666301903942533 +/- 0.0004100049038480055\n",
      "Error for  DP-RF  is  0.03331095179592721 +/- 0.005621289388908888\n",
      "Error for  DiPriMe  is  0.050586083015185836 +/- 0.005503003426799284\n",
      "Error for  DiPriMeExp  is  0.03182013186934071 +/- 0.0022631612327666767\n",
      "Error for  DiPriMeFlip  is  0.02472529090781946 +/- 0.0028561188669410723\n",
      "Error for  DP-ERT  is  0.04315349524281385 +/- 0.0033501069898208354\n"
     ]
    }
   ],
   "source": [
    "find_errors_with_bars(err_arr, algo_names, 0.95)"
   ]
  },
  {
   "cell_type": "markdown",
   "metadata": {},
   "source": [
    "### Gas Turbine Emission\n",
    "This UCI dataset contains 36733 instances of 11 sensor measures aggregated over one hour, from a gas turbine located in Turkey for the purpose of studying flue CO and NOx emissions.\n",
    "\n",
    "Link: https://archive.ics.uci.edu/ml/datasets/Gas+Turbine+CO+and+NOx+Emission+Data+Set"
   ]
  },
  {
   "cell_type": "code",
   "execution_count": 15,
   "metadata": {},
   "outputs": [],
   "source": [
    "data_path = \"../Datasets/Gas_Turbine_Emission\"\n",
    "df_raw = pd.DataFrame()\n",
    "for fname in os.listdir(data_path):\n",
    "    df_raw = df_raw.append(pd.read_csv(data_path + '/'+ fname))\n",
    "\n",
    "df_y = df_raw.pop('TEY')\n",
    "df_raw['TEY'] = df_y\n",
    "\n",
    "df = pd.DataFrame()\n",
    "for col in df_raw.columns:\n",
    "    if col != 'TEY':\n",
    "        df[col] = pd.cut(df_raw[col],bins=5,labels=False)\n",
    "df['TEY'] = (df_raw['TEY'] - df_raw['TEY'].min()\n",
    "                       )/(df_raw['TEY'].max() - df_raw['TEY'].min())\n",
    "\n",
    "Xycat = df.to_numpy()\n",
    "Xcat = Xycat[:,:-1]\n",
    "y = Xycat[:,-1]\n",
    "Xy = df_raw.to_numpy()"
   ]
  },
  {
   "cell_type": "markdown",
   "metadata": {},
   "source": [
    "#### Fitting models:"
   ]
  },
  {
   "cell_type": "code",
   "execution_count": 16,
   "metadata": {},
   "outputs": [
    {
     "name": "stderr",
     "output_type": "stream",
     "text": [
      "100%|██████████| 10/10 [02:37<00:00, 15.79s/it]\n"
     ]
    }
   ],
   "source": [
    "err_arr = np.zeros((8, num_runs))\n",
    "min_occ = 25  # Min leaf node occupancy\n",
    "\n",
    "cat_idx = []\n",
    "A = gen_attdict(Xy[:,:-1],cat_idx) \n",
    "bnds_y = np.array([0,1]) # Bound on target value\n",
    "Acat = gen_attdict(Xcat,list(range(Xcat.shape[1])))\n",
    "C = np.copy(bnds_y)\n",
    "\n",
    "for r in tqdm(range(num_runs)):\n",
    "    ## Train test split\n",
    "    train_size = int(np.floor(0.9*Xycat.shape[0]))\n",
    "    test_size = Xycat.shape[0]-train_size\n",
    "    shuffle_idx = rn.permutation(Xycat.shape[0])\n",
    "    \n",
    "    d_full = tree_depth(train_size, min_occ)\n",
    "    d_mult = tree_depth(train_size, min_occ, num_bins=5)\n",
    "    d_part = tree_depth(train_size, min_occ, partition=True, num_trees=10)\n",
    "\n",
    "    train_idx = shuffle_idx[:train_size]\n",
    "    test_idx = shuffle_idx[train_size:]\n",
    "\n",
    "    X_tr = Xy[train_idx,:-1]\n",
    "    X_tst = Xy[test_idx,:-1]\n",
    "    y_tr = Xy[train_idx,-1]\n",
    "    y_tst = Xy[test_idx,-1]\n",
    "\n",
    "    M,N = np.shape(X_tr)\n",
    "\n",
    "    X_tr_cat = Xcat[train_idx,:]\n",
    "    X_tst_cat = Xcat[test_idx,:]\n",
    "    y_tr = y[train_idx]\n",
    "    y_tst = y[test_idx]\n",
    "\n",
    "    rf = RandomForestRegressor(n_estimators=10,max_depth=d_full,min_samples_leaf=5,max_features=5)\n",
    "    rf.fit(X_tr,y_tr)\n",
    "    y_rf = rf.predict(X_tst)\n",
    "    err_rf = np.sum((y_tst-y_rf)**2/len(y_tst))\n",
    "    err_arr[0, r] = err_rf\n",
    "\n",
    "    rf_base = ExtraTreesRegressor(n_estimators=10,max_depth=d_full,min_samples_leaf=5,max_features=5)\n",
    "    rf_base.fit(X_tr,y_tr)\n",
    "    y_base = rf_base.predict(X_tst)\n",
    "    err_base = np.sum((y_tst-y_base)**2/len(y_tst))\n",
    "    err_arr[1, r] = err_base\n",
    "\n",
    "    mf = DiPrimeForest(n_trees=10,max_depth=d_full,max_features=5,partition=False)\n",
    "    mf.fit(X_tr,y_tr,A,cat_idx,bnds_y)\n",
    "    y_mf = mf.predict(X_tst,cat_idx)\n",
    "    err_mf = np.sum((y_tst-y_mf)**2/len(y_tst))\n",
    "    err_arr[2, r] = err_mf\n",
    "\n",
    "    dprf = DPRF_Reg(n_trees=10,max_depth=d_mult)\n",
    "    dprf.fit(X_tr_cat,y_tr,Acat,C,eps=10)\n",
    "    y_dprf = dprf.predict(X_tst_cat)\n",
    "    err_dprf = np.sum((y_tst-y_dprf)**2/len(y_tst))\n",
    "    err_arr[3, r] = err_dprf\n",
    "\n",
    "    dpmf = DiPrimeForest(n_trees=10,max_depth=d_part,max_features=1)\n",
    "    dpmf.fit(X_tr,y_tr,A,cat_idx,bnds_y,eps=10,b_med=0.5)\n",
    "    y_dpmf = dpmf.predict(X_tst,cat_idx)\n",
    "    err_dpmf = np.sum((y_tst-y_dpmf)**2/len(y_tst))\n",
    "    err_arr[4, r] = err_dpmf\n",
    "\n",
    "    dpmf = DiPrimeForest(n_trees=10,max_depth=d_part,max_features=5)\n",
    "    dpmf.fit(X_tr,y_tr,A,cat_idx,bnds_y,eps=10,b_med=0.5)\n",
    "    y_dpmf = dpmf.predict(X_tst,cat_idx)\n",
    "    err_dpmf = np.sum((y_tst-y_dpmf)**2/len(y_tst))\n",
    "    err_arr[5, r] = err_dpmf\n",
    "\n",
    "    dpdmf = DiPrimeFlipForest(n_trees=10,max_depth=d_part,max_features=5)\n",
    "    dpdmf.fit(X_tr,y_tr,A,cat_idx,bnds_y,eps=10,b_med=0.5)\n",
    "    y_dpdmf = dpdmf.predict(X_tst,cat_idx)\n",
    "    err_dpdmf = np.sum((y_tst-y_dpdmf)**2/len(y_tst))\n",
    "    err_arr[6, r] = err_dpdmf\n",
    "\n",
    "    dprf = DPRandForest(n_trees=10,max_depth=d_full,max_features=1)\n",
    "    dprf.fit(X_tr,y_tr,A,cat_idx,bnds_y,eps=20)\n",
    "    y_dprf = dprf.predict(X_tst,cat_idx)\n",
    "    err_dprf = np.sum((y_tst-y_dprf)**2/len(y_tst))\n",
    "    err_arr[7, r] = err_dprf"
   ]
  },
  {
   "cell_type": "code",
   "execution_count": 17,
   "metadata": {},
   "outputs": [
    {
     "name": "stdout",
     "output_type": "stream",
     "text": [
      "Error for  Random forest  is  0.00012211681665022617 +/- 4.093026728360758e-06\n",
      "Error for  ERT  is  0.00022490306495206606 +/- 1.0686686001580823e-05\n",
      "Error for  Median trees  is  0.00010754471611946779 +/- 3.828713892500914e-06\n",
      "Error for  DP-RF  is  0.02407288821646619 +/- 0.005615750876560922\n",
      "Error for  DiPriMe  is  0.0015653779409634967 +/- 8.8237854449768e-05\n",
      "Error for  DiPriMeExp  is  0.0009604603601375405 +/- 0.00011143652998704222\n",
      "Error for  DiPriMeFlip  is  0.000811680325842728 +/- 6.559943664724944e-05\n",
      "Error for  DP-ERT  is  0.00419070294627529 +/- 0.0009934155440998388\n"
     ]
    }
   ],
   "source": [
    "find_errors_with_bars(err_arr, algo_names, 0.95)"
   ]
  },
  {
   "cell_type": "markdown",
   "metadata": {},
   "source": [
    "### Flight Delay\n",
    "\n",
    "This is flight data taken from Jan to Apr 2008 with the month, day, weekday, departure time, arrival time, delay, air time and distance as features. The delay is the target variable. 80,000 instances are randomly sampled from this data.\n",
    "\n",
    "Link: https://www.transtats.bts.gov/tables.asp?Table_ID=236&SYS_Table_Name=T_ONTIME_REPORTING"
   ]
  },
  {
   "cell_type": "code",
   "execution_count": 20,
   "metadata": {},
   "outputs": [],
   "source": [
    "data_path = \"../Datasets/Flight_Delay/\"\n",
    "fname = ['Jan2008.csv','Feb2008.csv','Mar2008.csv','Apr2008.csv']\n",
    "\n",
    "col_names = ['Month','Day','Weekday','Dep Time','Arr Time',\n",
    "                                                  'Delay','Air Time','Distance']\n",
    "df_raw = pd.DataFrame()\n",
    "for f in fname:\n",
    "    df = pd.read_csv(data_path+f,names=col_names,header=0,usecols=[0,1,2,3,4,5,6,7])\n",
    "    df_raw = df_raw.append(df)\n",
    "df_raw = df_raw.dropna()\n",
    "Md,Nd = df_raw.shape\n",
    "\n",
    "df_raw = df_raw.iloc[random.sample(range(Md),800000)]\n",
    "#print(df_raw.shape)\n",
    "\n",
    "X = df_raw.drop(columns='Delay').to_numpy()\n",
    "y = df_raw['Delay'].to_numpy()\n",
    "y = (y - np.amin(y))/(np.amax(y)-np.amin(y))\n",
    "\n",
    "df_y = df_raw.pop('Delay')\n",
    "df_raw['Delay'] = df_y\n",
    "\n",
    "df = pd.DataFrame()\n",
    "for col in df_raw.columns:\n",
    "    if col not in ['Month','Weekday','Delay']:\n",
    "        df[col] = pd.cut(df_raw[col],bins=5,labels=False)\n",
    "    elif col != 'Delay':\n",
    "        df[col] = df_raw[col]\n",
    "\n",
    "y_min, y_max = df_raw['Delay'].min(),df_raw['Delay'].max()\n",
    "df['Delay'] = (df_raw['Delay']-y_min)/(y_max-y_min)\n",
    "\n",
    "Xycat = df.to_numpy()\n",
    "Xcat = Xycat[:,:-1]\n",
    "y = Xycat[:,-1]\n",
    "Xy = df_raw.to_numpy()"
   ]
  },
  {
   "cell_type": "markdown",
   "metadata": {},
   "source": [
    "#### Fitting models:"
   ]
  },
  {
   "cell_type": "code",
   "execution_count": 21,
   "metadata": {
    "scrolled": true
   },
   "outputs": [
    {
     "name": "stderr",
     "output_type": "stream",
     "text": [
      "100%|██████████| 10/10 [56:18<00:00, 337.86s/it]\n"
     ]
    }
   ],
   "source": [
    "err_arr = np.zeros((8, num_runs))\n",
    "min_occ = 25  # Min leaf node occupancy\n",
    "\n",
    "cat_idx = [0,2]\n",
    "A = gen_attdict(X_tr,cat_idx) \n",
    "bnds_y = np.array([0,1]) # Bound on target value\n",
    "Acat = gen_attdict(X_tr_cat,list(range(X_tr_cat.shape[1])))\n",
    "C = np.copy(bnds_y)\n",
    "\n",
    "for r in tqdm(range(num_runs)):\n",
    "    ## Train test split\n",
    "    train_size = int(np.floor(0.9*Xycat.shape[0]))\n",
    "    test_size = Xycat.shape[0]-train_size\n",
    "    shuffle_idx = rn.permutation(Xycat.shape[0])\n",
    "    \n",
    "    d_full = tree_depth(train_size, min_occ)\n",
    "    d_mult = tree_depth(train_size, min_occ, num_bins=5)\n",
    "    d_part = tree_depth(train_size, min_occ, partition=True, num_trees=10)\n",
    "\n",
    "    train_idx = shuffle_idx[:train_size]\n",
    "    test_idx = shuffle_idx[train_size:]\n",
    "\n",
    "    X_tr = Xy[train_idx,:-1]\n",
    "    X_tst = Xy[test_idx,:-1]\n",
    "    y_tr = Xy[train_idx,-1]\n",
    "    y_tst = Xy[test_idx,-1]\n",
    "\n",
    "    M,N = np.shape(X_tr)\n",
    "\n",
    "    X_tr_cat = Xcat[train_idx,:]\n",
    "    X_tst_cat = Xcat[test_idx,:]\n",
    "    y_tr = y[train_idx]\n",
    "    y_tst = y[test_idx]\n",
    "\n",
    "    rf = RandomForestRegressor(n_estimators=10,max_depth=d_full,min_samples_leaf=5,max_features=5)\n",
    "    rf.fit(X_tr,y_tr)\n",
    "    y_rf = rf.predict(X_tst)\n",
    "    err_rf = np.sum((y_tst-y_rf)**2/len(y_tst))\n",
    "    err_arr[0, r] = err_rf\n",
    "\n",
    "    from sklearn.ensemble import ExtraTreesRegressor\n",
    "    rf_base = ExtraTreesRegressor(n_estimators=10,max_depth=d_full,min_samples_leaf=5,max_features=5)\n",
    "    rf_base.fit(X_tr,y_tr)\n",
    "    y_base = rf_base.predict(X_tst)\n",
    "    err_base = np.sum((y_tst-y_base)**2/len(y_tst))\n",
    "    err_arr[1, r] = err_base\n",
    "\n",
    "    mf = DiPrimeForest(n_trees=10,max_depth=d_full,max_features=5,partition=False)\n",
    "    mf.fit(X_tr,y_tr,A,cat_idx,bnds_y)\n",
    "    y_mf = mf.predict(X_tst,cat_idx)\n",
    "    err_mf = np.sum((y_tst-y_mf)**2/len(y_tst))\n",
    "    err_arr[2, r] = err_mf\n",
    "\n",
    "    dprf = DPRF_Reg(n_trees=10,max_depth=d_mult)\n",
    "    dprf.fit(X_tr_cat,y_tr,Acat,C,eps=10)\n",
    "    y_dprf = dprf.predict(X_tst_cat)\n",
    "    err_dprf = np.sum((y_tst-y_dprf)**2/len(y_tst))\n",
    "    err_arr[3, r] = err_dprf\n",
    "\n",
    "    dpmf = DiPrimeForest(n_trees=10,max_depth=d_part,max_features=1)\n",
    "    dpmf.fit(X_tr,y_tr,A,cat_idx,bnds_y,eps=10,b_med=0.5)\n",
    "    y_dpmf = dpmf.predict(X_tst,cat_idx)\n",
    "    err_dpmf = np.sum((y_tst-y_dpmf)**2/len(y_tst))\n",
    "    err_arr[4, r] = err_dpmf\n",
    "    \n",
    "    dpmf = DiPrimeForest(n_trees=10,max_depth=d_part,max_features=5)\n",
    "    dpmf.fit(X_tr,y_tr,A,cat_idx,bnds_y,eps=10,b_med=0.5)\n",
    "    y_dpmf = dpmf.predict(X_tst,cat_idx)\n",
    "    err_dpmf = np.sum((y_tst-y_dpmf)**2/len(y_tst))\n",
    "    err_arr[5, r] = err_dpmf\n",
    "\n",
    "    dpdmf = DiPrimeFlipForest(n_trees=10,max_depth=d_part,max_features=5)\n",
    "    dpdmf.fit(X_tr,y_tr,A,cat_idx,bnds_y,eps=10,b_med=0.5)\n",
    "    y_dpdmf = dpdmf.predict(X_tst,cat_idx)\n",
    "    err_dpdmf = np.sum((y_tst-y_dpdmf)**2/len(y_tst))\n",
    "    err_arr[6, r] = err_dpdmf\n",
    "\n",
    "    dprf = DPRandForest(n_trees=10,max_depth=d_full,max_features=1)\n",
    "    dprf.fit(X_tr,y_tr,A,cat_idx,bnds_y,eps=20)\n",
    "    y_dprf = dprf.predict(X_tst,cat_idx)\n",
    "    err_dprf = np.sum((y_tst-y_dprf)**2/len(y_tst))\n",
    "    err_arr[7, r] = err_dprf"
   ]
  },
  {
   "cell_type": "code",
   "execution_count": 22,
   "metadata": {},
   "outputs": [
    {
     "name": "stdout",
     "output_type": "stream",
     "text": [
      "Error for  Random forest  is  0.00019813507134626762 +/- 5.937970549561345e-06\n",
      "Error for  ERT  is  0.00020514152949821615 +/- 6.381464558100524e-06\n",
      "Error for  Median trees  is  0.00020946076667132489 +/- 6.537257557946975e-06\n",
      "Error for  DP-RF  is  0.04074966927171947 +/- 0.0026441533515292686\n",
      "Error for  DiPriMe  is  0.00023842978697451796 +/- 6.843968264861084e-06\n",
      "Error for  DiPriMeExp  is  0.0002381440944931626 +/- 6.908969383114768e-06\n",
      "Error for  DiPriMeFlip  is  0.00023242019384579483 +/- 5.800622365484146e-06\n",
      "Error for  DP-ERT  is  0.0002717082737990194 +/- 7.5462804305665045e-06\n"
     ]
    }
   ],
   "source": [
    "find_errors_with_bars(err_arr, algo_names, 0.95)"
   ]
  },
  {
   "cell_type": "markdown",
   "metadata": {},
   "source": [
    "## Classification:"
   ]
  },
  {
   "cell_type": "code",
   "execution_count": 5,
   "metadata": {},
   "outputs": [],
   "source": [
    "from DP_DF.DP_SysFor import DP_SysFor\n",
    "from sklearn.ensemble import RandomForestClassifier, ExtraTreesClassifier\n",
    "from DiPrime_Class import *\n",
    "from DiPrimeFlip_Class import *\n",
    "from RandForest_DP_Class import *\n",
    "from dprf import DPRF\n",
    "\n",
    "num_runs = 10  # Number of runs for each method\n",
    "algo_names = ['DP-DF', 'DP-RF', 'Random forest', 'ERT', 'Median trees', 'DiPriMe', 'DiPriMeExp', 'DiPriMeFlip', 'DP-ERT']"
   ]
  },
  {
   "cell_type": "markdown",
   "metadata": {},
   "source": [
    "### Banknote Authentication\n",
    "This is a small dataset (1372 data points, 5 attributes) where all the attributes are real-valued with a binary target variable. \n",
    "\n",
    "Link: https://archive.ics.uci.edu/ml/datasets/banknote+authentication\n",
    "\n",
    "#### Read data:"
   ]
  },
  {
   "cell_type": "code",
   "execution_count": 24,
   "metadata": {},
   "outputs": [],
   "source": [
    "data_path = \"../Datasets/Banknote_Authentication/data_banknote_authentication.txt\"\n",
    "df_raw = pd.read_csv(data_path,index_col=False,\n",
    "                     names=['variance','skewness','curtosis','entropy','class'])\n",
    "attribute_names = df_raw.columns[:-1]\n",
    "\n",
    "df = pd.DataFrame()\n",
    "for col in df_raw.columns:\n",
    "    if col != 'class':\n",
    "        df[col] = pd.cut(df_raw[col],bins=5,labels=False)\n",
    "df['class'] = df_raw['class']\n",
    "\n",
    "Xycat = df.to_numpy()\n",
    "Xcat = Xycat[:,:-1]\n",
    "y = Xycat[:,-1]\n",
    "Xy = df_raw.to_numpy()"
   ]
  },
  {
   "cell_type": "markdown",
   "metadata": {},
   "source": [
    "#### Fitting models:"
   ]
  },
  {
   "cell_type": "code",
   "execution_count": 25,
   "metadata": {},
   "outputs": [
    {
     "name": "stderr",
     "output_type": "stream",
     "text": [
      "100%|██████████| 10/10 [00:09<00:00,  1.06it/s]\n"
     ]
    }
   ],
   "source": [
    "err_arr = np.zeros((9, num_runs))\n",
    "min_occ = 10  # Min leaf node occupancy\n",
    "\n",
    "cat_idx = []\n",
    "A = gen_attdict(Xy[:,:-1],cat_idx) \n",
    "bnds_y = np.array([0,1]) # Bound on target value\n",
    "Acat = gen_attdict(Xcat,list(range(Xcat.shape[1])))\n",
    "C = [0,1]\n",
    "\n",
    "for r in tqdm(range(num_runs)):\n",
    "    ## Train test split\n",
    "    train_size = int(np.floor(0.9*Xycat.shape[0]))\n",
    "    test_size = Xycat.shape[0]-train_size\n",
    "    shuffle_idx = rn.permutation(Xycat.shape[0])\n",
    "    train_idx = shuffle_idx[:train_size]\n",
    "    test_idx = shuffle_idx[train_size:]\n",
    "    \n",
    "    d_full = tree_depth(train_size, min_occ)\n",
    "    d_mult = tree_depth(train_size, min_occ, num_bins=5)\n",
    "    d_part = tree_depth(train_size, min_occ, partition=True, num_trees=10)\n",
    "\n",
    "    Xycat_tr = [list(a) for a in list(Xycat[train_idx,:])]\n",
    "    Xcat_tst = [list(a) for a in list(Xycat[test_idx,:-1])]\n",
    "    y_tst = list(y[test_idx])\n",
    "\n",
    "    dpdf = DP_SysFor(records=Xycat_tr, max_height = d_mult, target_attribute_index=4, num_trees=10, \n",
    "                     epsilon_budget=1.0,attribute_names=attribute_names)\n",
    "    y_pred = dpdf.classify_list(Xcat_tst)\n",
    "    y_diff = [y_pred[i] != y_tst[i] for i in range(len(y_tst))]\n",
    "    err_dpdf = sum(y_diff)/len(y_tst)\n",
    "    err_arr[0, r] = err_dpdf\n",
    "    \n",
    "    X_tr = Xy[train_idx,:-1]\n",
    "    X_tst = Xy[test_idx,:-1]\n",
    "    y_tr = Xy[train_idx,-1]\n",
    "    y_tst = Xy[test_idx,-1]\n",
    "\n",
    "    M,N = np.shape(X_tr)\n",
    "\n",
    "    X_tr_cat = Xcat[train_idx,:]\n",
    "    X_tst_cat = Xcat[test_idx,:]\n",
    "    y_tr = y[train_idx]\n",
    "    y_tst = y[test_idx]\n",
    "\n",
    "    dprf = DPRF(n_trees=10,max_depth=d_mult)\n",
    "    dprf.fit(X_tr_cat,y_tr,Acat,C,eps=2)\n",
    "    y_dprf = dprf.predict(X_tst_cat,C)\n",
    "    err_dprf = np.sum(np.abs(y_tst-y_dprf))/len(y_tst)\n",
    "    err_arr[1, r] = err_dprf\n",
    "\n",
    "    rf = RandomForestClassifier(n_estimators=10,max_depth=d_full,min_samples_leaf=5,max_features=4)\n",
    "    rf.fit(X_tr,y_tr)\n",
    "    y_rf = rf.predict(X_tst)\n",
    "    err_rf = np.sum(np.abs(y_rf-y_tst))/len(y_tst)\n",
    "    err_arr[2, r] = err_rf\n",
    "\n",
    "    rf_base = ExtraTreesClassifier(n_estimators=10,max_depth=d_full,min_samples_leaf=5,max_features=4)\n",
    "    rf_base.fit(X_tr,y_tr)\n",
    "    y_base = rf_base.predict(X_tst)\n",
    "    err_base = np.sum(np.abs(y_tst-y_base))/len(y_tst)\n",
    "    err_arr[3, r] = err_base\n",
    "\n",
    "    mf = DiPrimeCForest(n_trees=10,max_depth=d_full,max_features=4,partition=False)\n",
    "    mf.fit(X_tr,y_tr,A,cat_idx,bnds_y)\n",
    "    y_mf = (mf.predict(X_tst,cat_idx) >= 0.5).astype(np.float)\n",
    "    err_mf = np.sum(np.abs(y_tst-y_mf))/len(y_tst)\n",
    "    err_arr[4, r] = err_mf\n",
    "\n",
    "    dpmf = DiPrimeCForest(n_trees=10,max_depth=d_part,max_features=1)\n",
    "    dpmf.fit(X_tr,y_tr,A,cat_idx,bnds_y,eps=2,b_med=0.5)\n",
    "    y_dpmf = (dpmf.predict(X_tst,cat_idx) >= 0.5).astype(np.float)\n",
    "    err_dpmf = np.sum(np.abs(y_tst-y_dpmf))/len(y_tst)\n",
    "    err_arr[5, r] = err_dpmf\n",
    "\n",
    "    dpmf = DiPrimeCForest(n_trees=10,max_depth=d_part,max_features=4)\n",
    "    dpmf.fit(X_tr,y_tr,A,cat_idx,bnds_y,eps=2,b_med=0.5)\n",
    "    y_dpmf = (dpmf.predict(X_tst,cat_idx) >= 0.5).astype(np.float)\n",
    "    err_dpmf = np.sum(np.abs(y_tst-y_dpmf))/len(y_tst)\n",
    "    err_arr[6, r] = err_dpmf\n",
    "\n",
    "    dpdmf = DiPrimeFlipCForest(n_trees=10,max_depth=d_part,max_features=4)\n",
    "    dpdmf.fit(X_tr,y_tr,A,cat_idx,bnds_y,eps=2,b_med=0.5)\n",
    "    y_dpdmf = (dpdmf.predict(X_tst,cat_idx) >= 0.5).astype(np.float)\n",
    "    err_dpdmf = np.sum(np.abs(y_tst-y_dpdmf))/len(y_tst)\n",
    "    err_arr[7, r] = err_dpdmf\n",
    "\n",
    "    dperf = DPRandCForest(n_trees=10,max_depth=d_full,max_features=1)\n",
    "    dperf.fit(X_tr,y_tr,A,cat_idx,bnds_y,eps=4)\n",
    "    y_dperf = dperf.predict(X_tst,cat_idx)\n",
    "    err_dperf = np.sum(np.abs(y_tst-y_dperf))/len(y_tst)\n",
    "    err_arr[8, r] = err_dperf"
   ]
  },
  {
   "cell_type": "code",
   "execution_count": 26,
   "metadata": {},
   "outputs": [
    {
     "name": "stdout",
     "output_type": "stream",
     "text": [
      "Error for  DP-DF  is  0.4427536231884058 +/- 0.028529445081260048\n",
      "Error for  DP-RF  is  0.14710144927536234 +/- 0.024319447767870508\n",
      "Error for  Random forest  is  0.010869565217391304 +/- 0.006658641908489178\n",
      "Error for  ERT  is  0.01739130434782609 +/- 0.00933074225155529\n",
      "Error for  Median trees  is  0.015217391304347827 +/- 0.008501975080912843\n",
      "Error for  DiPriMe  is  0.08985507246376812 +/- 0.010922829957722235\n",
      "Error for  DiPriMeExp  is  0.0934782608695652 +/- 0.02117736178911986\n",
      "Error for  DiPriMeFlip  is  0.09710144927536232 +/- 0.01231071393566066\n",
      "Error for  DP-ERT  is  0.31607465616058883 +/- 0.021826005780799736\n"
     ]
    }
   ],
   "source": [
    "find_errors_with_bars(err_arr, algo_names, 0.95)"
   ]
  },
  {
   "cell_type": "markdown",
   "metadata": {},
   "source": [
    "### Credit Card Default\n",
    "\n",
    "This dataset has 30,000 instances with 24 attributes. The target variable is the attribute corresponding to the client defaulting on the payment.\n",
    "\n",
    "Link: https://archive.ics.uci.edu/ml/datasets/default+of+credit+card+clients\n",
    "\n",
    "#### Read data:"
   ]
  },
  {
   "cell_type": "code",
   "execution_count": 37,
   "metadata": {},
   "outputs": [],
   "source": [
    "data_path = \"../Datasets/Credit_Card_Default/default_credit_card_clients.xls\"\n",
    "df_raw = pd.read_excel(data_path,index_col=0,skiprows=1)\n",
    "\n",
    "attribute_names = df_raw.columns[:-1]\n",
    "\n",
    "df = pd.DataFrame()\n",
    "for col in df_raw.columns:\n",
    "    if col in ['LIMIT_BAL','AGE','BILL_AMT1', 'BILL_AMT2',\n",
    "       'BILL_AMT3', 'BILL_AMT4', 'BILL_AMT5', 'BILL_AMT6', 'PAY_AMT1',\n",
    "       'PAY_AMT2', 'PAY_AMT3', 'PAY_AMT4', 'PAY_AMT5', 'PAY_AMT6']:\n",
    "            df[col] = pd.cut(df_raw[col],bins=5,labels=False)\n",
    "    elif col != 'default payment next month':\n",
    "        df[col] = df_raw[col]\n",
    "\n",
    "df['target'] = df_raw['default payment next month']\n",
    "\n",
    "Xycat = df.to_numpy(np.float)\n",
    "Xcat = Xycat[:,:-1]\n",
    "y = Xycat[:,-1]\n",
    "Xy = df_raw.to_numpy()"
   ]
  },
  {
   "cell_type": "markdown",
   "metadata": {},
   "source": [
    "#### Fitting models:"
   ]
  },
  {
   "cell_type": "code",
   "execution_count": 38,
   "metadata": {},
   "outputs": [
    {
     "name": "stderr",
     "output_type": "stream",
     "text": [
      "100%|██████████| 10/10 [18:06<00:00, 108.66s/it]\n"
     ]
    }
   ],
   "source": [
    "err_arr = np.zeros((9, num_runs))\n",
    "min_occ = 25  # Min leaf node occupancy\n",
    "\n",
    "cat_idx = [1,2,3]\n",
    "A = gen_attdict(Xy[:,:-1],cat_idx) \n",
    "bnds_y = np.array([0,1]) # Bound on target value\n",
    "Acat = gen_attdict(Xcat,list(range(Xcat.shape[1])))\n",
    "C = [0,1]\n",
    "\n",
    "for r in tqdm(range(num_runs)):\n",
    "    ## Train test split\n",
    "    train_size = int(np.floor(0.9*Xycat.shape[0]))\n",
    "    test_size = Xycat.shape[0]-train_size\n",
    "    shuffle_idx = rn.permutation(Xycat.shape[0])\n",
    "    train_idx = shuffle_idx[:train_size]\n",
    "    test_idx = shuffle_idx[train_size:]\n",
    "    \n",
    "    d_full = tree_depth(train_size, min_occ)\n",
    "    d_mult = tree_depth(train_size, min_occ, num_bins=5)\n",
    "    d_part = tree_depth(train_size, min_occ, partition=True, num_trees=10)    \n",
    "\n",
    "    Xycat_tr = [list(a) for a in list(Xycat[train_idx,:])]\n",
    "    Xcat_tst = [list(a) for a in list(Xycat[test_idx,:-1])]\n",
    "    y_tst = list(y[test_idx])\n",
    "\n",
    "    dpdf = DP_SysFor(records=Xycat_tr, max_height = d_mult, target_attribute_index=23, num_trees=10, \n",
    "                     epsilon_budget=1.0,attribute_names=attribute_names, pruning=True)\n",
    "    y_pred = dpdf.classify_list(Xcat_tst)\n",
    "    y_diff = [y_pred[i] != y_tst[i] for i in range(len(y_tst))]\n",
    "    err_dpdf = sum(y_diff)/len(y_tst)\n",
    "\n",
    "    X_tr = Xy[train_idx,:-1]\n",
    "    X_tst = Xy[test_idx,:-1]\n",
    "    y_tr = Xy[train_idx,-1]\n",
    "    y_tst = Xy[test_idx,-1]\n",
    "\n",
    "    M,N = np.shape(X_tr)\n",
    "\n",
    "    X_tr_cat = Xcat[train_idx,:]\n",
    "    X_tst_cat = Xcat[test_idx,:]\n",
    "    y_tr = y[train_idx]\n",
    "    y_tst = y[test_idx]\n",
    "\n",
    "    err_arr[0, r] = err_dpdf\n",
    "\n",
    "    dprf = DPRF(n_trees=10,max_depth=d_mult)\n",
    "    dprf.fit(X_tr_cat,y_tr,Acat,C,eps=2)\n",
    "    y_dprf = dprf.predict(X_tst_cat,C)\n",
    "    err_dprf = np.sum(np.abs(y_tst-y_dprf))/len(y_tst)\n",
    "    err_arr[1, r] = err_dprf\n",
    "\n",
    "    rf = RandomForestClassifier(n_estimators=10,max_depth=d_full,min_samples_leaf=5,max_features=5)\n",
    "    rf.fit(X_tr,y_tr)\n",
    "    y_rf = rf.predict(X_tst)\n",
    "    err_rf = np.sum(np.abs(y_rf-y_tst))/len(y_tst)\n",
    "    err_arr[2, r] = err_rf\n",
    "\n",
    "    rf_base = ExtraTreesClassifier(n_estimators=10,max_depth=d_full,min_samples_leaf=5,max_features=5)\n",
    "    rf_base.fit(X_tr,y_tr)\n",
    "    y_base = rf_base.predict(X_tst)\n",
    "    err_base = np.sum(np.abs(y_tst-y_base))/len(y_tst)\n",
    "    err_arr[3, r] = err_base\n",
    "\n",
    "    mf = DiPrimeCForest(n_trees=10,max_depth=d_full,max_features=5,partition=False)\n",
    "    mf.fit(X_tr,y_tr,A,cat_idx,bnds_y)\n",
    "    y_mf = (mf.predict(X_tst,cat_idx) >= 0.5).astype(np.float)\n",
    "    err_mf = np.sum(np.abs(y_tst-y_mf))/len(y_tst)\n",
    "    err_arr[4, r] = err_mf\n",
    "\n",
    "    dpmf = DiPrimeCForest(n_trees=10,max_depth=d_part,max_features=1)\n",
    "    dpmf.fit(X_tr,y_tr,A,cat_idx,bnds_y,eps=2,b_med=0.5)\n",
    "    y_dpmf = (dpmf.predict(X_tst,cat_idx) >= 0.5).astype(np.float)\n",
    "    err_dpmf = np.sum(np.abs(y_tst-y_dpmf))/len(y_tst)\n",
    "    err_arr[5, r] = err_dpmf\n",
    "    \n",
    "    dpmf = DiPrimeCForest(n_trees=10,max_depth=d_part,max_features=5)\n",
    "    dpmf.fit(X_tr,y_tr,A,cat_idx,bnds_y,eps=2,b_med=0.5)\n",
    "    y_dpmf = (dpmf.predict(X_tst,cat_idx) >= 0.5).astype(np.float)\n",
    "    err_dpmf = np.sum(np.abs(y_tst-y_dpmf))/len(y_tst)\n",
    "    err_arr[6, r] = err_dpmf\n",
    "\n",
    "    dpdmf = DiPrimeFlipCForest(n_trees=10,max_depth=d_part,max_features=5)\n",
    "    dpdmf.fit(X_tr,y_tr,A,cat_idx,bnds_y,eps=2,b_med=0.5)\n",
    "    y_dpdmf = (dpdmf.predict(X_tst,cat_idx) >= 0.5).astype(np.float)\n",
    "    err_dpdmf = np.sum(np.abs(y_tst-y_dpdmf))/len(y_tst)\n",
    "    err_arr[7, r] = err_dpdmf\n",
    "\n",
    "    dperf = DPRandCForest(n_trees=10,max_depth=d_full,max_features=1)\n",
    "    dperf.fit(X_tr,y_tr,A,cat_idx,bnds_y,eps=4)\n",
    "    y_dperf = dperf.predict(X_tst,cat_idx)\n",
    "    err_dperf = np.sum(np.abs(y_tst-y_dperf))/len(y_tst)\n",
    "    err_arr[8, r] = err_dperf"
   ]
  },
  {
   "cell_type": "code",
   "execution_count": 39,
   "metadata": {},
   "outputs": [
    {
     "name": "stdout",
     "output_type": "stream",
     "text": [
      "Error for  DP-DF  is  0.2192 +/- 0.005422050907752455\n",
      "Error for  DP-RF  is  0.20836666666666667 +/- 0.005369626059425341\n",
      "Error for  Random forest  is  0.1812666666666667 +/- 0.0064986892877596245\n",
      "Error for  ERT  is  0.18636666666666662 +/- 0.006435076183635178\n",
      "Error for  Median trees  is  0.2105 +/- 0.0053151333694242235\n",
      "Error for  DiPriMe  is  0.21723333333333333 +/- 0.006226345309589134\n",
      "Error for  DiPriMeExp  is  0.21606666666666668 +/- 0.005476933265034547\n",
      "Error for  DiPriMeFlip  is  0.2192 +/- 0.005422050907752455\n",
      "Error for  DP-ERT  is  0.326157552634347 +/- 0.0037052738422008505\n"
     ]
    }
   ],
   "source": [
    "find_errors_with_bars(err_arr, algo_names, 0.95)"
   ]
  },
  {
   "cell_type": "markdown",
   "metadata": {},
   "source": [
    "### Wall-Following Robot Navigation\n",
    "\n",
    "This dataset has 5456 data instances with 24 attributes. The target variable is the last attribute binarized such that \"move-forward\" corresponds to 0 and all other values correspond to 1.\n",
    "\n",
    "Link: https://archive.ics.uci.edu/ml/datasets/Wall-Following+Robot+Navigation+Data\n",
    "\n",
    "#### Read data:"
   ]
  },
  {
   "cell_type": "code",
   "execution_count": 30,
   "metadata": {},
   "outputs": [],
   "source": [
    "data_path = \"../Datasets/Wall-Following_Robot_Nav/sensor_readings_24.data\"\n",
    "df_raw = pd.read_csv(data_path,index_col=False,header=None)\n",
    "df = df_raw.copy()\n",
    "df.loc[df_raw[24]=='Move-Forward',[24]] = 0 # Binarizing class\n",
    "df.loc[df_raw[24]!='Move-Forward',[24]] = 1 # Binarizing class\n",
    "df_raw = df.copy()\n",
    "\n",
    "attribute_names = df_raw.columns[:-1]\n",
    "\n",
    "df = pd.DataFrame()\n",
    "for col in df_raw.columns:\n",
    "    if col != 24:\n",
    "        df[col] = pd.cut(df_raw[col],bins=5,labels=False)\n",
    "df[24] = df_raw[24]\n",
    "\n",
    "Xycat = df.to_numpy(np.float)\n",
    "Xcat = Xycat[:,:-1]\n",
    "y = Xycat[:,-1]"
   ]
  },
  {
   "cell_type": "code",
   "execution_count": 32,
   "metadata": {},
   "outputs": [
    {
     "name": "stderr",
     "output_type": "stream",
     "text": [
      "100%|██████████| 10/10 [02:08<00:00, 12.83s/it]\n"
     ]
    }
   ],
   "source": [
    "err_arr = np.zeros((9, num_runs))\n",
    "min_occ = 25  # Min leaf node occupancy\n",
    "\n",
    "cat_idx = []\n",
    "A = gen_attdict(Xy[:,:-1],cat_idx) \n",
    "bnds_y = np.array([0,1]) # Bound on target value\n",
    "Acat = gen_attdict(Xcat,list(range(Xcat.shape[1])))\n",
    "C = [0,1]\n",
    "\n",
    "for r in tqdm(range(num_runs)):\n",
    "    ## Train test split\n",
    "    train_size = int(np.floor(0.9*Xycat.shape[0]))\n",
    "    test_size = Xycat.shape[0]-train_size\n",
    "    shuffle_idx = rn.permutation(Xycat.shape[0])\n",
    "    train_idx = shuffle_idx[:train_size]\n",
    "    test_idx = shuffle_idx[train_size:]\n",
    "\n",
    "    d_full = tree_depth(train_size, min_occ)\n",
    "    d_mult = tree_depth(train_size, min_occ, num_bins=5)\n",
    "    d_part = tree_depth(train_size, min_occ, partition=True, num_trees=10)    \n",
    "\n",
    "    Xycat_tr = [list(a) for a in list(Xycat[train_idx,:])]\n",
    "    Xcat_tst = [list(a) for a in list(Xycat[test_idx,:-1])]\n",
    "    y_tst = list(y[test_idx])\n",
    "\n",
    "    dpdf = DP_SysFor(records=Xycat_tr, max_height=d_mult, target_attribute_index=24, num_trees=10,\n",
    "                     attribute_names=attribute_names,pruning=True)\n",
    "    y_pred = dpdf.classify_list(Xcat_tst)\n",
    "    y_diff = [y_pred[i] != y_tst[i] for i in range(len(y_tst))]\n",
    "    err_dpdf = sum(y_diff)/len(y_tst)\n",
    "\n",
    "    Xy = df_raw.to_numpy(dtype=np.float)\n",
    "    X_tr = Xy[train_idx,:-1]\n",
    "    X_tst = Xy[test_idx,:-1]\n",
    "    y_tr = Xy[train_idx,-1]\n",
    "    y_tst = Xy[test_idx,-1]\n",
    "\n",
    "    M,N = np.shape(X_tr)\n",
    "\n",
    "    X_tr_cat = Xcat[train_idx,:]\n",
    "    X_tst_cat = Xcat[test_idx,:]\n",
    "    y_tr = y[train_idx]\n",
    "    y_tst = y[test_idx]\n",
    "\n",
    "    err_arr[0, r] = err_dpdf\n",
    "\n",
    "    dprf = DPRF(n_trees=10,max_depth=d_mult)\n",
    "    dprf.fit(X_tr_cat,y_tr,Acat,C,eps=2)\n",
    "    y_dprf = dprf.predict(X_tst_cat,C)\n",
    "    err_dprf = np.sum(np.abs(y_tst-y_dprf))/len(y_tst)\n",
    "    err_arr[1, r] = err_dprf\n",
    "\n",
    "    rf = RandomForestClassifier(n_estimators=10,max_depth=d_full,min_samples_leaf=5,max_features=5)\n",
    "    rf.fit(X_tr,y_tr)\n",
    "    y_rf = rf.predict(X_tst)\n",
    "    err_rf = np.sum(np.abs(y_rf-y_tst))/len(y_tst)\n",
    "    err_arr[2, r] = err_rf\n",
    "\n",
    "    rf_base = ExtraTreesClassifier(n_estimators=10,max_depth=d_full,min_samples_leaf=5,max_features=5)\n",
    "    rf_base.fit(X_tr,y_tr)\n",
    "    y_base = rf_base.predict(X_tst)\n",
    "    err_base = np.sum(np.abs(y_tst-y_base))/len(y_tst)\n",
    "    err_arr[3, r] = err_base\n",
    "\n",
    "    mf = DiPrimeCForest(n_trees=10,max_depth=d_full,max_features=5, partition=False)\n",
    "    mf.fit(X_tr,y_tr,A,cat_idx,bnds_y)\n",
    "    y_mf = (mf.predict(X_tst,cat_idx) >= 0.5).astype(np.float)\n",
    "    err_mf = np.sum(np.abs(y_tst-y_mf))/len(y_tst)\n",
    "    err_arr[4, r] = err_mf\n",
    "\n",
    "    dpmf = DiPrimeCForest(n_trees=10,max_depth=d_part,max_features=1)\n",
    "    dpmf.fit(X_tr,y_tr,A,cat_idx,bnds_y,eps=2,b_med=0.5)\n",
    "    y_dpmf = (dpmf.predict(X_tst,cat_idx) >= 0.5).astype(np.float)\n",
    "    err_dpmf = np.sum(np.abs(y_tst-y_dpmf))/len(y_tst)\n",
    "    err_arr[5, r] = err_dpmf\n",
    "\n",
    "    dpmf = DiPrimeCForest(n_trees=10,max_depth=d_part,max_features=5)\n",
    "    dpmf.fit(X_tr,y_tr,A,cat_idx,bnds_y,eps=2,b_med=0.5)\n",
    "    y_dpmf = (dpmf.predict(X_tst,cat_idx) >= 0.5).astype(np.float)\n",
    "    err_dpmf = np.sum(np.abs(y_tst-y_dpmf))/len(y_tst)\n",
    "    err_arr[6, r] = err_dpmf\n",
    "\n",
    "    dpdmf = DiPrimeFlipCForest(n_trees=10,max_depth=d_part,max_features=5)\n",
    "    dpdmf.fit(X_tr,y_tr,A,cat_idx,bnds_y,eps=2,b_med=0.5)\n",
    "    y_dpdmf = (dpdmf.predict(X_tst,cat_idx) >= 0.5).astype(np.float)\n",
    "    err_dpdmf = np.sum(np.abs(y_tst-y_dpdmf))/len(y_tst)\n",
    "    err_arr[7, r] = err_dpdmf\n",
    "\n",
    "    dperf = DPRandCForest(n_trees=10,max_depth=d_full,max_features=1)\n",
    "    dperf.fit(X_tr,y_tr,A,cat_idx,bnds_y,eps=4)\n",
    "    y_dperf = dperf.predict(X_tst,cat_idx)\n",
    "    err_dperf = np.sum(np.abs(y_tst-y_dperf))/len(y_tst)\n",
    "    err_arr[8,r] = err_dperf"
   ]
  },
  {
   "cell_type": "code",
   "execution_count": 33,
   "metadata": {},
   "outputs": [
    {
     "name": "stdout",
     "output_type": "stream",
     "text": [
      "Error for  DP-DF  is  0.4 +/- 0.01404031085744873\n",
      "Error for  DP-RF  is  0.2723443223443224 +/- 0.020608138103012846\n",
      "Error for  Random forest  is  0.012637362637362638 +/- 0.003772310189490347\n",
      "Error for  ERT  is  0.12161172161172162 +/- 0.007777644369740081\n",
      "Error for  Median trees  is  0.046886446886446886 +/- 0.004151423006919813\n",
      "Error for  DiPriMe  is  0.24084249084249082 +/- 0.014791085629664137\n",
      "Error for  DiPriMeExp  is  0.23827838827838826 +/- 0.016115183046184322\n",
      "Error for  DiPriMeFlip  is  0.2161172161172161 +/- 0.018959132864537934\n",
      "Error for  DP-ERT  is  0.40584096502715833 +/- 0.008020294873355803\n"
     ]
    }
   ],
   "source": [
    "find_errors_with_bars(err_arr, algo_names, 0.95)"
   ]
  },
  {
   "cell_type": "markdown",
   "metadata": {},
   "source": [
    "### HIGGS\n",
    "There are 28 features, of which 7 are hand-crafted features. This dataset has 11 million samples, of which we sample 100,000 samples.\n",
    "\n",
    "Link: https://archive.ics.uci.edu/ml/datasets/HIGGS#"
   ]
  },
  {
   "cell_type": "code",
   "execution_count": 34,
   "metadata": {},
   "outputs": [],
   "source": [
    "data_path = \"../Datasets/HIGGS/HIGGS_sampled.csv\"\n",
    "df_raw = pd.read_csv(data_path,index_col=False, header=None)\n",
    "df_y = df_raw.pop(0)\n",
    "df_raw[29] = df_y\n",
    "attribute_names = df_raw.columns[:-1]\n",
    "\n",
    "df = pd.DataFrame()\n",
    "for col in df_raw.columns:\n",
    "    if col != 29:\n",
    "        df[col] = pd.cut(df_raw[col],bins=5,labels=False)\n",
    "df[29] = df_raw[29]\n",
    "\n",
    "Xycat = df.to_numpy(np.float)\n",
    "Xcat = Xycat[:,:-1]\n",
    "y = Xycat[:,-1]\n",
    "Xy = df_raw.to_numpy(dtype=np.float)"
   ]
  },
  {
   "cell_type": "code",
   "execution_count": 35,
   "metadata": {},
   "outputs": [
    {
     "name": "stderr",
     "output_type": "stream",
     "text": [
      "100%|██████████| 10/10 [1:19:04<00:00, 474.49s/it]\n"
     ]
    }
   ],
   "source": [
    "err_arr = np.zeros((9, num_runs))\n",
    "min_occ = 25  # Min leaf node occupancy\n",
    "\n",
    "cat_idx = []\n",
    "A = gen_attdict(Xy[:,:-1],cat_idx) \n",
    "bnds_y = np.array([0,1]) # Bound on target value\n",
    "Acat = gen_attdict(Xcat,list(range(Xcat.shape[1])))\n",
    "C = [0,1]\n",
    "\n",
    "for r in tqdm(range(num_runs)):\n",
    "    ## Train test split\n",
    "    train_size = int(np.floor(0.9*Xycat.shape[0]))\n",
    "    test_size = Xycat.shape[0]-train_size\n",
    "    shuffle_idx = rn.permutation(Xycat.shape[0])\n",
    "    train_idx = shuffle_idx[:train_size]\n",
    "    test_idx = shuffle_idx[train_size:]\n",
    "\n",
    "    d_full = tree_depth(train_size, min_occ)\n",
    "    d_mult = tree_depth(train_size, min_occ, num_bins=5)\n",
    "    d_part = tree_depth(train_size, min_occ, partition=True, num_trees=10)    \n",
    "\n",
    "    Xycat_tr = [list(a) for a in list(Xycat[train_idx,:])]\n",
    "    Xcat_tst = [list(a) for a in list(Xycat[test_idx,:-1])]\n",
    "    y_tst = list(y[test_idx])\n",
    "\n",
    "    dpdf = DP_SysFor(records=Xycat_tr, max_height=d_mult, target_attribute_index=28, num_trees=10,\n",
    "                     attribute_names=attribute_names, pruning=True)\n",
    "    y_pred = dpdf.classify_list(Xcat_tst)\n",
    "    y_diff = [y_pred[i] != y_tst[i] for i in range(len(y_tst))]\n",
    "    err_dpdf = sum(y_diff)/len(y_tst)\n",
    "\n",
    "    X_tr = Xy[train_idx,:-1]\n",
    "    X_tst = Xy[test_idx,:-1]\n",
    "    y_tr = Xy[train_idx,-1]\n",
    "    y_tst = Xy[test_idx,-1]\n",
    "\n",
    "    M,N = np.shape(X_tr)\n",
    "\n",
    "    X_tr_cat = Xcat[train_idx,:]\n",
    "    X_tst_cat = Xcat[test_idx,:]\n",
    "    y_tr = y[train_idx]\n",
    "    y_tst = y[test_idx]\n",
    "\n",
    "    err_arr[0, r] = err_dpdf\n",
    "\n",
    "    dprf = DPRF(n_trees=10,max_depth=d_mult)\n",
    "    dprf.fit(X_tr_cat,y_tr,Acat,C,eps=2)\n",
    "    y_dprf = dprf.predict(X_tst_cat,C)\n",
    "    err_dprf = np.sum(np.abs(y_tst-y_dprf))/len(y_tst)\n",
    "    err_arr[1, r] = err_dprf\n",
    "\n",
    "    rf = RandomForestClassifier(n_estimators=10,max_depth=d_full,min_samples_leaf=5,max_features=5)\n",
    "    rf.fit(X_tr,y_tr)\n",
    "    y_rf = rf.predict(X_tst)\n",
    "    err_rf = np.sum(np.abs(y_rf-y_tst))/len(y_tst)\n",
    "    err_arr[2, r] = err_rf\n",
    "\n",
    "    rf_base = ExtraTreesClassifier(n_estimators=10,max_depth=d_full,min_samples_leaf=5,max_features=5)\n",
    "    rf_base.fit(X_tr,y_tr)\n",
    "    y_base = rf_base.predict(X_tst)\n",
    "    err_base = np.sum(np.abs(y_tst-y_base))/len(y_tst)\n",
    "    err_arr[3, r] = err_base\n",
    "\n",
    "    mf = DiPrimeCForest(n_trees=10,max_depth=d_full,max_features=5,partition=False)\n",
    "    mf.fit(X_tr,y_tr,A,cat_idx,bnds_y)\n",
    "    y_mf = (mf.predict(X_tst,cat_idx) >= 0.5).astype(np.float)\n",
    "    err_mf = np.sum(np.abs(y_tst-y_mf))/len(y_tst)\n",
    "    err_arr[4, r] = err_mf\n",
    "\n",
    "    dpmf = DiPrimeCForest(n_trees=10,max_depth=d_part,max_features=1)\n",
    "    dpmf.fit(X_tr,y_tr,A,cat_idx,bnds_y,eps=2,b_med=0.5)\n",
    "    y_dpmf = (dpmf.predict(X_tst,cat_idx) >= 0.5).astype(np.float)\n",
    "    err_dpmf = np.sum(np.abs(y_tst-y_dpmf))/len(y_tst)\n",
    "    err_arr[5, r] = err_dpmf\n",
    "    \n",
    "    dpmf = DiPrimeCForest(n_trees=10,max_depth=d_part,max_features=5)\n",
    "    dpmf.fit(X_tr,y_tr,A,cat_idx,bnds_y,eps=2,b_med=0.5)\n",
    "    y_dpmf = (dpmf.predict(X_tst,cat_idx) >= 0.5).astype(np.float)\n",
    "    err_dpmf = np.sum(np.abs(y_tst-y_dpmf))/len(y_tst)\n",
    "    err_arr[6, r] = err_dpmf\n",
    "\n",
    "    dpdmf = DiPrimeFlipCForest(n_trees=10,max_depth=d_part,max_features=5)\n",
    "    dpdmf.fit(X_tr,y_tr,A,cat_idx,bnds_y,eps=2,b_med=0.5)\n",
    "    y_dpdmf = (dpdmf.predict(X_tst,cat_idx) >= 0.5).astype(np.float)\n",
    "    err_dpdmf = np.sum(np.abs(y_tst-y_dpdmf))/len(y_tst)\n",
    "    err_arr[7, r] = err_dpdmf\n",
    "\n",
    "    dperf = DPRandCForest(n_trees=10,max_depth=d_full,max_features=1)\n",
    "    dperf.fit(X_tr,y_tr,A,cat_idx,bnds_y,eps=4)\n",
    "    y_dperf = dperf.predict(X_tst,cat_idx)\n",
    "    err_dperf = np.sum(np.abs(y_tst-y_dperf))/len(y_tst)\n",
    "    err_arr[8, r] = err_dperf"
   ]
  },
  {
   "cell_type": "code",
   "execution_count": 36,
   "metadata": {},
   "outputs": [
    {
     "name": "stdout",
     "output_type": "stream",
     "text": [
      "Error for  DP-DF  is  0.46982999999999997 +/- 0.0032858251343625476\n",
      "Error for  DP-RF  is  0.46042000000000005 +/- 0.00315013812045123\n",
      "Error for  Random forest  is  0.29758000000000007 +/- 0.0026548898513236475\n",
      "Error for  ERT  is  0.35248 +/- 0.00345166934745752\n",
      "Error for  Median trees  is  0.30525 +/- 0.0025635840528285127\n",
      "Error for  DiPriMe  is  0.40104000000000006 +/- 0.006551294629454853\n",
      "Error for  DiPriMeExp  is  0.39416 +/- 0.005268952051993138\n",
      "Error for  DiPriMeFlip  is  0.39152 +/- 0.004936874906014537\n",
      "Error for  DP-ERT  is  0.49405705393703486 +/- 0.0006853047681958414\n"
     ]
    }
   ],
   "source": [
    "find_errors_with_bars(err_arr, algo_names, 0.95)"
   ]
  },
  {
   "cell_type": "markdown",
   "metadata": {},
   "source": [
    "### PUC-Rio (Classification of body postures and movements)\n",
    "There are 18 features and over 165,000 samples. The target is body posture with only samples corresponding to sitting or standing postures used.\n",
    "Link: http://groupware.les.inf.puc-rio.br/har#ixzz2PyRdbAfA"
   ]
  },
  {
   "cell_type": "code",
   "execution_count": 37,
   "metadata": {},
   "outputs": [],
   "source": [
    "data_path = \"../Datasets/PUC-Rio/dataset-har-PUC-Rio-ugulino.csv\"\n",
    "df_raw = pd.read_csv(data_path, sep=';', index_col=False)\n",
    "df_raw = df_raw.drop(columns=['user','body_mass_index'])\n",
    "df_raw[df_raw['class'].str.contains('sitting')]['class'] = 'sitting'\n",
    "df_raw[df_raw['class'].str.contains('standing')]['class'] = 'standing'\n",
    "df_raw = df_raw.loc[(df_raw['class'] == 'sitting') | (df_raw['class'] == 'standing')]\n",
    "df_raw['class'] = pd.Categorical(df_raw['class'])\n",
    "df_raw['class'] = df_raw['class'].cat.codes  # Binarizing classes\n",
    "\n",
    "df_raw['z4'] = df_raw['z4'].astype(np.int)\n",
    "for col in df_raw.columns:\n",
    "    if col in ['gender','age','how_tall_in_meters','weight']:\n",
    "        df_raw[col] = pd.Categorical(df_raw[col])\n",
    "        df_raw[col] = df_raw[col].cat.codes\n",
    "\n",
    "attribute_names = df_raw.columns[:-1]\n",
    "\n",
    "df = pd.DataFrame()\n",
    "for col in df_raw.columns:\n",
    "    if col not in ['gender','age','how_tall_in_meters','weight','class']:\n",
    "        df[col] = pd.cut(df_raw[col],bins=5,labels=False)\n",
    "    elif col != 'class':\n",
    "        df[col] = df_raw[col]\n",
    "df['class'] = df_raw['class']\n",
    "\n",
    "Xycat = df.to_numpy(np.float)\n",
    "Xcat = Xycat[:,:-1]\n",
    "y = Xycat[:,-1]\n",
    "Xy = df_raw.to_numpy(dtype=np.float)"
   ]
  },
  {
   "cell_type": "code",
   "execution_count": 38,
   "metadata": {},
   "outputs": [
    {
     "name": "stderr",
     "output_type": "stream",
     "text": [
      "100%|██████████| 10/10 [18:51<00:00, 113.13s/it]\n"
     ]
    }
   ],
   "source": [
    "err_arr = np.zeros((9, num_runs))\n",
    "min_occ = 25  # Min leaf node occupancy\n",
    "\n",
    "cat_idx = [0, 1, 2, 3]\n",
    "A = gen_attdict(Xy[:,:-1],cat_idx) \n",
    "bnds_y = np.array([0,1]) # Bound on target value\n",
    "Acat = gen_attdict(Xcat,list(range(Xcat.shape[1])))\n",
    "C = [0,1]\n",
    "\n",
    "for r in tqdm(range(num_runs)):\n",
    "    ## Train test split\n",
    "    train_size = int(np.floor(0.9*Xycat.shape[0]))\n",
    "    test_size = Xycat.shape[0]-train_size\n",
    "    shuffle_idx = rn.permutation(Xycat.shape[0])\n",
    "    train_idx = shuffle_idx[:train_size]\n",
    "    test_idx = shuffle_idx[train_size:]\n",
    "\n",
    "    d_full = tree_depth(train_size, min_occ)\n",
    "    d_mult = tree_depth(train_size, min_occ, num_bins=5)\n",
    "    d_part = tree_depth(train_size, min_occ, partition=True, num_trees=10)      \n",
    "    \n",
    "    Xycat_tr = [list(a) for a in list(Xycat[train_idx,:])]\n",
    "    Xcat_tst = [list(a) for a in list(Xycat[test_idx,:-1])]\n",
    "    y_tst = list(y[test_idx])\n",
    "\n",
    "    dpdf = DP_SysFor(records=Xycat_tr, max_height=d_mult, target_attribute_index=16, num_trees=10,\n",
    "                     attribute_names=attribute_names, pruning=True)\n",
    "    y_pred = dpdf.classify_list(Xcat_tst)\n",
    "    y_diff = [y_pred[i] != y_tst[i] for i in range(len(y_tst))]\n",
    "    err_dpdf = sum(y_diff)/len(y_tst)\n",
    "\n",
    "    X_tr = Xy[train_idx,:-1]\n",
    "    X_tst = Xy[test_idx,:-1]\n",
    "    y_tr = Xy[train_idx,-1]\n",
    "    y_tst = Xy[test_idx,-1]\n",
    "\n",
    "    M,N = np.shape(X_tr)\n",
    "\n",
    "    X_tr_cat = Xcat[train_idx,:]\n",
    "    X_tst_cat = Xcat[test_idx,:]\n",
    "    y_tr = y[train_idx]\n",
    "    y_tst = y[test_idx]\n",
    "\n",
    "    err_arr[0, r] = err_dpdf\n",
    "\n",
    "    dprf = DPRF(n_trees=10,max_depth=d_mult)\n",
    "    dprf.fit(X_tr_cat,y_tr,Acat,C,eps=2)\n",
    "    y_dprf = dprf.predict(X_tst_cat,C)\n",
    "    err_dprf = np.sum(np.abs(y_tst-y_dprf))/len(y_tst)\n",
    "    err_arr[1, r] = err_dprf\n",
    "\n",
    "    rf = RandomForestClassifier(n_estimators=10,max_depth=d_full,min_samples_leaf=5,max_features=5)\n",
    "    rf.fit(X_tr,y_tr)\n",
    "    y_rf = rf.predict(X_tst)\n",
    "    err_rf = np.sum(np.abs(y_rf-y_tst))/len(y_tst)\n",
    "    err_arr[2, r] = err_rf\n",
    "\n",
    "    rf_base = ExtraTreesClassifier(n_estimators=10,max_depth=d_full,min_samples_leaf=5,max_features=5)\n",
    "    rf_base.fit(X_tr,y_tr)\n",
    "    y_base = rf_base.predict(X_tst)\n",
    "    err_base = np.sum(np.abs(y_tst-y_base))/len(y_tst)\n",
    "    err_arr[3, r] = err_base\n",
    "\n",
    "    mf = DiPrimeCForest(n_trees=10,max_depth=d_full,max_features=5,partition=False)\n",
    "    mf.fit(X_tr,y_tr,A,cat_idx,bnds_y)\n",
    "    y_mf = (mf.predict(X_tst,cat_idx) >= 0.5).astype(np.float)\n",
    "    err_mf = np.sum(np.abs(y_tst-y_mf))/len(y_tst)\n",
    "    err_arr[4, r] = err_mf\n",
    "\n",
    "    dpmf = DiPrimeCForest(n_trees=10,max_depth=d_part,max_features=1)\n",
    "    dpmf.fit(X_tr,y_tr,A,cat_idx,bnds_y,eps=2,b_med=0.5)\n",
    "    y_dpmf = (dpmf.predict(X_tst,cat_idx) >= 0.5).astype(np.float)\n",
    "    err_dpmf = np.sum(np.abs(y_tst-y_dpmf))/len(y_tst)\n",
    "    err_arr[5, r] = err_dpmf\n",
    "\n",
    "    dpmf = DiPrimeCForest(n_trees=10,max_depth=d_part,max_features=5)\n",
    "    dpmf.fit(X_tr,y_tr,A,cat_idx,bnds_y,eps=2,b_med=0.5)\n",
    "    y_dpmf = (dpmf.predict(X_tst,cat_idx) >= 0.5).astype(np.float)\n",
    "    err_dpmf = np.sum(np.abs(y_tst-y_dpmf))/len(y_tst)\n",
    "    err_arr[6, r] = err_dpmf\n",
    "\n",
    "    dpdmf = DiPrimeFlipCForest(n_trees=10,max_depth=d_part,max_features=5)\n",
    "    dpdmf.fit(X_tr,y_tr,A,cat_idx,bnds_y,eps=2,b_med=0.5)\n",
    "    y_dpdmf = (dpdmf.predict(X_tst,cat_idx) >= 0.5).astype(np.float)\n",
    "    err_dpdmf = np.sum(np.abs(y_tst-y_dpdmf))/len(y_tst)\n",
    "    err_arr[7, r] = err_dpdmf\n",
    "\n",
    "    dperf = DPRandCForest(n_trees=10,max_depth=d_full,max_features=1)\n",
    "    dperf.fit(X_tr,y_tr,A,cat_idx,bnds_y,eps=4)\n",
    "    y_dperf = dperf.predict(X_tst,cat_idx)\n",
    "    err_dperf = np.sum(np.abs(y_tst-y_dperf))/len(y_tst)\n",
    "    err_arr[8, r] = err_dperf"
   ]
  },
  {
   "cell_type": "code",
   "execution_count": 39,
   "metadata": {},
   "outputs": [
    {
     "name": "stdout",
     "output_type": "stream",
     "text": [
      "Error for  DP-DF  is  0.48481787572696666 +/- 0.003592923010573862\n",
      "Error for  DP-RF  is  0.01462095704519947 +/- 0.009206642070487207\n",
      "Error for  Random forest  is  2.0406081012141617e-05 +/- 2.9195261950926317e-05\n",
      "Error for  ERT  is  1.0203040506070808e-05 +/- 2.1896446463194738e-05\n",
      "Error for  Median trees  is  0.0 +/- nan\n",
      "Error for  DiPriMe  is  0.0007958371594735232 +/- 0.0006687881969436119\n",
      "Error for  DiPriMeExp  is  0.0002754820936639119 +/- 0.00010850469281461072\n",
      "Error for  DiPriMeFlip  is  0.00031629425568819507 +/- 0.0002872619431017606\n",
      "Error for  DP-ERT  is  0.21334922215487548 +/- 0.022362387277729\n"
     ]
    }
   ],
   "source": [
    "find_errors_with_bars(err_arr, algo_names, 0.95)"
   ]
  },
  {
   "cell_type": "markdown",
   "metadata": {},
   "source": [
    "### Examination of balancedness and node counts\n",
    "We examine the balancedness of the splits with trees learned on the Wall-following Robot Navigation data."
   ]
  },
  {
   "cell_type": "code",
   "execution_count": 8,
   "metadata": {},
   "outputs": [],
   "source": [
    "data_path = \"../Datasets/Wall-Following_Robot_Nav/sensor_readings_24.data\"\n",
    "df_raw = pd.read_csv(data_path,index_col=False,header=None)\n",
    "df = df_raw.copy()\n",
    "df.loc[df_raw[24]=='Move-Forward',[24]] = 0 # Binarizing class\n",
    "df.loc[df_raw[24]!='Move-Forward',[24]] = 1 # Binarizing class\n",
    "df_raw = df.copy()\n",
    "\n",
    "attribute_names = df_raw.columns[:-1]\n",
    "\n",
    "df = pd.DataFrame()\n",
    "for col in df_raw.columns:\n",
    "    if col != 24:\n",
    "        df[col] = pd.cut(df_raw[col],bins=5,labels=False)\n",
    "df[24] = df_raw[24]\n",
    "\n",
    "Xycat = df.to_numpy(np.float)\n",
    "Xcat = Xycat[:,:-1]\n",
    "y = Xycat[:,-1]\n",
    "Xy = df_raw.to_numpy(dtype=np.float)"
   ]
  },
  {
   "cell_type": "code",
   "execution_count": 9,
   "metadata": {},
   "outputs": [],
   "source": [
    "min_occ = 25  # Min leaf node occupancy\n",
    "\n",
    "cat_idx = []\n",
    "A = gen_attdict(Xy[:,:-1],cat_idx) \n",
    "bnds_y = np.array([0,1]) # Bound on target value\n",
    "Acat = gen_attdict(Xcat,list(range(Xcat.shape[1])))\n",
    "C = [0,1]\n",
    "\n",
    "## Train test split\n",
    "train_size = int(np.floor(0.9*Xycat.shape[0]))\n",
    "test_size = Xycat.shape[0]-train_size\n",
    "shuffle_idx = rn.permutation(Xycat.shape[0])\n",
    "train_idx = shuffle_idx[:train_size]\n",
    "test_idx = shuffle_idx[train_size:]\n",
    "\n",
    "d_full = tree_depth(train_size, min_occ)\n",
    "d_mult = tree_depth(train_size, min_occ, num_bins=5)\n",
    "d_part = tree_depth(train_size, min_occ, partition=True, num_trees=10)     \n",
    "    \n",
    "Xycat_tr = [list(a) for a in list(Xycat[train_idx,:])]\n",
    "Xcat_tst = [list(a) for a in list(Xycat[test_idx,:-1])]\n",
    "y_tst = list(y[test_idx])\n",
    "\n",
    "dpdf = DP_SysFor(records=Xycat_tr, max_height=d_mult, target_attribute_index=24, num_trees=10,\n",
    "                attribute_names=attribute_names,pruning=True)\n",
    "y_pred = dpdf.classify_list(Xcat_tst)\n",
    "y_diff = [y_pred[i] != y_tst[i] for i in range(len(y_tst))]\n",
    "err_dpdf = sum(y_diff)/len(y_tst)\n",
    "\n",
    "Xy = df_raw.to_numpy(dtype=np.float)\n",
    "X_tr = Xy[train_idx,:-1]\n",
    "X_tst = Xy[test_idx,:-1]\n",
    "y_tr = Xy[train_idx,-1]\n",
    "y_tst = Xy[test_idx,-1]\n",
    "\n",
    "M,N = np.shape(X_tr)\n",
    "\n",
    "X_tr_cat = Xcat[train_idx,:]\n",
    "X_tst_cat = Xcat[test_idx,:]\n",
    "y_tr = y[train_idx]\n",
    "y_tst = y[test_idx]\n",
    "\n",
    "dprf = DPRF(n_trees=10,max_depth=d_mult)\n",
    "dprf.fit(X_tr_cat,y_tr,Acat,C,eps=2)\n",
    "y_dprf = dprf.predict(X_tst_cat,C)\n",
    "err_dprf = np.sum(np.abs(y_tst-y_dprf))/len(y_tst)\n",
    "\n",
    "dpmf = DiPrimeCForest(n_trees=10,max_depth=d_part,max_features=5, partition=False)\n",
    "dpmf.fit(X_tr,y_tr,A,cat_idx,bnds_y,eps=2,b_med=0.5)\n",
    "y_dpmf = (dpmf.predict(X_tst,cat_idx) >= 0.5).astype(np.float)\n",
    "err_dpmf = np.sum(np.abs(y_tst-y_dpmf))/len(y_tst)\n",
    "\n",
    "dpdmf = DiPrimeFlipCForest(n_trees=10,max_depth=d_part,max_features=5, partition=False)\n",
    "dpdmf.fit(X_tr,y_tr,A,cat_idx,bnds_y,eps=2,b_med=0.5)\n",
    "y_dpdmf = (dpdmf.predict(X_tst,cat_idx) >= 0.5).astype(np.float)\n",
    "err_dpdmf = np.sum(np.abs(y_tst-y_dpdmf))/len(y_tst)\n",
    "\n",
    "dperf = DPRandCForest(n_trees=10,max_depth=d_full,max_features=1)\n",
    "dperf.fit(X_tr,y_tr,A,cat_idx,bnds_y,eps=4)\n",
    "y_dperf = dperf.predict(X_tst,cat_idx)\n",
    "err_dperf = np.sum(np.abs(y_tst-y_dperf))/len(y_tst)"
   ]
  },
  {
   "cell_type": "code",
   "execution_count": 12,
   "metadata": {},
   "outputs": [
    {
     "name": "stdout",
     "output_type": "stream",
     "text": [
      "7 3 4\n"
     ]
    }
   ],
   "source": [
    "print(d_full, d_mult, d_part)"
   ]
  },
  {
   "cell_type": "code",
   "execution_count": 21,
   "metadata": {},
   "outputs": [
    {
     "name": "stdout",
     "output_type": "stream",
     "text": [
      "Average node count for DP-DF:  407.3\n"
     ]
    }
   ],
   "source": [
    "node_count_avg = 0\n",
    "for tree in dpdf._forest:\n",
    "    node_list = [tree._root_node]\n",
    "    node_count = 0\n",
    "    while node_list:\n",
    "        node_count += 1\n",
    "        curr_node = node_list.pop(0)\n",
    "        if curr_node._children is not None:\n",
    "            node_list.extend(curr_node._children)\n",
    "    node_count_avg += node_count\n",
    "print('Average node count for DP-DF: ',node_count_avg/len(dpdf._forest))"
   ]
  },
  {
   "cell_type": "code",
   "execution_count": 23,
   "metadata": {},
   "outputs": [
    {
     "name": "stdout",
     "output_type": "stream",
     "text": [
      "Average node count for DP-RF:  104.0\n"
     ]
    }
   ],
   "source": [
    "node_count_avg = 0\n",
    "for tree in dprf.trees:\n",
    "    node_list = [tree]\n",
    "    node_count = 0\n",
    "    while node_list:\n",
    "        node_count += 1\n",
    "        curr_node = node_list.pop(0)\n",
    "        if curr_node.children:\n",
    "            node_list.extend(curr_node.children)\n",
    "    node_count_avg += node_count\n",
    "print('Average node count for DP-RF: ',node_count_avg/len(dprf.trees))"
   ]
  },
  {
   "cell_type": "markdown",
   "metadata": {},
   "source": [
    "##### Checking balancedness of trees"
   ]
  },
  {
   "cell_type": "code",
   "execution_count": 13,
   "metadata": {},
   "outputs": [
    {
     "name": "stdout",
     "output_type": "stream",
     "text": [
      "SD of leaf counts for DP-DF:  5.5936898886755175\n"
     ]
    }
   ],
   "source": [
    "leaf_counts = []\n",
    "for tree in dpdf._forest:\n",
    "    node_list = [tree._root_node]\n",
    "    while node_list:\n",
    "        curr_node = node_list.pop(0)\n",
    "        if curr_node._children is not None:\n",
    "            node_list.extend(curr_node._children)\n",
    "        else:\n",
    "            #print(curr_node._attribute_name)\n",
    "            leaf_counts.append(curr_node._count)\n",
    "#print(leaf_counts)\n",
    "leaf_counts = np.array(leaf_counts)\n",
    "print('SD of leaf counts for DP-DF: ', np.std(leaf_counts)/np.mean(leaf_counts))\n",
    "low_occ_dpdf = np.copy(leaf_counts)"
   ]
  },
  {
   "cell_type": "code",
   "execution_count": 14,
   "metadata": {},
   "outputs": [
    {
     "name": "stdout",
     "output_type": "stream",
     "text": [
      "SD of leaf counts for DP-RF:  2.1736973227133802\n"
     ]
    }
   ],
   "source": [
    "leaf_counts = []\n",
    "for tree in dprf.trees:\n",
    "    node_list = [tree]\n",
    "    while node_list:\n",
    "        curr_node = node_list.pop(0)\n",
    "        if curr_node.children:\n",
    "            node_list.extend(curr_node.children)\n",
    "        else:\n",
    "            leaf_counts.append(curr_node.count)\n",
    "#print(leaf_counts)\n",
    "leaf_counts = np.array(leaf_counts)\n",
    "print('SD of leaf counts for DP-RF: ', np.std(leaf_counts)/np.mean(leaf_counts))\n",
    "low_occ_dprf = np.copy(leaf_counts)"
   ]
  },
  {
   "cell_type": "code",
   "execution_count": 15,
   "metadata": {},
   "outputs": [
    {
     "name": "stdout",
     "output_type": "stream",
     "text": [
      "SD of leaf counts for DP-ERT:  3.348425004162907\n"
     ]
    }
   ],
   "source": [
    "leaf_counts = []\n",
    "for tree in dperf.trees:\n",
    "    node_list = [tree]\n",
    "    while node_list:\n",
    "        curr_node = node_list.pop(0)\n",
    "        if curr_node.left is not None and curr_node.right is not None:\n",
    "            node_list.extend([curr_node.left, curr_node.right])\n",
    "        else:\n",
    "            leaf_counts.append(curr_node.count)\n",
    "#print(leaf_counts)\n",
    "leaf_counts = np.array(leaf_counts)\n",
    "print('SD of leaf counts for DP-ERT: ', np.std(leaf_counts)/np.mean(leaf_counts))\n",
    "low_occ_dperf = np.copy(leaf_counts)"
   ]
  },
  {
   "cell_type": "code",
   "execution_count": 16,
   "metadata": {},
   "outputs": [
    {
     "name": "stdout",
     "output_type": "stream",
     "text": [
      "SD of leaf counts for DiPriMeExp tree:  0.555059522145869\n"
     ]
    }
   ],
   "source": [
    "leaf_counts = []\n",
    "for tree in dpmf.trees:\n",
    "    node_list = [tree]\n",
    "    while node_list:\n",
    "        curr_node = node_list.pop(0)\n",
    "        if curr_node.left is not None and curr_node.right is not None:\n",
    "            node_list.extend([curr_node.left, curr_node.right])\n",
    "        else:\n",
    "            leaf_counts.append(curr_node.count)\n",
    "#print(leaf_counts)\n",
    "leaf_counts = np.array(leaf_counts)\n",
    "print('SD of leaf counts for DiPriMeExp tree: ', np.std(leaf_counts)/np.mean(leaf_counts))\n",
    "low_occ_dpmf = np.copy(leaf_counts)"
   ]
  },
  {
   "cell_type": "code",
   "execution_count": 17,
   "metadata": {
    "scrolled": true
   },
   "outputs": [
    {
     "name": "stderr",
     "output_type": "stream",
     "text": [
      "findfont: Font family ['Microsoft Sans Serif'] not found. Falling back to DejaVu Sans.\n"
     ]
    },
    {
     "data": {
      "image/png": "[encoded data removed]",
      "text/plain": [
       "<Figure size 2160x1080 with 4 Axes>"
      ]
     },
     "metadata": {
      "needs_background": "light"
     },
     "output_type": "display_data"
    }
   ],
   "source": [
    "bins = np.linspace(0,len(y_tr)/4,24)\n",
    "figx, figy = (2, 2)  # Configure subplot layout\n",
    "label_angle = -45  # Angle of xlabels\n",
    "plt.figure(figsize=(30,15))\n",
    "plt.subplot(figx,figy,1)\n",
    "counts,bins,_ = plt.hist(low_occ_dpmf,bins,density=False,color='tab:red',alpha=0.8,label='DiPriMe')\n",
    "\n",
    "plt.legend(prop={'size':40,'family':'Microsoft Sans Serif'})\n",
    "xticks = np.linspace(0,len(y_tr)/4,12)\n",
    "xtick_labels = [\"{:4.2f}\".format(x) for x in xticks/len(y_tr)]\n",
    "plt.xticks(xticks,labels=xtick_labels,rotation=label_angle)\n",
    "plt.xticks(fontsize=40,fontname='Microsoft Sans Serif')\n",
    "plt.yticks(fontsize=40,fontname='Microsoft Sans Serif')\n",
    "plt.xlabel(\"Fraction of data instances\",fontsize=40,fontname='Microsoft Sans Serif')\n",
    "plt.ylabel(\"Number of leaves\",fontsize=40,fontname='Microsoft Sans Serif')\n",
    "\n",
    "plt.subplot(figx,figy,2)\n",
    "counts,bins,_ = plt.hist(low_occ_dpdf,bins,density=False,color='tab:orange',alpha=0.8,label='DP-DF')\n",
    "\n",
    "plt.legend(prop={'size':40,'family':'Microsoft Sans Serif'})\n",
    "xticks = np.linspace(0,len(y_tr)/4,12)\n",
    "xtick_labels = [\"{:4.2f}\".format(x) for x in xticks/len(y_tr)]\n",
    "plt.xticks(xticks,labels=xtick_labels,rotation=label_angle)\n",
    "plt.xticks(fontsize=40,fontname='Microsoft Sans Serif')\n",
    "plt.yticks(fontsize=40,fontname='Microsoft Sans Serif')\n",
    "plt.xlabel(\"Fraction of data instances\",fontsize=40,fontname='Microsoft Sans Serif')\n",
    "plt.ylabel(\"Number of leaves\",fontsize=40,fontname='Microsoft Sans Serif')\n",
    "\n",
    "plt.subplot(figx,figy,3)\n",
    "counts,bins,_ = plt.hist(low_occ_dprf,bins,density=False,color='tab:blue',alpha=0.8,label='DP-RF')\n",
    "\n",
    "plt.legend(prop={'size':40,'family':'Microsoft Sans Serif'})\n",
    "xticks = np.linspace(0,len(y_tr)/4,12)\n",
    "xtick_labels = [\"{:4.2f}\".format(x) for x in xticks/len(y_tr)]\n",
    "plt.xticks(xticks,labels=xtick_labels,rotation=label_angle)\n",
    "plt.xticks(fontsize=40,fontname='Microsoft Sans Serif')\n",
    "plt.yticks(fontsize=40,fontname='Microsoft Sans Serif')\n",
    "plt.xlabel(\"Fraction of data instances\",fontsize=40,fontname='Microsoft Sans Serif')\n",
    "plt.ylabel(\"Number of leaves\",fontsize=40,fontname='Microsoft Sans Serif')\n",
    "\n",
    "plt.subplot(figx,figy,4)\n",
    "counts,bins,_ = plt.hist(low_occ_dperf,bins,density=False,color='tab:green',alpha=0.8,label='DP-ERT')\n",
    "\n",
    "plt.legend(prop={'size':40,'family':'Microsoft Sans Serif'})\n",
    "xticks = np.linspace(0,len(y_tr)/4,12)\n",
    "xtick_labels = [\"{:4.2f}\".format(x) for x in xticks/len(y_tr)]\n",
    "plt.xticks(xticks,labels=xtick_labels,rotation=label_angle)\n",
    "plt.xticks(fontsize=40,fontname='Microsoft Sans Serif')\n",
    "plt.yticks(fontsize=40,fontname='Microsoft Sans Serif')\n",
    "plt.xlabel(\"Fraction of data instances\",fontsize=40,fontname='Microsoft Sans Serif')\n",
    "plt.ylabel(\"Number of leaves\",fontsize=40,fontname='Microsoft Sans Serif')\n",
    "\n",
    "fig = plt.gcf()\n",
    "fig.align_ylabels()\n",
    "fig.tight_layout()\n",
    "plt.savefig('../DiPriMeFlip_Results/node_occ.png',bbox_inches='tight')"
   ]
  },
  {
   "cell_type": "code",
   "execution_count": null,
   "metadata": {},
   "outputs": [],
   "source": []
  }
 ],
 "metadata": {
  "kernelspec": {
   "display_name": "Python 3",
   "language": "python",
   "name": "python3"
  },
  "language_info": {
   "codemirror_mode": {
    "name": "ipython",
    "version": 3
   },
   "file_extension": ".py",
   "mimetype": "text/x-python",
   "name": "python",
   "nbconvert_exporter": "python",
   "pygments_lexer": "ipython3",
   "version": "3.6.10"
  }
 },
 "nbformat": 4,
 "nbformat_minor": 4
}
